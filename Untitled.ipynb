{
  "cells": [
    {
      "cell_type": "markdown",
      "metadata": {
        "id": "view-in-github",
        "colab_type": "text"
      },
      "source": [
        "<a href=\"https://colab.research.google.com/github/DmitriySechkin/new-python-repo/blob/main/Untitled.ipynb\" target=\"_parent\"><img src=\"https://colab.research.google.com/assets/colab-badge.svg\" alt=\"Open In Colab\"/></a>"
      ]
    },
    {
      "cell_type": "code",
      "execution_count": 7,
      "metadata": {
        "id": "1pZ9IeGQGR6G"
      },
      "outputs": [],
      "source": [
        "import requests\n",
        "import json\n",
        "from concurrent.futures import ThreadPoolExecutor\n",
        "from tqdm import tqdm\n",
        "import time\n",
        "from dataclasses import dataclass"
      ],
      "id": "1pZ9IeGQGR6G"
    },
    {
      "cell_type": "code",
      "execution_count": 8,
      "metadata": {
        "id": "oTsm-zv4GR6H"
      },
      "outputs": [],
      "source": [
        "\n",
        "\n",
        "@dataclass\n",
        "class ClusterId:\n",
        "    region: str = \"area\"\n",
        "    metro: str = \"metro\"\n",
        "    professional_role: str = \"professional_role\"\n",
        "    salary: str = \"salary\"\n",
        "    experience: str = \"experience\"\n",
        "\n",
        "class HhParser:\n",
        "\n",
        "    def __init__(self, cluster_id: ClusterId):\n",
        "        self._base_url = 'https://api.hh.ru/vacancies?clusters=true'\n",
        "        self.urls = []\n",
        "        self._cluster_id = cluster_id\n",
        "\n",
        "    def get_vacancy_cluster_urls(self):\n",
        "        json = self.get_json(self._base_url)\n",
        "        items = self.get_region_clusters(json)\n",
        "\n",
        "        self.urls.extend((i.get('url'), int(i.get('count'))) for i in self.filter_less_than_2000(items))\n",
        "\n",
        "        more_than_2000 = [i for i in self.filter_more_than_2000(items) if str(i.get('name')) != 'Россия']\n",
        "\n",
        "        extend_region_items = self.get_extend_region_clusters(more_than_2000)\n",
        "\n",
        "        self.urls.extend((i.get('url'), int(i.get('count'))) for i in self.filter_less_than_2000(extend_region_items))\n",
        "        more_than_2000 = [i for i in self.filter_more_than_2000(extend_region_items)]\n",
        "        more_than_2000.extend(i for i in extend_region_items if int(i.get('count')) == 0)\n",
        "\n",
        "        role_items = self.get_items_by_prof_role(more_than_2000)\n",
        "        self.urls.extend((i.get('url'), int(i.get('count'))) for i in self.filter_less_than_2000(role_items))\n",
        "        more_than_2000 = [i for i in self.filter_more_than_2000(role_items)]\n",
        "\n",
        "        experience_items = self.get_items_by_prof_role(more_than_2000)\n",
        "        self.urls.extend((i.get('url'), int(i.get('count'))) for i in self.filter_less_than_2000(experience_items))\n",
        "        more_than_2000 = [i for i in self.filter_more_than_2000(experience_items)]\n",
        "\n",
        "        self.urls = list(set(self.urls))\n",
        "\n",
        "        print(f'The total number of {len(self.urls)} URLs collected')\n",
        "\n",
        "\n",
        "    def get_extend_region_clusters(self, region_items):\n",
        "        items = []\n",
        "\n",
        "        for item in tqdm(region_items, 'Get extend region clusters'):\n",
        "            url = item.get('url')\n",
        "\n",
        "            if url is None:\n",
        "                continue\n",
        "\n",
        "            time.sleep(2)\n",
        "            json = self.get_json(url)\n",
        "\n",
        "            metro_items = self.get_metro_clusters(json)\n",
        "            metro_items = self.filter_metro_station_items(metro_items)\n",
        "\n",
        "            if len(metro_items) > 0:\n",
        "                items.extend(metro_items)\n",
        "            else:\n",
        "                extend_region_items = self.get_region_clusters(json)\n",
        "\n",
        "                if len(extend_region_items) > 1:\n",
        "                    items.extend(extend_region_items[:-1])\n",
        "                else:\n",
        "                    items.extend(extend_region_items)\n",
        "        return items\n",
        "\n",
        "    def get_items_by_prof_role(self, extend_items):\n",
        "        items = []\n",
        "\n",
        "        for item in tqdm(extend_items, 'Get items by prof role'):\n",
        "            url = item.get('url')\n",
        "\n",
        "            if url is None:\n",
        "                continue\n",
        "\n",
        "            time.sleep(1)\n",
        "\n",
        "            json = self.get_json(url)\n",
        "            prof_role_items = self.get_role_clusters(json)\n",
        "\n",
        "            items.extend(prof_role_items)\n",
        "\n",
        "        return items\n",
        "\n",
        "    def get_items_by_experience(self, role_items):\n",
        "        items = []\n",
        "\n",
        "        for item in tqdm(role_items, 'Get items by experience'):\n",
        "            url = item.get('url')\n",
        "\n",
        "            if url is None:\n",
        "                continue\n",
        "\n",
        "            time.sleep(0.5)\n",
        "\n",
        "            json = self.get_json(url)\n",
        "            experience_items = self.get_experience_clusters(json)\n",
        "\n",
        "            items.extend(experience_items)\n",
        "\n",
        "        return items\n",
        "\n",
        "    def filter_less_than_2000(self, items):\n",
        "        return [i for i in items if int(i.get('count')) <= 2000 and int(i.get('count')) != 0]\n",
        "\n",
        "    def filter_more_than_2000(self, items):\n",
        "        return [i for i in items if int(i.get('count')) > 2000]\n",
        "\n",
        "    def get_cluster_items(self, json, cluster_id):\n",
        "        clusters = json.get('clusters')\n",
        "\n",
        "        if not clusters:\n",
        "            print('key error: clusters')\n",
        "            return []\n",
        "\n",
        "        cluster = self.get_cluster_by_id(clusters, cluster_id)\n",
        "\n",
        "        if not cluster:\n",
        "            return []\n",
        "\n",
        "        items = cluster.get('items')\n",
        "\n",
        "        if not items:\n",
        "            print('key error: items')\n",
        "            return []\n",
        "\n",
        "        return items\n",
        "\n",
        "    def get_cluster_by_id(self, clusters, cluster_id):\n",
        "        for cluster in clusters:\n",
        "            _id = str(cluster.get('id'))\n",
        "\n",
        "            if _id == cluster_id:\n",
        "                return cluster\n",
        "\n",
        "        return []\n",
        "\n",
        "    def get_region_clusters(self, json_data):\n",
        "        if json_data:\n",
        "            items = self.get_cluster_items(json_data, self._cluster_id.region)\n",
        "            return  items\n",
        "        else:\n",
        "            print('get_region_clusters: Not found json in get response!')\n",
        "            return []\n",
        "\n",
        "    def get_metro_clusters(self, json_data):\n",
        "        if json_data:\n",
        "            items = self.get_cluster_items(json_data, self._cluster_id.metro)\n",
        "            return items\n",
        "        else:\n",
        "            print('get_metro_clusters: Not found json in get response!')\n",
        "            return []\n",
        "\n",
        "    def get_role_clusters(self, json_data):\n",
        "        if json_data:\n",
        "            items = self.get_cluster_items(json_data, self._cluster_id.professional_role)\n",
        "            return items\n",
        "        else:\n",
        "            print('get_role_clusters: Not found json in get response!')\n",
        "            return []\n",
        "\n",
        "    def get_experience_clusters(self, json_data):\n",
        "        if json_data:\n",
        "            items = self.get_cluster_items(json_data, self._cluster_id.experience)\n",
        "            return items\n",
        "        else:\n",
        "            print('get_role_clusters: Not found json in get response!')\n",
        "            return []\n",
        "\n",
        "    def filter_metro_station_items(self, metro_items):\n",
        "        return [i for i in metro_items if str(i.get('type')) == 'metro_station']\n",
        "\n",
        "    def get_json(self, url):\n",
        "        response = requests.get(url, verify=False)\n",
        "\n",
        "        if response.status_code == 200:\n",
        "            json = response.json()\n",
        "\n",
        "            if not json:\n",
        "                return None;\n",
        "\n",
        "            return json\n",
        "        else:\n",
        "            print(f\"Failed to get json data by url {url}, status {response.status_code}, text - {response.text}\")\n",
        "            return None\n"
      ],
      "id": "oTsm-zv4GR6H"
    },
    {
      "cell_type": "code",
      "execution_count": null,
      "metadata": {
        "id": "uF4jOgj3GR6K"
      },
      "outputs": [],
      "source": [
        "%%time\n",
        "cluster_id = ClusterId()\n",
        "\n",
        "parser = HhParser(cluster_id)\n",
        "\n",
        "parser.get_vacancy_cluster_urls()"
      ],
      "id": "uF4jOgj3GR6K"
    },
    {
      "cell_type": "code",
      "execution_count": null,
      "metadata": {
        "colab": {
          "base_uri": "https://localhost:8080/"
        },
        "id": "eQbhzWUBGR6M",
        "outputId": "ede64d8c-aba4-4d79-b96c-6a60029326c4"
      },
      "outputs": [
        {
          "output_type": "execute_result",
          "data": {
            "text/plain": [
              "28569"
            ]
          },
          "metadata": {},
          "execution_count": 4
        }
      ],
      "source": [
        "from urllib.parse import urlparse, parse_qs\n",
        "\n",
        "sorted_list = sorted(parser.urls, key=lambda x: x[1])\n",
        "\n",
        "len(sorted_list)"
      ],
      "id": "eQbhzWUBGR6M"
    },
    {
      "cell_type": "code",
      "execution_count": null,
      "metadata": {
        "colab": {
          "base_uri": "https://localhost:8080/"
        },
        "id": "OowBi0bkGR6N",
        "outputId": "2cb11c35-1945-4f58-d7d3-aca507078621"
      },
      "outputs": [
        {
          "output_type": "execute_result",
          "data": {
            "text/plain": [
              "925"
            ]
          },
          "metadata": {},
          "execution_count": 6
        }
      ],
      "source": [
        "from urllib.parse import urlparse, parse_qs, urlencode\n",
        "\n",
        "def parse_and_modify_urls(url_tuples):\n",
        "    url_params_map = {}\n",
        "\n",
        "    # Шаг 1: Группируем URL по набору имен параметров\n",
        "    for url, count in url_tuples:\n",
        "        parsed_url = urlparse(url)\n",
        "        query_params = parse_qs(parsed_url.query)\n",
        "        query_params.pop('clusters', None)  # Убираем параметр 'clusters'\n",
        "        query_param_names = sorted(query_params.keys())  # Получаем наименования параметров и сортируем их\n",
        "        query_param_key = ','.join(query_param_names)\n",
        "\n",
        "        if query_param_key not in url_params_map:\n",
        "            url_params_map[query_param_key] = []\n",
        "\n",
        "        url_params_map[query_param_key].append((url, count))\n",
        "\n",
        "    modified_urls = []\n",
        "\n",
        "    # Шаг 2: Формируем новые URL с суммой количества, не превышающей 2000\n",
        "    for query_param_key, url_count_pairs in url_params_map.items():\n",
        "        total_count = 0\n",
        "        combined_params = []\n",
        "\n",
        "        # Набираем параметры для нового URL\n",
        "        for url, count in url_count_pairs:\n",
        "\n",
        "            if total_count + count <= 2000:\n",
        "                total_count += count\n",
        "                parsed_url = urlparse(url)\n",
        "                query_params = parse_qs(parsed_url.query)\n",
        "                for param_name, param_values in query_params.items():\n",
        "                    combined_params.append((param_name, param_values[0]))  # Добавляем все значения параметров\n",
        "            else:\n",
        "\n",
        "                # Убираем параметр 'clusters' из объединенных параметров, если он есть\n",
        "                combined_params = [(param_name, param_value) for param_name, param_value in combined_params if param_name != 'clusters']\n",
        "\n",
        "                # Преобразуем объединенные параметры в строку\n",
        "                new_query = urlencode(combined_params, doseq=True)\n",
        "                new_url = f\"{parsed_url.scheme}://{parsed_url.netloc}{parsed_url.path}?{new_query}\"\n",
        "                modified_urls.append((new_url, total_count))  # Добавляем новый URL с суммарным количеством\n",
        "\n",
        "                combined_params = []\n",
        "                total_count = count\n",
        "\n",
        "                parsed_url = urlparse(url)\n",
        "                query_params = parse_qs(parsed_url.query)\n",
        "\n",
        "                for param_name, param_values in query_params.items():\n",
        "                    combined_params.append((param_name, param_values[0]))  # Добавляем все значения параметров\n",
        "\n",
        "        # Убираем параметр 'clusters' из объединенных параметров, если он есть\n",
        "        combined_params = [(param_name, param_value) for param_name, param_value in combined_params if param_name != 'clusters']\n",
        "\n",
        "        # Преобразуем объединенные параметры в строку\n",
        "        new_query = urlencode(combined_params, doseq=True)\n",
        "        new_url = f\"{parsed_url.scheme}://{parsed_url.netloc}{parsed_url.path}?{new_query}\"\n",
        "        modified_urls.append((new_url, total_count))  # Добавляем новый URL с суммарным количеством\n",
        "\n",
        "\n",
        "    return modified_urls\n",
        "\n",
        "# Пример использования:\n",
        "url_tuples = [('https://api.hh.ru/vacancies?area=67&clusters=true&professional_role=97', 810),\n",
        "              ('https://api.hh.ru/vacancies?area=73&clusters=true&professional_role=40', 281),\n",
        "              ('https://api.hh.ru/vacancies?clusters=true&area=1818', 281),\n",
        "              ('https://api.hh.ru/vacancies?area=1&clusters=true&metro=96.553', 282),\n",
        "              ('https://api.hh.ru/vacancies?clusters=true&area=2001', 282),\n",
        "              ('https://api.hh.ru/vacancies?area=104&clusters=true&professional_role=49', 282),\n",
        "              ('https://api.hh.ru/vacancies?clusters=true&area=1162', 1282),\n",
        "              ('https://api.hh.ru/vacancies?area=104&clusters=true&professional_role=109', 282),\n",
        "              ('https://api.hh.ru/vacancies?area=1&clusters=true&metro=98.677', 282),\n",
        "              ('https://api.hh.ru/vacancies?clusters=true&area=2048', 283)]\n",
        "\n",
        "modified_urls = parse_and_modify_urls(sorted_list)\n",
        "len(modified_urls)\n"
      ],
      "id": "OowBi0bkGR6N"
    },
    {
      "cell_type": "code",
      "source": [
        "import csv\n",
        "\n",
        "class UrlManager:\n",
        "    def __init__(self, filename):\n",
        "        self.filename = filename\n",
        "\n",
        "    def save_to_csv(self, url_tuples):\n",
        "        with open(self.filename, 'w', newline='') as csvfile:\n",
        "            writer = csv.writer(csvfile)\n",
        "            writer.writerow(['URL', 'Count'])  # Записываем заголовки столбцов\n",
        "            for url, count in url_tuples:\n",
        "                writer.writerow([url, count])\n",
        "\n",
        "    def read_from_csv(self):\n",
        "        url_tuples = []\n",
        "        with open(self.filename, 'r', newline='') as csvfile:\n",
        "            reader = csv.reader(csvfile)\n",
        "            next(reader)  # Пропускаем заголовки\n",
        "            for row in reader:\n",
        "                url_tuples.append((row[0], int(row[1])))  # Преобразуем второй элемент кортежа в число\n",
        "        return url_tuples\n",
        "\n",
        "\n",
        "\n",
        "url_manager = UrlManager('urls.csv')\n",
        "# url_manager.save_to_csv(modified_urls)\n",
        "\n",
        "# read_urls = url_manager.read_from_csv()\n",
        "# print(read_urls)"
      ],
      "metadata": {
        "id": "hI2VddWoKEP9"
      },
      "id": "hI2VddWoKEP9",
      "execution_count": 9,
      "outputs": []
    },
    {
      "cell_type": "code",
      "source": [
        "modified_urls = url_manager.read_from_csv()"
      ],
      "metadata": {
        "id": "hGS4ik4tIeB0"
      },
      "id": "hGS4ik4tIeB0",
      "execution_count": 10,
      "outputs": []
    },
    {
      "cell_type": "code",
      "source": [
        "modified_urls[0]"
      ],
      "metadata": {
        "colab": {
          "base_uri": "https://localhost:8080/"
        },
        "id": "Nh1I1nJEKkFt",
        "outputId": "2c07b636-ad0a-4035-8896-92804c4c020b"
      },
      "id": "Nh1I1nJEKkFt",
      "execution_count": 11,
      "outputs": [
        {
          "output_type": "execute_result",
          "data": {
            "text/plain": [
              "('https://api.hh.ru/vacancies?area=47&professional_role=135&area=23&professional_role=164&area=2065&professional_role=172&area=43&professional_role=101&area=2020&professional_role=124&area=89&professional_role=166&area=25&professional_role=37&area=1454&professional_role=53&area=25&professional_role=139&area=212&professional_role=20&area=58&professional_role=75&area=25&professional_role=15&area=2034&professional_role=28&area=1399&professional_role=3&area=1512&professional_role=72&area=1240&professional_role=50&area=80&professional_role=53&area=80&professional_role=60&area=103&professional_role=116&area=2041&professional_role=36&area=73&professional_role=163&area=75&professional_role=114&area=15&professional_role=154&area=69&professional_role=126&area=73&professional_role=170&area=1440&professional_role=114&area=247&professional_role=123&area=81&professional_role=152&area=131&professional_role=138&area=75&professional_role=60&area=12&professional_role=152&area=63&professional_role=114&area=67&professional_role=17&area=70&professional_role=56&area=2062&professional_role=170&area=107&professional_role=72&area=106&professional_role=17&area=1381&professional_role=14&area=1550&professional_role=149&area=19&professional_role=22&area=56&professional_role=61&area=32&professional_role=126&area=2237&professional_role=174&area=43&professional_role=75&area=1440&professional_role=170&area=103&professional_role=160&area=99&professional_role=158&area=2061&professional_role=125&area=19&professional_role=163&area=63&professional_role=41&area=11&professional_role=36&area=1440&professional_role=32&area=49&professional_role=160&area=1979&professional_role=139&area=2090&professional_role=156&area=2062&professional_role=169&area=63&professional_role=108&area=70&professional_role=157&area=2760&professional_role=75&area=64&professional_role=103&area=106&professional_role=56&area=14&professional_role=150&area=247&professional_role=116&area=247&professional_role=20&area=1007&professional_role=2&area=47&professional_role=1&area=2062&professional_role=151&area=54&professional_role=50&area=2077&professional_role=41&area=25&professional_role=155&area=2025&professional_role=12&area=3&professional_role=25&area=205&professional_role=125&area=67&professional_role=43&area=2083&professional_role=153&area=1440&professional_role=112&area=1440&professional_role=2&area=212&professional_role=154&area=87&professional_role=55&area=17&professional_role=155&area=301&professional_role=14&area=102&professional_role=7&area=103&professional_role=135&area=130&professional_role=174&area=2053&professional_role=38&area=103&professional_role=134&area=63&professional_role=53&area=1440&professional_role=168&area=49&professional_role=50&area=96&professional_role=155&area=159&professional_role=122&area=1291&professional_role=92&area=2053&professional_role=141&area=2077&professional_role=105&area=20&professional_role=60&area=2077&professional_role=87&area=80&professional_role=149&area=1220&professional_role=116&area=205&professional_role=101&area=1220&professional_role=54&area=2083&professional_role=136&area=1440&professional_role=154&area=2041&professional_role=163&area=20&professional_role=41&area=1641&professional_role=22&area=102&professional_role=170&area=15&professional_role=156&area=2061&professional_role=163&area=2065&professional_role=136&area=1007&professional_role=159&area=81&professional_role=1&area=35&professional_role=1&area=98&professional_role=29&area=1291&professional_role=119&area=1007&professional_role=101&area=2090&professional_role=148&area=130&professional_role=166&area=103&professional_role=72&area=75&professional_role=7&area=160&professional_role=95&area=2083&professional_role=26&area=2077&professional_role=154&area=73&professional_role=148&area=87&professional_role=2&area=1375&professional_role=81&area=68&professional_role=156&area=14&professional_role=103&area=1440&professional_role=38&area=247&professional_role=73&area=24&professional_role=166&area=95&professional_role=159&area=87&professional_role=136&area=19&professional_role=91&area=2045&professional_role=7&area=2061&professional_role=87&area=80&professional_role=174&area=63&professional_role=104&area=1220&professional_role=113&area=98&professional_role=36&area=130&professional_role=103&area=1440&professional_role=116&area=1753&professional_role=72&area=1220&professional_role=163&area=177&professional_role=164&area=2760&professional_role=128&area=61&professional_role=41&area=63&professional_role=151&area=2088&professional_role=155&area=14&professional_role=44&area=52&professional_role=150&area=247&professional_role=27&area=1440&professional_role=105&area=1550&professional_role=20&area=32&professional_role=154&area=64&professional_role=22&area=69&professional_role=95&area=1512&professional_role=53&area=15&professional_role=160&area=58&professional_role=12&area=95&professional_role=166&area=301&professional_role=136&area=99&professional_role=159&area=1454&professional_role=163&area=2041&professional_role=41&area=1007&professional_role=160&area=301&professional_role=167&area=63&professional_role=152&area=212&professional_role=11&area=84&professional_role=98&area=2237&professional_role=152&area=81&professional_role=38&area=177&professional_role=29&area=2077&professional_role=103&area=2759&professional_role=98&area=2237&professional_role=56&area=43&professional_role=87&area=15&professional_role=139&area=25&professional_role=105&area=14&professional_role=105&area=87&professional_role=163&area=2090&professional_role=140&area=96&professional_role=164&area=98&professional_role=136&area=2090&professional_role=171&area=2061&professional_role=22&area=247&professional_role=150&area=2041&professional_role=26&area=2062&professional_role=37&area=2061&professional_role=140&area=68&professional_role=155&area=2039&professional_role=13&area=2039&professional_role=26&area=106&professional_role=139&area=14&professional_role=13&area=61&professional_role=125&area=84&professional_role=126&area=41&professional_role=159&area=64&professional_role=160&area=2025&professional_role=171&area=35&professional_role=126&area=2760&professional_role=92&area=130&professional_role=155&area=2061&professional_role=60&area=103&professional_role=170&area=2065&professional_role=73&area=73&professional_role=95&area=20&professional_role=38&area=75&professional_role=54&area=1399&professional_role=37&area=1550&professional_role=55&area=77&professional_role=91&area=2025&professional_role=72&area=1375&professional_role=60&area=55&professional_role=37&area=76&professional_role=11&area=63&professional_role=28&area=106&professional_role=170&area=1979&professional_role=30&area=55&professional_role=103&area=2083&professional_role=116&area=2237&professional_role=151&area=102&professional_role=103&area=84&professional_role=136&area=20&professional_role=17&area=1381&professional_role=159&area=1007&professional_role=170&area=2760&professional_role=32&area=1399&professional_role=36&area=130&professional_role=15&area=1291&professional_role=154&area=12&professional_role=139&area=15&professional_role=101&area=112&professional_role=154&area=73&professional_role=56&area=64&professional_role=92&area=1454&professional_role=151&area=2065&professional_role=71&area=131&professional_role=125&area=1007&professional_role=108&area=102&professional_role=126&area=237&professional_role=152&area=2090&professional_role=164&area=98&professional_role=156&area=2760&professional_role=125&area=1399&professional_role=61&area=237&professional_role=126&area=1753&professional_role=105&area=1440&professional_role=172&area=69&professional_role=136&area=64&professional_role=7&area=79&professional_role=158&area=95&professional_role=158&area=96&professional_role=165&area=58&professional_role=174&area=177&professional_role=1&area=56&professional_role=28&area=20&professional_role=53&area=301&professional_role=156&area=70&professional_role=136&area=1220&professional_role=151&area=24&professional_role=41&area=1240&professional_role=1&area=14&professional_role=95&area=32&professional_role=172&area=58&professional_role=50&area=177&professional_role=154&area=2020&professional_role=157&area=2062&professional_role=59&area=77&professional_role=56&area=22&professional_role=12&area=1399&professional_role=43&area=2065&professional_role=13&area=130&professional_role=26&area=205&professional_role=12&area=1007&professional_role=65&area=2083&professional_role=167&area=2083&professional_role=170&area=2045&professional_role=4&area=75&professional_role=4&area=32&professional_role=2&area=69&professional_role=135&area=1375&professional_role=127&area=69&professional_role=119&area=64&professional_role=61&area=17&professional_role=163&area=237&professional_role=156&area=83&professional_role=36&area=237&professional_role=169&area=68&professional_role=159&area=98&professional_role=167&area=1220&professional_role=140&area=1753&professional_role=137&area=1240&professional_role=164&area=205&professional_role=2&area=2077&professional_role=170&area=32&professional_role=166&area=43&professional_role=36&area=56&professional_role=99&area=1550&professional_role=101&area=47&professional_role=95&area=131&professional_role=41&area=247&professional_role=101&area=1641&professional_role=28&area=103&professional_role=67&area=80&professional_role=114&area=112&professional_role=22&area=2062&professional_role=112&area=1641&professional_role=1&area=61&professional_role=26&area=2065&professional_role=61&area=22&professional_role=101&area=1512&professional_role=38&area=2062&professional_role=148&area=22&professional_role=43&area=67&professional_role=28&area=1550&professional_role=14&area=1454&professional_role=17&area=73&professional_role=153&area=73&professional_role=22&area=106&professional_role=29&area=73&professional_role=29&area=52&professional_role=151&area=237&professional_role=159&area=67&professional_role=124&area=2025&professional_role=7&area=2062&professional_role=168&area=1454&professional_role=41&area=11&professional_role=157&area=20&professional_role=91&area=32&professional_role=41&area=23&professional_role=32&area=1375&professional_role=138&area=107&professional_role=25&area=61&professional_role=42&area=112&professional_role=91&area=61&professional_role=60&area=67&professional_role=101&area=23&professional_role=36&area=130&professional_role=114&area=1381&professional_role=37&area=104&professional_role=50&area=19&professional_role=126&area=2020&professional_role=170&area=2065&professional_role=65&area=1399&professional_role=20&area=87&professional_role=103&area=1753&professional_role=135&area=75&professional_role=56&area=63&professional_role=136&area=106&professional_role=75&area=71&professional_role=61&area=41&professional_role=20&area=237&professional_role=153&area=81&professional_role=119&area=71&professional_role=154&area=1375&professional_role=15&area=73&professional_role=119&area=2020&professional_role=17&area=63&professional_role=135&area=2237&professional_role=161&area=41&professional_role=41&area=237&professional_role=155&area=1220&professional_role=136&area=103&professional_role=107&area=92&professional_role=135&area=1454&professional_role=87&area=103&professional_role=153&area=41&professional_role=136&area=81&professional_role=22&area=2062&professional_role=138&area=1375&professional_role=56&area=49&professional_role=13&area=12&professional_role=41&area=25&professional_role=61&area=1220&professional_role=125&area=25&professional_role=174&area=83&professional_role=87&area=1753&professional_role=172&area=25&professional_role=60&area=58&professional_role=136&area=83&professional_role=170&area=1550&professional_role=30&area=2237&professional_role=16&area=89&professional_role=103&area=1550&professional_role=170&area=2088&professional_role=122&area=83&professional_role=12&area=106&professional_role=53&area=2034&professional_role=93&area=1979&professional_role=88&area=71&professional_role=153&area=92&professional_role=36&area=56&professional_role=87&area=1240&professional_role=7&area=205&professional_role=174&area=2020&professional_role=41&area=106&professional_role=12&area=98&professional_role=164&area=205&professional_role=7&area=17&professional_role=154&area=56&professional_role=95&area=77&professional_role=41&area=63&professional_role=167&area=61&professional_role=87&area=2062&professional_role=95&area=64&professional_role=124&area=301&professional_role=101&area=247&professional_role=136&area=106&professional_role=13&area=73&professional_role=7&area=41&professional_role=38&area=20&professional_role=55&area=81&professional_role=36&area=2045&professional_role=17&area=2083&professional_role=114&area=2062&professional_role=92&area=2090&professional_role=125&area=12&professional_role=92&area=1454&professional_role=91&area=25&professional_role=112&area=25&professional_role=41&area=2090&professional_role=7&area=1979&professional_role=92&area=301&professional_role=41&area=2061&professional_role=150&area=95&professional_role=1&area=22&professional_role=95&area=1753&professional_role=138&area=83&professional_role=154&area=1399&professional_role=73&area=2025&professional_role=116&area=2045&professional_role=61&area=2083&professional_role=95&area=2034&professional_role=103&area=23&professional_role=101&area=1440&professional_role=132&area=1753&professional_role=53&area=41&professional_role=165&area=1220&professional_role=41&area=87&professional_role=36&area=1550&professional_role=17&area=53&professional_role=98&area=19&professional_role=125&area=87&professional_role=116&area=81&professional_role=155&area=1454&professional_role=1&area=32&professional_role=164&area=2062&professional_role=93&area=73&professional_role=101&area=1753&professional_role=14&area=67&professional_role=3&area=2045&professional_role=92&area=2088&professional_role=104&area=2090&professional_role=174&area=17&professional_role=160&area=1512&professional_role=151&area=1220&professional_role=12&area=177&professional_role=136&area=106&professional_role=15&area=1979&professional_role=137&area=87&professional_role=153&area=61&professional_role=103&area=205&professional_role=61&area=1220&professional_role=93&area=32&professional_role=153&area=84&professional_role=91&area=17&professional_role=157&area=2077&professional_role=136&area=2061&professional_role=37&area=301&professional_role=93&area=69&professional_role=150&area=1002&professional_role=91&area=1979&professional_role=43&area=61&professional_role=112&area=80&professional_role=13&area=2053&professional_role=123&area=205&professional_role=60&area=205&professional_role=15&area=2065&professional_role=101&area=23&professional_role=22&area=95&professional_role=165&area=247&professional_role=7&area=1641&professional_role=157&area=1440&professional_role=15&area=1220&professional_role=28&area=1512&professional_role=87&area=2065&professional_role=99&area=2025&professional_role=26&area=69&professional_role=11&area=1291&professional_role=156&area=2025&professional_role=156&area=2090&professional_role=36&area=103&professional_role=12&area=1375&professional_role=95&area=2034&professional_role=156&area=2062&professional_role=72&area=177&professional_role=149&area=24&professional_role=50&area=56&professional_role=126&area=1399&professional_role=92&area=49&professional_role=167&area=58&professional_role=126&area=237&professional_role=98&area=212&professional_role=163&area=63&professional_role=165&area=58&professional_role=101&area=61&professional_role=20&area=96&professional_role=101&area=1291&professional_role=41&area=1454&professional_role=152&area=131&professional_role=103&area=76&professional_role=158&area=212&professional_role=28&area=64&professional_role=19&area=1381&professional_role=141&area=80&professional_role=156&area=2759&professional_role=152&area=17&professional_role=42&area=58&professional_role=98&area=58&professional_role=153&area=160&professional_role=22&area=2077&professional_role=125&area=1753&professional_role=56&area=41&professional_role=126&area=1375&professional_role=104&area=2061&professional_role=1&area=1512&professional_role=26&area=2025&professional_role=104&area=131&professional_role=151&area=1753&professional_role=75&area=69&professional_role=92&area=24&professional_role=103&area=130&professional_role=172&area=11&professional_role=148&area=2759&professional_role=91&area=107&professional_role=154&area=68&professional_role=166&area=1375&professional_role=92&area=19&professional_role=153&area=205&professional_role=73&area=2025&professional_role=73&area=61&professional_role=163&area=2061&professional_role=155&area=55&professional_role=61&area=2061&professional_role=153&area=83&professional_role=134&area=2090&professional_role=154&area=78&professional_role=75&area=102&professional_role=164&area=75&professional_role=2&area=63&professional_role=91&area=177&professional_role=153&area=14&professional_role=81&area=61&professional_role=164&area=2062&professional_role=71&area=56&professional_role=22&area=73&professional_role=92&area=41&professional_role=164&area=67&professional_role=150&area=2090&professional_role=126&area=61&professional_role=17&area=106&professional_role=60&area=11&professional_role=50&area=84&professional_role=60&area=237&professional_role=86&area=2053&professional_role=37&area=14&professional_role=93&area=1399&professional_role=72&area=61&professional_role=65&area=2065&professional_role=107&area=103&professional_role=55&area=1291&professional_role=73&area=70&professional_role=155&area=14&professional_role=114&area=1753&professional_role=20&area=77&professional_role=158&area=52&professional_role=170&area=1979&professional_role=136&area=2237&professional_role=57&area=1381&professional_role=167&area=112&professional_role=159&area=96&professional_role=166&area=19&professional_role=36&area=2039&professional_role=163&area=19&professional_role=37&area=73&professional_role=26&area=2083&professional_role=53&area=52&professional_role=116&area=205&professional_role=38&area=1440&professional_role=141&area=12&professional_role=126&area=2237&professional_role=135&area=112&professional_role=165&area=2039&professional_role=11&area=2034&professional_role=122&area=106&professional_role=136&area=2077&professional_role=75&area=1753&professional_role=139&area=58&professional_role=42&area=1753&professional_role=2&area=41&professional_role=166&area=61&professional_role=119&area=2077&professional_role=2&area=1440&professional_role=42&area=1641&professional_role=61&area=83&professional_role=103&area=1550&professional_role=103&area=84&professional_role=103&area=75&professional_role=42&area=1381&professional_role=150&area=55&professional_role=174&area=49&professional_role=125&area=1375&professional_role=68&area=2237&professional_role=107&area=64&professional_role=150&area=78&professional_role=166&area=1375&professional_role=101&area=64&professional_role=56&area=70&professional_role=22&area=2760&professional_role=171&area=64&professional_role=43&area=2039&professional_role=136&area=301&professional_role=91&area=14&professional_role=2&area=64&professional_role=169&area=2065&professional_role=92&area=80&professional_role=152&area=47&professional_role=38&area=55&professional_role=124&area=84&professional_role=167&area=2053&professional_role=148&area=73&professional_role=16&area=1002&professional_role=28&area=61&professional_role=114&area=107&professional_role=12&area=1399&professional_role=104&area=1753&professional_role=168&area=2053&professional_role=152&area=237&professional_role=160&area=58&professional_role=103&area=1512&professional_role=137&area=20&professional_role=160&area=61&professional_role=61&area=64&professional_role=20&area=1291&professional_role=174&area=67&professional_role=151&area=96&professional_role=151&area=52&professional_role=42&area=1291&professional_role=172&area=11&professional_role=12&area=87&professional_role=126&area=73&professional_role=91&area=2062&professional_role=141&area=56&professional_role=12&area=2045&professional_role=134&area=237&professional_role=22&area=20&professional_role=20&area=2088&professional_role=95&area=89&professional_role=170&area=106&professional_role=1&area=43&professional_role=163&area=2039&professional_role=167&area=76&professional_role=22&area=2034&professional_role=123&area=71&professional_role=174&area=25&professional_role=167&area=247&professional_role=54&area=130&professional_role=38&area=63&professional_role=22&area=25&professional_role=1&area=301&professional_role=7&area=2090&professional_role=56&area=73&professional_role=104&area=80&professional_role=167&area=75&professional_role=163&area=53&professional_role=25&area=19&professional_role=101&area=80&professional_role=104&area=55&professional_role=98&area=2041&professional_role=153&area=11&professional_role=172&area=131&professional_role=135&area=90&professional_role=1&area=2088&professional_role=114&area=212&professional_role=36&area=2062&professional_role=108&area=81&professional_role=61&area=12&professional_role=148&area=2053&professional_role=122&area=1979&professional_role=13&area=106&professional_role=150&area=78&professional_role=154&area=1240&professional_role=95&area=1375&professional_role=151&area=2025&professional_role=114&area=1291&professional_role=114&area=43&professional_role=140&area=69&professional_role=163&area=87&professional_role=87&area=1440&professional_role=95&area=2034&professional_role=152&area=1220&professional_role=112&area=49&professional_role=12&area=79&professional_role=22&area=130&professional_role=134&area=98&professional_role=155&area=71&professional_role=163&area=47&professional_role=170&area=1002&professional_role=95&area=247&professional_role=17&area=1399&professional_role=53&area=19&professional_role=154&area=14&professional_role=134&area=71&professional_role=126&area=81&professional_role=140&area=2053&professional_role=36&area=2065&professional_role=1&area=130&professional_role=149&area=4&professional_role=98&area=83&professional_role=104&area=99&professional_role=98&area=1440&professional_role=104&area=2083&professional_role=122&area=63&professional_role=74&area=47&professional_role=174&area=14&professional_role=1&area=2077&professional_role=155&area=2065&professional_role=56&area=2025&professional_role=42&area=69&professional_role=36&area=2090&professional_role=99&area=98&professional_role=22&area=103&professional_role=43&area=1220&professional_role=172&area=22&professional_role=159&area=69&professional_role=75&area=130&professional_role=12&area=2034&professional_role=149&area=58&professional_role=170&area=1002&professional_role=36&area=88&professional_role=159&area=69&professional_role=138&area=103&professional_role=36&area=56&professional_role=11&area=1454&professional_role=36&area=1440&professional_role=54&area=2041&professional_role=32&area=87&professional_role=23&area=2090&professional_role=42&area=72&professional_role=75&area=49&professional_role=75&area=1240&professional_role=148&area=63&professional_role=30&area=20&professional_role=103&area=20&professional_role=135&area=103&professional_role=148&area=1641&professional_role=87&area=75&professional_role=61&area=106&professional_role=103&area=102&professional_role=148&area=1220&professional_role=26&area=1979&professional_role=38&area=77&professional_role=104&area=20&professional_role=163&area=2083&professional_role=161&area=58&professional_role=164&area=81&professional_role=104&area=1550&professional_role=91&area=2083&professional_role=10&area=22&professional_role=157&area=2237&professional_role=112&area=12&professional_role=61&area=2061&professional_role=4&area=73&professional_role=27&area=112&professional_role=167&area=87&professional_role=17&area=32&professional_role=150&area=2237&professional_role=13&area=1440&professional_role=17&area=247&professional_role=161&area=1381&professional_role=126&area=1440&professional_role=55&area=2760&professional_role=157&area=1979&professional_role=10&area=1440&professional_role=20&area=1979&professional_role=53&area=1007&professional_role=116&area=237&professional_role=41&area=1291&professional_role=161&area=87&professional_role=91&area=205&professional_role=32&area=67&professional_role=11&area=2025&professional_role=124&area=2034&professional_role=135&area=107&professional_role=42&area=103&professional_role=154&area=1753&professional_role=37&area=2034&professional_role=116&area=2088&professional_role=53&area=87&professional_role=139&area=88&professional_role=25&area=88&professional_role=158&area=2025&professional_role=13&area=205&professional_role=139&area=106&professional_role=72&area=75&professional_role=139&area=67&professional_role=153&area=2083&professional_role=1&area=14&professional_role=7&area=87&professional_role=13&area=2020&professional_role=27&area=75&professional_role=34&area=25&professional_role=20&area=99&professional_role=157&area=92&professional_role=156&area=84&professional_role=140&area=98&professional_role=158&area=67&professional_role=91&area=1007&professional_role=105&area=301&professional_role=150&area=2053&professional_role=26&area=1440&professional_role=19&area=56&professional_role=91&area=1220&professional_role=87&area=89&professional_role=157&area=104&professional_role=126&area=96&professional_role=12&area=2039&professional_role=140&area=2090&professional_role=1&area=98&professional_role=92&area=2760&professional_role=59&area=81&professional_role=50&area=2083&professional_role=13&area=69&professional_role=166&area=1291&professional_role=153&area=1440&professional_role=26&area=69&professional_role=112&area=17&professional_role=37&area=177&professional_role=56&area=23&professional_role=91&area=177&professional_role=2&area=2065&professional_role=2&area=1454&professional_role=125&area=22&professional_role=155&area=52&professional_role=61&area=160&professional_role=25&area=80&professional_role=23&area=2034&professional_role=17&area=67&professional_role=60&area=52&professional_role=126&area=52&professional_role=91&area=1550&professional_role=73&area=2039&professional_role=87&area=1291&professional_role=2&area=131&professional_role=101&area=49&professional_role=157&area=81&professional_role=73&area=1002&professional_role=166&area=11&professional_role=101&area=80&professional_role=136&area=55&professional_role=167&area=159&professional_role=11&area=2760&professional_role=160&area=1753&professional_role=148&area=2077&professional_role=1&area=2045&professional_role=116&area=2065&professional_role=119&area=2237&professional_role=17&area=1550&professional_role=60&area=79&professional_role=157&area=2034&professional_role=38&area=11&professional_role=156&area=102&professional_role=166&area=67&professional_role=15&area=55&professional_role=104&area=2062&professional_role=60&area=131&professional_role=156&area=67&professional_role=105&area=177&professional_role=139&area=32&professional_role=135&area=301&professional_role=26&area=64&professional_role=158&area=25&professional_role=157&area=1641&professional_role=158&area=1753&professional_role=32&area=61&professional_role=150&area=1753&professional_role=87&area=2053&professional_role=135&area=2041&professional_role=114&area=1240&professional_role=174&area=1220&professional_role=34&area=56&professional_role=153&area=301&professional_role=11&area=77&professional_role=26&area=103&professional_role=137&area=25&professional_role=140&area=2039&professional_role=38&area=69&professional_role=37&area=71&professional_role=75&area=77&professional_role=75&area=2041&professional_role=171&area=52&professional_role=174&area=1454&professional_role=86&area=63&professional_role=101&area=83&professional_role=20&area=1007&professional_role=146&area=1512&professional_role=19&area=2077&professional_role=37&area=26&professional_role=98&area=67&professional_role=138&area=1240&professional_role=170&area=2045&professional_role=26&area=80&professional_role=11&area=2090&professional_role=13&area=53&professional_role=164&area=247&professional_role=140&area=103&professional_role=29&area=2045&professional_role=1&area=107&professional_role=87&area=15&professional_role=167&area=1399&professional_role=112&area=131&professional_role=95&area=1291&professional_role=167&area=301&professional_role=43&area=112&professional_role=12&area=80&professional_role=86&area=1550&professional_role=160&area=55&professional_role=125&area=2083&professional_role=38&area=2062&professional_role=30&area=1550&professional_role=16&area=1291&professional_role=13&area=63&professional_role=60&area=88&professional_role=43&area=1641&professional_role=43&area=2083&professional_role=140&area=61&professional_role=174&area=61&professional_role=92&area=103&professional_role=172&area=43&professional_role=103&area=131&professional_role=157&area=67&professional_role=139&area=1007&professional_role=149&area=23&professional_role=61&area=43&professional_role=14&area=2045&professional_role=93&area=160&professional_role=174&area=237&professional_role=172&area=1454&professional_role=12&area=1220&professional_role=55&area=2090&professional_role=103&area=247&professional_role=60&area=24&professional_role=139&area=247&professional_role=112&area=11&professional_role=103&area=1375&professional_role=171&area=25&professional_role=166&area=1979&professional_role=29&area=41&professional_role=75&area=25&professional_role=136&area=58&professional_role=139&area=1753&professional_role=36&area=56&professional_role=56&area=69&professional_role=140&area=73&professional_role=59&area=68&professional_role=50&area=89&professional_role=12&area=2237&professional_role=121&area=1220&professional_role=137&area=75&professional_role=50&area=1291&professional_role=87&area=301&professional_role=154&area=247&professional_role=135&area=20&professional_role=92&area=2025&professional_role=43&area=55&professional_role=91&area=1007&professional_role=71&area=41&professional_role=91&area=2045&professional_role=87&area=73&professional_role=19&area=19&professional_role=140&area=54&professional_role=98&area=20&professional_role=125&area=2020&professional_role=38&area=12&professional_role=167&area=2062&professional_role=134&area=63&professional_role=17&area=26&professional_role=166&area=58&professional_role=135&area=15&professional_role=29&area=84&professional_role=156&area=58&professional_role=36&area=1753&professional_role=43&area=71&professional_role=155&area=1399&professional_role=134&area=1979&professional_role=15&area=2760&professional_role=151&area=103&professional_role=125&area=1220&professional_role=105&area=25&professional_role=103&area=55&professional_role=87&area=23&professional_role=12&area=64&professional_role=101&area=2065&professional_role=42&area=67&professional_role=37&area=47&professional_role=41&area=2090&professional_role=29&area=130&professional_role=151&area=1220&professional_role=53&area=56&professional_role=170&area=2039&professional_role=152&area=84&professional_role=28&area=15&professional_role=26&area=73&professional_role=93&area=20&professional_role=56&area=43&professional_role=61&area=12&professional_role=103&area=2053&professional_role=103&area=52&professional_role=95&area=98&professional_role=174&area=2083&professional_role=172&area=15&professional_role=114&area=43&professional_role=153&area=301&professional_role=27&area=55&professional_role=172&area=2053&professional_role=73&area=20&professional_role=13&area=1381&professional_role=155&area=75&professional_role=159&area=64&professional_role=174&area=75&professional_role=14&area=2053&professional_role=116&area=73&professional_role=65&area=43&professional_role=112&area=131&professional_role=164&area=1979&professional_role=135&area=2053&professional_role=99&area=2077&professional_role=167&area=237&professional_role=165&area=1641&professional_role=155&area=12&professional_role=13&area=14&professional_role=154&area=2020&professional_role=50&area=75&professional_role=92&area=84&professional_role=157&area=89&professional_role=41&area=130&professional_role=112&area=32&professional_role=12&area=25&professional_role=13&area=98&professional_role=12&area=52&professional_role=1&area=47&professional_role=12&area=2020&professional_role=37&area=2090&professional_role=124&area=72&professional_role=20&area=79&professional_role=43&area=1550&professional_role=99&area=177&professional_role=172&area=71&professional_role=11&area=2062&professional_role=19&area=71&professional_role=50&area=2039&professional_role=56&area=2039&professional_role=60&area=52&professional_role=148&area=106&professional_role=36&area=1512&professional_role=29&area=49&professional_role=20&area=2025&professional_role=122&area=159&professional_role=103&area=19&professional_role=50&area=56&professional_role=139&area=2062&professional_role=29&area=1381&professional_role=163&area=1512&professional_role=65&area=2237&professional_role=106&area=112&professional_role=103&area=2025&professional_role=134&area=61&professional_role=1&area=19&professional_role=156&area=61&professional_role=104&area=22&professional_role=22&area=2077&professional_role=104&area=87&professional_role=75&area=15&professional_role=61&area=130&professional_role=160&area=131&professional_role=61&area=2760&professional_role=17&area=20&professional_role=148&area=73&professional_role=172&area=69&professional_role=60&area=89&professional_role=135&area=4&professional_role=159&area=2025&professional_role=151&area=1007&professional_role=1&area=80&professional_role=160&area=43&professional_role=1&area=2053&professional_role=42&area=2083&professional_role=42&area=106&professional_role=148&area=79&professional_role=36&area=1291&professional_role=171&area=2090&professional_role=114&area=1399&professional_role=91&area=72&professional_role=165&area=2041&professional_role=17&area=63&professional_role=105&area=159&professional_role=29&area=25&professional_role=87&area=1512&professional_role=152&area=2083&professional_role=124&area=2034&professional_role=155&area=1007&professional_role=120&area=81&professional_role=15&area=20&professional_role=112&area=84&professional_role=87&area=130&professional_role=2&area=73&professional_role=73&area=68&professional_role=153&area=89&professional_role=87&area=75&professional_role=124&area=1454&professional_role=124&area=2025&professional_role=15&area=69&professional_role=155&area=2025&professional_role=135&area=1512&professional_role=10&area=2053&professional_role=2&area=2088&professional_role=170&area=22&professional_role=103&area=2090&professional_role=30&area=19&professional_role=155&area=99&professional_role=155&area=2061&professional_role=72&area=58&professional_role=22&area=130&professional_role=91&area=1375&professional_role=54&area=301&professional_role=55&area=2090&professional_role=161&area=70&professional_role=20&area=1220&professional_role=42&area=43&professional_role=156&area=75&professional_role=105&area=1979&professional_role=72&area=20&professional_role=152&area=87&professional_role=38&area=12&professional_role=101&area=2061&professional_role=137&area=1375&professional_role=17&area=81&professional_role=170&area=17&professional_role=28&area=49&professional_role=163&area=2090&professional_role=37&area=247&professional_role=38&area=1007&professional_role=41&area=55&professional_role=138&area=87&professional_role=61&area=95&professional_role=95&area=1550&professional_role=168&area=301&professional_role=65&area=1375&professional_role=2&area=17&professional_role=103&area=2062&professional_role=99&area=47&professional_role=36&area=89&professional_role=20&area=61&professional_role=29&area=1641&professional_role=20&area=83&professional_role=42&area=2090&professional_role=170&area=177&professional_role=105&area=2039&professional_role=154&area=95&professional_role=36&area=53&professional_role=22&area=2090&professional_role=95&area=24&professional_role=12&area=2034&professional_role=1&area=1550&professional_role=134&area=81&professional_role=125&area=130&professional_role=156&area=80&professional_role=14&area=32&professional_role=42&area=2025&professional_role=148&area=103&professional_role=15&area=1440&professional_role=14&area=2025&professional_role=37&area=104&professional_role=91&area=1007&professional_role=163&area=90&professional_role=155&area=2759&professional_role=27&area=84&professional_role=104&area=2034&professional_role=148&area=1291&professional_role=38&area=41&professional_role=112&area=49&professional_role=153&area=69&professional_role=164&area=1291&professional_role=23&area=2045&professional_role=16&area=68&professional_role=157&area=35&professional_role=36&area=71&professional_role=167&area=2760&professional_role=15&area=1381&professional_role=17&area=212&professional_role=91&area=2759&professional_role=166&area=43&professional_role=105&area=106&professional_role=172&area=2083&professional_role=29&area=84&professional_role=1&area=61&professional_role=140&area=301&professional_role=112&area=103&professional_role=13&area=177&professional_role=19&area=1512&professional_role=50&area=58&professional_role=166&area=83&professional_role=92&area=89&professional_role=101&area=2025&professional_role=138&area=23&professional_role=160&area=2065&professional_role=32&area=52&professional_role=65&area=130&professional_role=98&area=2041&professional_role=50&area=1375&professional_role=72&area=1399&professional_role=163&area=26&professional_role=164&area=14&professional_role=139&area=1512&professional_role=28&area=2025&professional_role=150&area=80&professional_role=154&area=1399&professional_role=38&area=83&professional_role=29&area=237&professional_role=95&area=55&professional_role=42&area=106&professional_role=61&area=2020&professional_role=152&area=112&professional_role=164&area=2088&professional_role=20&area=2020&professional_role=1&area=69&professional_role=61&area=55&professional_role=95&area=2237&professional_role=160&area=1454&professional_role=16&area=1291&professional_role=20&area=92&professional_role=157&area=2237&professional_role=120&area=247&professional_role=32&area=73&professional_role=150&area=1291&professional_role=16&area=53&professional_role=165&area=2065&professional_role=3&area=15&professional_role=152&area=14&professional_role=135&area=2083&professional_role=91&area=2077&professional_role=174&area=11&professional_role=154&area=2041&professional_role=2&area=2039&professional_role=75&area=106&professional_role=174&area=80&professional_role=12&area=80&professional_role=171&area=11&professional_role=42&area=71&professional_role=103&area=47&professional_role=154&area=81&professional_role=166&area=2025&professional_role=163&area=70&professional_role=98&area=2090&professional_role=61&area=1381&professional_role=61&area=2237&professional_role=138&area=11&professional_role=160&area=12&professional_role=125&area=67&professional_role=114&area=131&professional_role=92&area=1440&professional_role=101&area=25&professional_role=156&area=20&professional_role=171&area=2077&professional_role=29&area=35&professional_role=75&area=64&professional_role=153&area=2088&professional_role=148&area=73&professional_role=160&area=106&professional_role=152&area=55&professional_role=26&area=23&professional_role=136&area=2090&professional_role=72&area=104&professional_role=11&area=301&professional_role=170&area=64&professional_role=14&area=247&professional_role=42&area=2045&professional_role=161&area=92&professional_role=153&area=70&professional_role=87&area=73&professional_role=126&area=75&professional_role=41&area=2088&professional_role=161&area=2041&professional_role=174&area=12&professional_role=164&area=14&professional_role=36&area=25&professional_role=26&area=1240&professional_role=2&area=64&professional_role=41&area=1440&professional_role=62&area=25&professional_role=42&area=1641&professional_role=135&area=2020&professional_role=160&area=14&professional_role=99&area=81&professional_role=43&area=205&professional_role=136&area=247&professional_role=105&area=11&professional_role=159&area=32&professional_role=56&area=2045&professional_role=27&area=1440&professional_role=152&area=2065&professional_role=137&area=2061&professional_role=156&area=2025&professional_role=87&area=130&professional_role=73&area=1454&professional_role=38&area=20&professional_role=95&area=177&professional_role=167&area=2088&professional_role=105&area=41&professional_role=22&area=237&professional_role=36&area=19&professional_role=26&area=58&professional_role=140&area=67&professional_role=167&area=1381&professional_role=104&area=1550&professional_role=56&area=56&professional_role=167&area=103&professional_role=16&area=1440&professional_role=33&area=79&professional_role=98&area=2077&professional_role=53&area=69&professional_role=26&area=47&professional_role=22&area=20&professional_role=154&area=56&professional_role=36&area=83&professional_role=167&area=2045&professional_role=10&area=47&professional_role=172&area=1979&professional_role=154&area=43&professional_role=42&area=2090&professional_role=139&area=61&professional_role=16&area=75&professional_role=38&area=63&professional_role=13&area=205&professional_role=4&area=205&professional_role=42&area=87&professional_role=1&area=63&professional_role=20&area=1002&professional_role=153&area=87&professional_role=140&area=25&professional_role=101&area=1220&professional_role=141&area=63&professional_role=154&area=76&professional_role=166&area=58&professional_role=151&area=55&professional_role=114&area=2760&professional_role=126&area=75&professional_role=93&area=83&professional_role=60&area=2041&professional_role=60&area=71&professional_role=92&area=55&professional_role=148&area=1979&professional_role=2&area=212&professional_role=7&area=2088&professional_role=22&area=1007&professional_role=37&area=130&professional_role=19&area=2759&professional_role=174&area=130&professional_role=159&area=15&professional_role=60&area=1440&professional_role=163&area=66&professional_role=166&area=78&professional_role=165&area=1512&professional_role=150&area=1454&professional_role=136&area=70&professional_role=12&area=237&professional_role=75&area=32&professional_role=155&area=1440&professional_role=86&area=22&professional_role=75&area=14&professional_role=171&area=205&professional_role=114&area=159&professional_role=25&area=2760&professional_role=38&area=73&professional_role=157&area=131&professional_role=104&area=106&professional_role=154&area=2062&professional_role=152&area=1291&professional_role=138&area=2025&professional_role=92&area=56&professional_role=2&area=106&professional_role=166&area=20&professional_role=170&area=1007&professional_role=122&area=1512&professional_role=91&area=130&professional_role=16&area=2041&professional_role=167&area=1220&professional_role=164&area=15&professional_role=91&area=56&professional_role=138&area=98&professional_role=87&area=81&professional_role=71&area=1454&professional_role=168&area=2053&professional_role=114&area=1375&professional_role=34&area=98&professional_role=37&area=2062&professional_role=13&area=77&professional_role=87&area=99&professional_role=75&area=12&professional_role=73&area=26&professional_role=20&area=1641&professional_role=170&area=78&professional_role=11&area=1454&professional_role=164&area=247&professional_role=99&area=63&professional_role=65&area=68&professional_role=87&area=77&professional_role=153&area=1381&professional_role=105&area=301&professional_role=174&area=15&professional_role=19&area=1979&professional_role=151&area=2065&professional_role=108&area=1375&professional_role=105&area=81&professional_role=65&area=96&professional_role=91&area=2041&professional_role=147&area=2041&professional_role=126&area=2053&professional_role=72&area=90&professional_role=20&area=2039&professional_role=32&area=17&professional_role=36&area=69&professional_role=2&area=130&professional_role=167&area=1399&professional_role=23&area=1399&professional_role=116&area=54&professional_role=91&area=98&professional_role=28&area=1641&professional_role=167&area=301&professional_role=104&area=205&professional_role=91&area=49&professional_role=114&area=2045&professional_role=42&area=301&professional_role=141&area=1240&professional_role=139&area=1979&professional_role=93&area=22&professional_role=36&area=212&professional_role=93&area=63&professional_role=93&area=12&professional_role=95&area=67&professional_role=170&area=2760&professional_role=103&area=1381&professional_role=38&area=83&professional_role=172&area=2083&professional_role=101&area=63&professional_role=116&area=1550&professional_role=112&area=2039&professional_role=100&area=177&professional_role=20&area=130&professional_role=87&area=1291&professional_role=95&area=1979&professional_role=16&area=19&professional_role=152&area=69&professional_role=41&area=2759&professional_role=139&area=2065&professional_role=116&area=52&professional_role=56&area=2083&professional_role=62&area=76&professional_role=165&area=68&professional_role=126&area=1641&professional_role=37&area=92&professional_role=160&area=63&professional_role=137&area=19&professional_role=38&area=49&professional_role=60&area=84&professional_role=36&area=67&professional_role=171&area=1007&professional_role=13&area=1240&professional_role=38&area=247&professional_role=15&area=41&professional_role=155&area=2061&professional_role=7&area=32&professional_role=101&area=92&professional_role=20&area=205&professional_role=162&area=103&professional_role=141&area=2065&professional_role=10&area=1007&professional_role=119&area=107&professional_role=73&area=1753&professional_role=104&area=106&professional_role=114&area=73&professional_role=17&area=2061&professional_role=148&area=55&professional_role=152&area=106&professional_role=19&area=67&professional_role=23&area=58&professional_role=37&area=130&professional_role=23&area=2083&professional_role=74&area=2090&professional_role=17&area=2045&professional_role=119&area=2237&professional_role=60&area=102&professional_role=101&area=2090&professional_role=136&area=1220&professional_role=81&area=1375&professional_role=126&area=2039&professional_role=116&area=63&professional_role=163&area=104&professional_role=164&area=247&professional_role=69&area=1512&professional_role=13&area=89&professional_role=37&area=56&professional_role=16&area=177&professional_role=60&area=75&professional_role=74&area=2062&professional_role=136&area=130&professional_role=104&area=2034&professional_role=79&area=2020&professional_role=101&area=2077&professional_role=150&area=2065&professional_role=151&area=87&professional_role=42&area=2760&professional_role=153&area=77&professional_role=112&area=1240&professional_role=61&area=2759&professional_role=122&area=2053&professional_role=161&area=2759&professional_role=25&area=71&professional_role=125&area=1753&professional_role=101&area=1979&professional_role=62&area=75&professional_role=73&area=32&professional_role=160&area=64&professional_role=140&area=1440&professional_role=99&area=71&professional_role=160&area=1002&professional_role=43&area=87&professional_role=26&area=177&professional_role=73&area=1381&professional_role=41&area=2041&professional_role=125&area=81&professional_role=105&area=1641&professional_role=73&area=2045&professional_role=57&area=2041&professional_role=161&area=2061&professional_role=26&area=87&professional_role=56&area=2053&professional_role=107&area=1220&professional_role=161&area=237&professional_role=28&area=12&professional_role=20&area=2090&professional_role=123&area=84&professional_role=61&area=2039&professional_role=14&area=1399&professional_role=101&area=177&professional_role=174&area=80&professional_role=2&area=24&professional_role=157&area=71&professional_role=42&area=20&professional_role=12&area=1454&professional_role=10&area=15&professional_role=42&area=103&professional_role=26&area=70&professional_role=156&area=2237&professional_role=93&area=1550&professional_role=108&area=71&professional_role=15&area=301&professional_role=53&area=1007&professional_role=167&area=47&professional_role=14&area=2025&professional_role=32&area=87&professional_role=95&area=56&professional_role=114&area=2020&professional_role=73&area=73&professional_role=154&area=72&professional_role=98&area=32&professional_role=103&area=130&professional_role=99&area=1979&professional_role=172&area=75&professional_role=23&area=177&professional_role=15&area=2090&professional_role=152&area=67&professional_role=95&area=81&professional_role=55&area=96&professional_role=126&area=1753&professional_role=93&area=75&professional_role=138&area=14&professional_role=17&area=71&professional_role=53&area=64&professional_role=163&area=80&professional_role=93&area=52&professional_role=157&area=2083&professional_role=57&area=2053&professional_role=105&area=22&professional_role=126&area=2034&professional_role=53&area=92&professional_role=155&area=87&professional_role=101&area=131&professional_role=43&area=49&professional_role=101&area=52&professional_role=147&area=2760&professional_role=119&area=61&professional_role=105&area=52&professional_role=27&area=49&professional_role=174&area=25&professional_role=73&area=25&professional_role=53&area=69&professional_role=154&area=73&professional_role=161&area=12&professional_role=1&area=1440&professional_role=37&area=1641&professional_role=153&area=1399&professional_role=55&area=247&professional_role=16&area=205&professional_role=20&area=159&professional_role=174&area=301&professional_role=151&area=63&professional_role=7&area=2034&professional_role=99&area=43&professional_role=170&area=24&professional_role=160&area=70&professional_role=91&area=76&professional_role=164&area=89&professional_role=53&area=2025&professional_role=20&area=2083&professional_role=112&area=80&professional_role=92&area=1007&professional_role=57&area=1240&professional_role=138&area=2045&professional_role=3&area=103&professional_role=65&area=205&professional_role=35&area=98&professional_role=171&area=1399&professional_role=125&area=75&professional_role=16&area=1381&professional_role=135&area=1375&professional_role=112&area=2039&professional_role=61&area=1641&professional_role=154&area=2061&professional_role=95&area=87&professional_role=172&area=84&professional_role=95&area=41&professional_role=154&area=2053&professional_role=55&area=2020&professional_role=22&area=2065&professional_role=30&area=2061&professional_role=38&area=75&professional_role=152&area=1399&professional_role=149&area=247&professional_role=71&area=247&professional_role=3&area=2760&professional_role=172&area=12&professional_role=43&area=72&professional_role=50&area=1240&professional_role=152&area=69&professional_role=38&area=1454&professional_role=153&area=15&professional_role=138&area=177&professional_role=92&area=52&professional_role=167&area=73&professional_role=15&area=1291&professional_role=93&area=19&professional_role=103&area=1399&professional_role=26&area=53&professional_role=103&area=1399&professional_role=7&area=2061&professional_role=101&area=1375&professional_role=134&area=2039&professional_role=42&area=52&professional_role=135&area=49&professional_role=136&area=2760&professional_role=148&area=25&professional_role=172&area=2053&professional_role=93&area=80&professional_role=15&area=2020&professional_role=112&area=63&professional_role=38&area=2020&professional_role=19&area=69&professional_role=91&area=15&professional_role=28&area=177&professional_role=152&area=19&professional_role=148&area=14&professional_role=136&area=1641&professional_role=139&area=11&professional_role=174&area=2077&professional_role=14&area=2034&professional_role=4&area=49&professional_role=103&area=2053&professional_role=151&area=2065&professional_role=17&area=25&professional_role=104&area=69&professional_role=152&area=1440&professional_role=162&area=2065&professional_role=174&area=1512&professional_role=161&area=159&professional_role=164&area=83&professional_role=171&area=88&professional_role=22&area=23&professional_role=139&area=2053&professional_role=60',\n",
              " 2000)"
            ]
          },
          "metadata": {},
          "execution_count": 11
        }
      ]
    },
    {
      "cell_type": "code",
      "execution_count": 12,
      "metadata": {
        "id": "vkeiGfGYGR6N"
      },
      "outputs": [],
      "source": [
        "\n",
        "@dataclass\n",
        "class Vacancy:\n",
        "    id: int\n",
        "    name: str\n",
        "    description: str\n",
        "    branded_description: str\n",
        "    key_skills: str\n",
        "    professional_roles: str"
      ],
      "id": "vkeiGfGYGR6N"
    },
    {
      "cell_type": "code",
      "execution_count": 20,
      "metadata": {
        "id": "jOlXzwh8GR6N"
      },
      "outputs": [],
      "source": [
        "from abc import ABCMeta, abstractmethod, abstractproperty\n",
        "import os\n",
        "import sqlite3\n",
        "import pandas as pd\n",
        "\n",
        "class DataSourcePdAdapter():\n",
        "    __metaclass__ = ABCMeta\n",
        "\n",
        "    def __init__(self, directory_path, file_name):\n",
        "        self._directory_path = directory_path\n",
        "        self._file_name = file_name\n",
        "        self._extension = ''\n",
        "\n",
        "        self._check_directory_path()\n",
        "        self._check_filename()\n",
        "\n",
        "    def _get_full_path(self):\n",
        "        path = os.path.join(self._directory_path, f'{self._file_name}.{self._extension}')\n",
        "\n",
        "        return path\n",
        "\n",
        "    def _check_directory_path(self):\n",
        "        if self._directory_path == '':\n",
        "            raise Exception(f'directory_path не может быть пустой строкой!')\n",
        "\n",
        "        if not os.path.exists(self._directory_path):\n",
        "            os.mkdir(self._directory_path)\n",
        "\n",
        "        if not os.path.exists(self._directory_path):\n",
        "            raise Exception(f'Ошибка при создании каталога {self._directory_path}')\n",
        "\n",
        "    def _check_filename(self):\n",
        "        if self._file_name == '':\n",
        "            raise Exception(f'file_name не может быть пустой строкой!')\n",
        "\n",
        "    @abstractmethod\n",
        "    def write(self, df):\n",
        "        pass\n",
        "\n",
        "    @abstractmethod\n",
        "    def _read(self):\n",
        "        pass\n",
        "\n",
        "class SqlLitePdAdapter(DataSourcePdAdapter):\n",
        "    def __init__(self, directory_path, file_name, table_name):\n",
        "        super().__init__(directory_path, file_name)\n",
        "        self._table = table_name\n",
        "        self._operation_type = 'append'\n",
        "        self._extension = 'db'\n",
        "\n",
        "        self._create_table()\n",
        "\n",
        "    def _create_table(self):\n",
        "        with sqlite3.connect(self._get_full_path()) as con:\n",
        "            con.execute(f\"\"\"\n",
        "                CREATE TABLE if not exists {self._table} (\n",
        "                    id INTEGER PRIMARY KEY,\n",
        "                    name VARCHAR(100),\n",
        "                    description TEXT,\n",
        "                    branded_description TEXT,\n",
        "                    key_skills VARCHAR(200),\n",
        "                    professional_roles VARCHAR(200)\n",
        "\n",
        "                );\n",
        "            \"\"\")\n",
        "            print()\n",
        "\n",
        "    def write(self, df):\n",
        "        with sqlite3.connect(self._get_full_path()) as con:\n",
        "            df.to_sql(self._table, con, index=False, if_exists=\"replace\")\n",
        "\n",
        "    def write_row(self, vacancy):\n",
        "\n",
        "        with sqlite3.connect(self._get_full_path()) as connection:\n",
        "            cursor = connection.cursor()\n",
        "\n",
        "            try:\n",
        "                  cursor.execute(\n",
        "                      f\"\"\"\n",
        "                      INSERT INTO {self._table}\n",
        "                      (\n",
        "                        id, name, description, branded_description, key_skills, professional_roles\n",
        "                      )\n",
        "                      VALUES (?, ?, ?, ?, ?, ?)\n",
        "                      \"\"\", (vacancy.id, vacancy.name, vacancy.description, vacancy.branded_description,\n",
        "                            vacancy.key_skills, vacancy.professional_roles)\n",
        "                )\n",
        "            except Exception as ex:\n",
        "                print(f'vacancy - {str(vacancy)}')\n",
        "                print(f'ошибка при записи в БД - {ex}')\n",
        "                raise ex\n",
        "\n",
        "    def read_all(self):\n",
        "        query = f'select * from {self._table}'\n",
        "        with sqlite3.connect(self._get_full_path()) as con:\n",
        "            return pd.read_sql(query, con)\n",
        "\n",
        "    def read(self, query_params_str='', target_columns=None):\n",
        "\n",
        "        if target_columns:\n",
        "          target_columns_srt = ', '.join(target_columns)\n",
        "        else:\n",
        "          target_columns_srt = '*'\n",
        "\n",
        "        query = f'select {target_columns_srt} from {self._table} {query_params_str}'\n",
        "        with sqlite3.connect(self._get_full_path()) as con:\n",
        "            return pd.read_sql(query, con)\n",
        "\n",
        "# class Repository:\n",
        "\n",
        "#     def read(self, pd_adapter):\n",
        "#         return pd_adapter.read()\n",
        "\n",
        "#     def write(self, pd_adapters_list, df):\n",
        "#         if len(pd_adapters_list) == 0 or type(pd_adapters_list) != list:\n",
        "#             raise Exception('Некорректный параметр pd_adapters_list, дожен быть не пустой список!')\n",
        "\n",
        "#     for pd_adapter in pd_adapters_list:\n",
        "#         pd_adapter.write(df)\n",
        "\n",
        "#     print('данные сохранены')"
      ],
      "id": "jOlXzwh8GR6N"
    },
    {
      "cell_type": "code",
      "execution_count": 21,
      "metadata": {
        "colab": {
          "base_uri": "https://localhost:8080/"
        },
        "id": "MHkO1Y80GR6O",
        "outputId": "c0291d67-6dbb-4ca1-e382-86400c1083b0"
      },
      "outputs": [
        {
          "output_type": "stream",
          "name": "stdout",
          "text": [
            "\n"
          ]
        }
      ],
      "source": [
        "sqlite3_adapter = SqlLitePdAdapter('drive/MyDrive', 'vacancies', 'vacancies')"
      ],
      "id": "MHkO1Y80GR6O"
    },
    {
      "cell_type": "code",
      "execution_count": 23,
      "metadata": {
        "id": "7-u-ZRPpGR6O"
      },
      "outputs": [],
      "source": [
        "\n",
        "def fetch_vacancies(url):\n",
        "    per_page = 100\n",
        "    extracted_vacancies = 0\n",
        "    continues_vac = 0\n",
        "\n",
        "    ids = []\n",
        "\n",
        "    result_db = sqlite3_adapter.read(target_columns=['id'])\n",
        "    print(f'размер массива {result_db.shape}')\n",
        "\n",
        "    total_pages = 2000 // per_page + (1 if 2000 % per_page != 0 else 0)\n",
        "    ids = []\n",
        "    print(f'total_pages - {total_pages}')\n",
        "    captcha_vacancies = []\n",
        "\n",
        "    for page in range(0, total_pages):\n",
        "        params = {'per_page': per_page, 'page': page}\n",
        "        response = requests.get(url, params=params)\n",
        "\n",
        "        if response.status_code == 200:\n",
        "            time.sleep(0.2)\n",
        "            vacancies = response.json()\n",
        "\n",
        "            for item in tqdm(vacancies['items']):\n",
        "                is_exists = result_db[\"id\"].isin([int(item['id'])]).any()\n",
        "\n",
        "                if is_exists or item['id'] in ids:\n",
        "                    continues_vac += 1\n",
        "                    continue\n",
        "\n",
        "                # time.sleep(0.1)\n",
        "\n",
        "                result = get_vacancy(item['id'])\n",
        "\n",
        "                if 'captcha_required' in str(result):\n",
        "                    time.sleep(2)\n",
        "                    print('captcha_required')\n",
        "                    captcha_vacancies.append(item['id'])\n",
        "                    continue\n",
        "\n",
        "                if 'errors' in str(result):\n",
        "                    time.sleep(2)\n",
        "                    print('errors')\n",
        "                    captcha_vacancies.append(item['id'])\n",
        "                    continue\n",
        "\n",
        "                _id = int(result.get('id'))\n",
        "                name = result.get('name')\n",
        "                description = result.get('description')\n",
        "                branded_description = result.get('branded_description')\n",
        "                key_skills = ' '.join(i.get('name') for i in result.get('key_skills'))\n",
        "                professional_roles = ' '.join(i.get('name') for i in result.get('professional_roles'))\n",
        "\n",
        "                vacancy = Vacancy(_id, name, description, branded_description, key_skills, professional_roles)\n",
        "\n",
        "                try:\n",
        "                  sqlite3_adapter.write_row(vacancy)\n",
        "                except Exception as e:\n",
        "                  print(e)\n",
        "                  continue\n",
        "\n",
        "                ids.append(_id)\n",
        "                extracted_vacancies += 1\n",
        "\n",
        "        elif response.status_code == 400 :\n",
        "            print(\"Reached the limit of 2000 items. Stopping further fetching.\")\n",
        "\n",
        "        else:\n",
        "            print(response.text)\n",
        "            print(f\"Error fetching vacancies. Status code: {response.status_code}\")\n",
        "            # raise Exception(f\"Error fetching vacancies. Status code: {response.status_code}\")\n",
        "\n",
        "    print(f'вакансий получено - {extracted_vacancies}')\n",
        "    print(f'вакансий пропущено - {continues_vac}')\n",
        "    print(f'вакансий с ошибкой - {len(captcha_vacancies)}')\n",
        "    return captcha_vacancies\n"
      ],
      "id": "7-u-ZRPpGR6O"
    },
    {
      "cell_type": "code",
      "execution_count": 24,
      "metadata": {
        "id": "xvJLbdQGGR6Q"
      },
      "outputs": [],
      "source": [
        "def get_vacancy(id_vacancy):\n",
        "    target_url = f'https://api.hh.ru/vacancies/{id_vacancy}'\n",
        "    vacancy = requests.get(target_url).json()\n",
        "    return vacancy"
      ],
      "id": "xvJLbdQGGR6Q"
    },
    {
      "cell_type": "code",
      "execution_count": null,
      "metadata": {
        "colab": {
          "base_uri": "https://localhost:8080/"
        },
        "id": "r3d3O0L0GR6P",
        "outputId": "b270acb0-3959-48f3-b567-24284acac4e1"
      },
      "outputs": [
        {
          "output_type": "stream",
          "name": "stdout",
          "text": [
            "('https://api.hh.ru/vacancies?area=1&metro=2.512', 1402)\n",
            "number url - 860\n",
            "размер массива (61392, 1)\n",
            "total_pages - 20\n"
          ]
        },
        {
          "output_type": "stream",
          "name": "stderr",
          "text": [
            "100%|██████████| 100/100 [00:00<00:00, 1346.30it/s]\n",
            "100%|██████████| 100/100 [00:00<00:00, 1216.13it/s]\n",
            "100%|██████████| 100/100 [00:00<00:00, 872.34it/s]\n",
            "100%|██████████| 100/100 [00:00<00:00, 796.79it/s]\n",
            "100%|██████████| 100/100 [00:00<00:00, 1331.72it/s]\n",
            "100%|██████████| 100/100 [00:00<00:00, 1347.62it/s]\n",
            "100%|██████████| 100/100 [00:00<00:00, 179.31it/s]\n",
            "100%|██████████| 100/100 [00:00<00:00, 1296.48it/s]\n",
            "100%|██████████| 100/100 [00:00<00:00, 1249.06it/s]\n",
            "100%|██████████| 100/100 [00:00<00:00, 1255.46it/s]\n",
            "100%|██████████| 100/100 [00:00<00:00, 1153.79it/s]\n",
            "100%|██████████| 100/100 [00:00<00:00, 1302.98it/s]\n",
            "100%|██████████| 100/100 [00:00<00:00, 1356.36it/s]\n",
            "100%|██████████| 93/93 [00:00<00:00, 848.59it/s]\n",
            "0it [00:00, ?it/s]\n",
            "0it [00:00, ?it/s]\n",
            "0it [00:00, ?it/s]\n",
            "0it [00:00, ?it/s]\n",
            "0it [00:00, ?it/s]\n",
            "0it [00:00, ?it/s]\n"
          ]
        },
        {
          "output_type": "stream",
          "name": "stdout",
          "text": [
            "вакансий получено - 1\n",
            "вакансий пропущено - 1392\n",
            "вакансий с ошибкой - 0\n",
            "('https://api.hh.ru/vacancies?area=2&metro=14.198', 1397)\n",
            "number url - 859\n",
            "размер массива (61393, 1)\n",
            "total_pages - 20\n"
          ]
        },
        {
          "output_type": "stream",
          "name": "stderr",
          "text": [
            "100%|██████████| 100/100 [00:00<00:00, 1036.80it/s]\n",
            "100%|██████████| 100/100 [00:00<00:00, 874.09it/s]\n",
            "100%|██████████| 100/100 [00:00<00:00, 897.84it/s]\n",
            "100%|██████████| 100/100 [00:00<00:00, 615.20it/s]\n",
            "100%|██████████| 100/100 [00:00<00:00, 557.06it/s]\n",
            "100%|██████████| 100/100 [00:00<00:00, 792.53it/s]\n",
            "100%|██████████| 100/100 [00:00<00:00, 1008.36it/s]\n",
            "100%|██████████| 100/100 [00:00<00:00, 868.41it/s]\n",
            "100%|██████████| 100/100 [00:00<00:00, 167.48it/s]\n",
            "100%|██████████| 100/100 [00:00<00:00, 1312.44it/s]\n",
            "100%|██████████| 100/100 [00:00<00:00, 1306.69it/s]\n",
            "100%|██████████| 100/100 [00:00<00:00, 1152.99it/s]\n",
            "100%|██████████| 100/100 [00:00<00:00, 1124.86it/s]\n",
            "100%|██████████| 77/77 [00:00<00:00, 130.40it/s]\n",
            "0it [00:00, ?it/s]\n",
            "0it [00:00, ?it/s]\n",
            "0it [00:00, ?it/s]\n",
            "0it [00:00, ?it/s]\n",
            "0it [00:00, ?it/s]\n",
            "0it [00:00, ?it/s]\n"
          ]
        },
        {
          "output_type": "stream",
          "name": "stdout",
          "text": [
            "вакансий получено - 2\n",
            "вакансий пропущено - 1375\n",
            "вакансий с ошибкой - 0\n",
            "('https://api.hh.ru/vacancies?area=1&metro=2.133', 1397)\n",
            "number url - 858\n",
            "размер массива (61395, 1)\n",
            "total_pages - 20\n"
          ]
        },
        {
          "output_type": "stream",
          "name": "stderr",
          "text": [
            "100%|██████████| 100/100 [00:00<00:00, 1355.79it/s]\n",
            "100%|██████████| 100/100 [00:00<00:00, 1307.68it/s]\n",
            "100%|██████████| 100/100 [00:00<00:00, 816.80it/s]\n",
            "100%|██████████| 100/100 [00:00<00:00, 1198.66it/s]\n",
            "100%|██████████| 100/100 [00:00<00:00, 452.78it/s]\n",
            "100%|██████████| 100/100 [00:00<00:00, 120.77it/s]\n",
            "100%|██████████| 100/100 [00:31<00:00,  3.21it/s]\n",
            "100%|██████████| 100/100 [00:40<00:00,  2.45it/s]\n",
            "100%|██████████| 100/100 [00:34<00:00,  2.91it/s]\n",
            "  1%|          | 1/100 [00:00<00:33,  2.94it/s]"
          ]
        },
        {
          "output_type": "stream",
          "name": "stdout",
          "text": [
            "vacancy - Vacancy(id=96262408, name='Специалист информационной безопасности', description='<strong>Обязанности:</strong> <ul> <li>Администрировании NGFW и IPS решений из правого верхнего квадранта Gartner</li> <li>Управление, контроль, сегментация сетей, а также анализ, согласование и контроль политик Firewall</li> <li>Анализ текущих и построение новых Kill Chain в рамках корпоративной сети</li> <li>Администрирование enterprise-решений экосистемы Лаборатории Касперского с объёмом инфраструктуры от 2500 хостов</li> <li>Администрирование PAM-решений отечественного производства</li> <li>Администрирование MDM-систем On-Premise</li> <li>Работа по разбору инцидентов информ. безопасности</li> <li>Постановка на мониторинг новых источников в корпоративный SIEM, поддержание работоспособности сбора данных</li> <li>Внедрение новых инструментов и решений для повышения защищённости</li> <li>Применение и адаптация готовых профилей защиты для корпоративной инфраструктуры</li> <li>Взаимодействие с сервис-провайдером по ИБ</li> <li>Проверка, согласование, установка обновлений ОС и ПО автоматизированными средствами</li> <li>Проверка нового ПО, ведение белого списка, предварительная оценка на векторы уязвимости по информ. безопасности</li> <li>Администрирование криптошлюзов. Преимущественно производства Инфотекс</li> </ul> <strong>Требования:</strong> <ul> <li> <p>Высшее образование по направлению «Информационная безопасность» или связанному с ИТ, но с обязательным опытом работы в ИБ</p> </li> <li> <p>Знания основных принципов ведения проектной деятельности</p> </li> <li> <p>Английский язык на уровне достаточном для чтения технической документации Технические навыки:</p> </li> <li> <p>Опыт администрирования и внедрения вышеуказанных продуктов</p> </li> <li> <p>Преимуществом будет наличие сертификатов</p> </li> <li> <p>Навыки работы с unix и windows системами на уровне системного администратора</p> </li> <li> <p>Знание принципов применения средств криптографической защиты, основ построения PKI-инфраструктуры</p> </li> <li> <p>Работа с Windows/Unix-системами на уровне системного администратора</p> </li> <li> <p>Преимуществом будет:</p> </li> <li> <p>Знание законодательства РФ и основных требований регулирующих органов, связанных с обеспечением информационной безопасности (документы ФСТЭК, ФСБ и др.)</p> </li> <li> <p>Навыки автоматизации с помощью скриптовых языков</p> </li> <li> <p>Опыт участия в проектах по внедрению средств защиты</p> </li> </ul> <strong>Условия:</strong> <ul> <li>Официальное трудоустройство в ИТ аккредитованную компанию</li> <li>Работа в офисе м. Аэропорт, гибрид возможен</li> <li>Стабильность и перспективы: возможность работать в компании, занимающей одну из лидирующих позиций в своем сегменте</li> <li>ДМС от проверенных партнёров, скидки до 40% у 900 партнеров в программе лояльности BestBenefits в т.ч. в Нетологии, Skyeng, World Class, X-Fit, CCCP, КАРО</li> <li>Скидки на туры для себя и близких, после прохождения испытательного срока</li> <li>Обучающие курсы и вебинары в рамках программы Wellbeing: финансовая грамотность, консультации сомнолога, работа со стрессом и выгоранием, до 6 бесплатных коуч-сессий в год и многое другое</li> <li>Корпоративные мероприятия и TGIF по пятницам</li> </ul>', branded_description=None, key_skills='Windows Server Ubuntu Server Bash PowerShell Kaspersky Labs аудит информационной безопасности Cisco Средства криптографической защиты информации Обеспечение антивирусной защиты Palo Alto', professional_roles='Специалист по информационной безопасности')\n",
            "ошибка при записи в БД - UNIQUE constraint failed: vacancies.id\n",
            "UNIQUE constraint failed: vacancies.id\n"
          ]
        },
        {
          "output_type": "stream",
          "name": "stderr",
          "text": [
            "100%|██████████| 100/100 [00:30<00:00,  3.29it/s]\n",
            "100%|██████████| 100/100 [00:29<00:00,  3.36it/s]\n",
            " 63%|██████▎   | 63/100 [00:20<00:35,  1.05it/s]"
          ]
        },
        {
          "output_type": "stream",
          "name": "stdout",
          "text": [
            "errors\n"
          ]
        },
        {
          "output_type": "stream",
          "name": "stderr",
          "text": [
            "100%|██████████| 100/100 [00:30<00:00,  3.32it/s]\n",
            "100%|██████████| 100/100 [00:29<00:00,  3.42it/s]\n",
            "100%|██████████| 80/80 [00:28<00:00,  2.84it/s]\n",
            "0it [00:00, ?it/s]\n",
            "0it [00:00, ?it/s]\n",
            "0it [00:00, ?it/s]\n",
            "0it [00:00, ?it/s]\n",
            "0it [00:00, ?it/s]\n",
            "0it [00:00, ?it/s]\n"
          ]
        },
        {
          "output_type": "stream",
          "name": "stdout",
          "text": [
            "вакансий получено - 483\n",
            "вакансий пропущено - 895\n",
            "вакансий с ошибкой - 1\n",
            "('https://api.hh.ru/vacancies?area=1&metro=6.27', 1391)\n",
            "number url - 857\n",
            "размер массива (61878, 1)\n",
            "total_pages - 20\n"
          ]
        },
        {
          "output_type": "stream",
          "name": "stderr",
          "text": [
            "100%|██████████| 100/100 [00:36<00:00,  2.75it/s]\n",
            " 46%|████▌     | 46/100 [00:19<00:55,  1.02s/it]"
          ]
        },
        {
          "output_type": "stream",
          "name": "stdout",
          "text": [
            "captcha_required\n"
          ]
        },
        {
          "output_type": "stream",
          "name": "stderr",
          "text": [
            "\r 48%|████▊     | 48/100 [00:22<00:56,  1.08s/it]"
          ]
        },
        {
          "output_type": "stream",
          "name": "stdout",
          "text": [
            "captcha_required\n"
          ]
        },
        {
          "output_type": "stream",
          "name": "stderr",
          "text": [
            "\r 50%|█████     | 50/100 [00:24<00:55,  1.11s/it]"
          ]
        },
        {
          "output_type": "stream",
          "name": "stdout",
          "text": [
            "captcha_required\n"
          ]
        },
        {
          "output_type": "stream",
          "name": "stderr",
          "text": [
            "100%|██████████| 100/100 [00:44<00:00,  2.25it/s]\n",
            "100%|██████████| 100/100 [00:34<00:00,  2.86it/s]\n",
            "  1%|          | 1/100 [00:02<04:00,  2.43s/it]"
          ]
        },
        {
          "output_type": "stream",
          "name": "stdout",
          "text": [
            "captcha_required\n"
          ]
        },
        {
          "output_type": "stream",
          "name": "stderr",
          "text": [
            "\r  2%|▏         | 2/100 [00:04<03:51,  2.36s/it]"
          ]
        },
        {
          "output_type": "stream",
          "name": "stdout",
          "text": [
            "captcha_required\n"
          ]
        },
        {
          "output_type": "stream",
          "name": "stderr",
          "text": [
            " 48%|████▊     | 48/100 [00:22<00:51,  1.01it/s]"
          ]
        },
        {
          "output_type": "stream",
          "name": "stdout",
          "text": [
            "captcha_required\n"
          ]
        },
        {
          "output_type": "stream",
          "name": "stderr",
          "text": [
            "100%|██████████| 100/100 [00:39<00:00,  2.55it/s]\n",
            " 66%|██████▌   | 66/100 [00:26<00:22,  1.48it/s]"
          ]
        },
        {
          "output_type": "stream",
          "name": "stdout",
          "text": [
            "captcha_required\n"
          ]
        },
        {
          "output_type": "stream",
          "name": "stderr",
          "text": [
            "100%|██████████| 100/100 [00:37<00:00,  2.69it/s]\n",
            " 98%|█████████▊| 98/100 [00:33<00:01,  1.53it/s]"
          ]
        },
        {
          "output_type": "stream",
          "name": "stdout",
          "text": [
            "captcha_required\n"
          ]
        },
        {
          "output_type": "stream",
          "name": "stderr",
          "text": [
            "100%|██████████| 100/100 [00:34<00:00,  2.92it/s]\n",
            " 39%|███▉      | 39/100 [00:14<00:37,  1.64it/s]"
          ]
        },
        {
          "output_type": "stream",
          "name": "stdout",
          "text": [
            "captcha_required\n"
          ]
        },
        {
          "output_type": "stream",
          "name": "stderr",
          "text": [
            "100%|██████████| 100/100 [00:33<00:00,  2.98it/s]\n",
            " 74%|███████▍  | 74/100 [00:27<00:26,  1.01s/it]"
          ]
        },
        {
          "output_type": "stream",
          "name": "stdout",
          "text": [
            "captcha_required\n"
          ]
        },
        {
          "output_type": "stream",
          "name": "stderr",
          "text": [
            "100%|██████████| 100/100 [00:38<00:00,  2.60it/s]\n",
            "100%|██████████| 100/100 [00:39<00:00,  2.55it/s]\n",
            "  3%|▎         | 3/100 [00:00<00:25,  3.76it/s]"
          ]
        },
        {
          "output_type": "stream",
          "name": "stdout",
          "text": [
            "vacancy - Vacancy(id=92673251, name='Работник на выкладку товара (м. Ростокино)', description='<p><strong>Продавец в сеть торговых центров METRO Cash&amp;Carry</strong></p> <p>Мы предлагаем стабильную работу, уверенность в завтрашнем дне, дружный коллектив и возможность развиваться вместе!</p> <p><strong>Что мы предлагаем:</strong></p> <ul> <li>Официальное трудоустройство в соответствии с ТК РФ с 1-ого рабочего дня;</li> <li>&quot;Белая&quot; заработная плата;</li> <li>Оформление личной медицинской книжки за счет Компании;</li> <li>Бесплатное обучение и форменная одежда;</li> <li>Сменный график работы;</li> <li>Полис ДМС, возможность прикрепить родственников к корпоративному тарифу;</li> <li>Страхование от несчастного случая и болезней;</li> <li>Компенсация питания в корпоративной столовой;</li> <li>Скидки на покупки в Торговых Центрах Компании;</li> <li>Скидки на изучение английского языка;</li> <li>Корпоративные программы и мероприятия.</li> <li>Бонус за трудоустроенных друзей в компанию.</li> </ul> <p><strong>Обязанности:</strong></p> <ul> <li>Помощь покупателям в поиске и выборе необходимых товаров;</li> <li>Своевременное пополнение полок товарами;</li> <li>Приемка товара;</li> <li>Поддержание актуальности ценников, их наличия и оформления;</li> <li>Контроль сроков годности товаров, качества упаковки.</li> <li>Осуществлять сборку заказов.</li> </ul> <p><strong>Кого мы ищем:</strong></p> <ul> <li>Внимательных, ответственных, активных сотрудников;</li> <li>Опыт работы не обязателен</li> </ul> <p>Если Вы не дозвонились, можете отправить свой контактный номер телефона для связи!</p>', branded_description='\\n<style>\\n@charset \"UTF-8\";\\n\\n.tmpl_hh_wrapper p,\\n.tmpl_hh_wrapper a,\\n.tmpl_hh_wrapper img,\\n.tmpl_hh_wrapper ol,\\n.tmpl_hh_wrapper ul,\\n.tmpl_hh_wrapper li {\\n    margin: 0;\\n    padding: 0;\\n    border: 0;\\n    font-size: 100%;\\n    font: inherit;\\n    vertical-align: baseline;\\n}\\n\\n.hht-vacancydescription {\\n    padding: 0px;\\n}\\n\\n.tmpl_hh_wrapper .l-cell,\\n.tmpl_hh_wrapper .l-paddings {\\n    padding: 0px !important;\\n}\\n\\n.tmpl_hh_wrapper .b-vacancy-desc-wrapper {\\n    margin-top: 0px !important;\\n}\\n\\n.tmpl_hh_wrapper .b-vacancy-desc {\\n    overflow: visible !important;\\n    line-height: inherit;\\n}\\n\\n.tmpl_hh_content ol li b,\\n.tmpl_hh_content ol li strong,\\n.tmpl_hh_content ol li em,\\n.tmpl_hh_content ol li p b,\\n.tmpl_hh_content ol li p strong,\\n.tmpl_hh_content ol li p em,\\n.tmpl_hh_content ul li b,\\n.tmpl_hh_content ul li strong,\\n.tmpl_hh_content ul li em,\\n.tmpl_hh_content ul li p b,\\n.tmpl_hh_content ul li p strong,\\n.tmpl_hh_content ul li p em {\\n    font-weight: normal;\\n    font-size: inherit !important;\\n    color: inherit !important;\\n    margin: 0 !important;\\n    text-transform: none;\\n}\\n\\n.tmpl_hh_content ol li p,\\n.tmpl_hh_content ul li p {\\n    font-weight: normal;\\n    margin: 0;\\n}\\n\\n.tmpl_hh_content p b,\\n.tmpl_hh_content p strong {\\n    display: inline;\\n    margin: 0;\\n}\\n\\n.tmpl_hh_wrapper {\\n    width: 100%;\\n    margin: 0 auto;\\n    max-width: 690px;\\n    position: relative;\\n    word-break: normal;\\n    font-family: \"Arial\", sans-serif;\\n    color: #000;\\n    font-size: 14px;\\n    line-height: 1.4;\\n    overflow: hidden;\\n    -webkit-font-smoothing: antialiased;\\n    letter-spacing: 0.03em;\\n}\\n\\n.tmpl_hh_wrapper img {\\n    width: 100%;\\n    display: block;\\n    -webkit-user-select: none;\\n    -moz-user-select: none;\\n    -ms-user-select: none;\\n    user-select: none;\\n}\\n\\n.tmpl_hh_wrapper * {\\n    -webkit-box-sizing: border-box;\\n    box-sizing: border-box;\\n}\\n\\n.tmpl_hh_wrapper [role=button] {\\n    outline: none;\\n}\\n\\n.tmpl_hh_wrapper_content {\\n    background-color: #ececec;\\n    background-image: url(https://hhcdn.ru/ichameleon/262445.jpg);\\n    background-size: 100% auto;\\n    background-repeat: no-repeat;\\n    background-position: 50% 0;\\n}\\n\\n.tmpl_hh_content {\\n    padding: 35px 50px 30px;\\n}\\n\\n.tmpl_hh_content p:first-child,\\n.tmpl_hh_content>strong:first-child,\\n.tmpl_hh_content div>strong:first-child {\\n    margin-top: 0 !important;\\n}\\n\\n.tmpl_hh_content p,\\n.tmpl_hh_content b,\\n.tmpl_hh_content strong {\\n    margin: 30px 0 24px;\\n}\\n\\n.tmpl_hh_content b,\\n.tmpl_hh_content strong {\\n    display: inline-block;\\n    font-weight: bold;\\n}\\n\\n.tmpl_hh_content ol,\\n.tmpl_hh_content ul {\\n    margin-left: 14px;\\n    list-style: none !important;\\n}\\n\\n.tmpl_hh_content ol {\\n    counter-reset: list_counter;\\n}\\n\\n.tmpl_hh_content li {\\n    position: relative;\\n    margin-bottom: 10px;\\n}\\n\\n.tmpl_hh_content ul ul,\\n.tmpl_hh_content ul ol,\\n.tmpl_hh_content ol ol,\\n.tmpl_hh_content ol ul {\\n    margin-top: 10px;\\n}\\n\\n.tmpl_hh_content ol>li {\\n    counter-increment: list_counter;\\n}\\n\\n.tmpl_hh_content li:before {\\n    content: \"\";\\n    position: absolute;\\n    left: -14px;\\n    top: 0;\\n}\\n\\n.tmpl_hh_content ul>li:before {\\n    content: \"•\";\\n}\\n\\n.tmpl_hh_content ol>li:before {\\n    content: counter(list_counter) \".\";\\n}\\n\\n.tmpl_hh_content strong em,\\n.tmpl_hh_content em strong {\\n    display: block;\\n    font-weight: bold;\\n    background-color: #14457f;\\n    color: #ffe600;\\n    font-weight: 600;\\n    font-size: 20px;\\n    line-height: 24px;\\n    letter-spacing: 0.02em;\\n    text-transform: uppercase;\\n    font-style: normal;\\n    font-family: \"Proxima Nova Condensed\", ProximaNovaCond, \"Arial\", sans-serif;\\n    padding: 16px 50px;\\n    width: auto;\\n    margin-left: -50px;\\n    margin-right: -50px;\\n}\\n\\n.tmpl_hh_head {\\n    position: relative;\\n    -webkit-box-shadow: 0px 4px 4px rgba(0, 0, 0, 0.25);\\n    box-shadow: 0px 4px 4px rgba(0, 0, 0, 0.25);\\n}\\n\\n.tmpl_hh_head__img {\\n    position: relative;\\n    z-index: 0;\\n}\\n\\n.tmpl_hh_head__logo {\\n    position: absolute;\\n    top: 50%;\\n    left: 0;\\n    width: 100%;\\n    z-index: 1;\\n    -webkit-transform: translateY(-50%);\\n    -ms-transform: translateY(-50%);\\n    transform: translateY(-50%);\\n    background-color: rgba(20, 69, 127, 0.9);\\n    padding-top: 34px;\\n    padding-bottom: 33px;\\n}\\n\\n.tmpl_hh_head__logo img {\\n    width: 242px;\\n    height: 45px;\\n    margin-left: auto;\\n    margin-right: auto;\\n}\\n\\n.tmpl_hh_footer {\\n    padding: 40px 50px 20px;\\n    background-image: url(https://hhcdn.ru/ichameleon/262444.jpg);\\n    background-size: cover;\\n    background-repeat: no-repeat;\\n    color: #fff;\\n}\\n\\n.tmpl_hh_footer ul {\\n    margin-bottom: 16px;\\n    list-style: none;\\n    margin-left: 18px;\\n}\\n\\n.tmpl_hh_footer ul li {\\n    position: relative;\\n}\\n\\n.tmpl_hh_footer ul li:not(:last-child) {\\n    margin-bottom: 34px;\\n}\\n\\n.tmpl_hh_footer ul li::before {\\n    color: #ffe600;\\n    content: \"•\";\\n    position: absolute;\\n    left: -18px;\\n    top: -1px;\\n    font-size: 24px;\\n    line-height: 24px;\\n}\\n\\n.tmpl_hh_footer__note {\\n    font-weight: 400;\\n    font-size: 12px;\\n    line-height: 15px;\\n    color: rgba(255, 255, 255, 0.3);\\n}\\n\\n@media (max-width: 1019px) {\\n    .tmpl_hh_wrapper {\\n        max-width: 610px;\\n    }\\n}\\n\\n@media (max-width: 699px) {\\n    .tmpl_hh_content {\\n        padding: 33px 16px 40px;\\n    }\\n\\n    .tmpl_hh_content strong em,\\n    .tmpl_hh_content em strong {\\n        margin-left: -16px;\\n        margin-right: -16px;\\n        padding-left: 16px;\\n        padding-right: 16px;\\n    }\\n\\n    .tmpl_hh_head__logo {\\n        padding: 17px 0 15px;\\n    }\\n\\n    .tmpl_hh_head__logo img {\\n        width: 50%;\\n        height: auto;\\n    }\\n\\n    .tmpl_hh_footer {\\n        padding-left: 16px;\\n        padding-right: 16px;\\n        padding-top: 34px;\\n        padding-bottom: 30px;\\n    }\\n\\n    .tmpl_hh_footer ul li:not(:last-child) {\\n        margin-bottom: 30px;\\n    }\\n\\n    .tmpl_hh_footer__note {\\n        margin-top: 22px;\\n    }\\n}\\n\\n@media (max-width: 414px) {\\n    .tmpl_hh_head__logo {\\n        padding: 9px 0 10px;\\n    }\\n}\\n</style>\\n\\n<script>\\n//\\nfunction DOM_HH_Ready() {}\\n\\nif (document.readyState === \"loading\") {\\n    document.addEventListener(\"DOMContentLoaded\", DOM_HH_Ready);\\n} else {\\n    DOM_HH_Ready();\\n}\\n//\\n</script>\\n\\n\\n    <div class=\"tmpl_hh_wrapper\">\\n        <div class=\"tmpl_hh_head\">\\n            <div class=\"tmpl_hh_head__img\">\\n                <img src=\"https://hhcdn.ru/ichameleon/262447.jpg\" alt=\"\">\\n            </div>\\n            <div class=\"tmpl_hh_head__logo\">\\n                <img src=\"https://hhcdn.ru/ichameleon/262446.svg\" alt=\"\">\\n            </div>\\n        </div>\\n        <div class=\"tmpl_hh_wrapper_content\">\\n            <div class=\"tmpl_hh_content\">\\n        <p><strong>Продавец в сеть торговых центров METRO Cash&amp;Carry</strong></p> <p>Мы предлагаем стабильную работу, уверенность в завтрашнем дне, дружный коллектив и возможность развиваться вместе!</p> <p><strong>Что мы предлагаем:</strong></p> <ul> <li>Официальное трудоустройство в соответствии с ТК РФ с 1-ого рабочего дня;</li> <li>\"Белая\" заработная плата;</li> <li>Оформление личной медицинской книжки за счет Компании;</li> <li>Бесплатное обучение и форменная одежда;</li> <li>Сменный график работы;</li> <li>Полис ДМС, возможность прикрепить родственников к корпоративному тарифу;</li> <li>Страхование от несчастного случая и болезней;</li> <li>Компенсация питания в корпоративной столовой;</li> <li>Скидки на покупки в Торговых Центрах Компании;</li> <li>Скидки на изучение английского языка;</li> <li>Корпоративные программы и мероприятия.</li> <li>Бонус за трудоустроенных друзей в компанию.</li> </ul> <p><strong>Обязанности:</strong></p> <ul> <li>Помощь покупателям в поиске и выборе необходимых товаров;</li> <li>Своевременное пополнение полок товарами;</li> <li>Приемка товара;</li> <li>Поддержание актуальности ценников, их наличия и оформления;</li> <li>Контроль сроков годности товаров, качества упаковки.</li> <li>Осуществлять сборку заказов.</li> </ul> <p><strong>Кого мы ищем:</strong></p> <ul> <li>Внимательных, ответственных, активных сотрудников;</li> <li>Опыт работы не обязателен</li> </ul> <p>Если Вы не дозвонились, можете отправить свой контактный номер телефона для связи!</p></div>\\n        </div>\\n        <div class=\"tmpl_hh_footer\">\\n            <ul class=\"tmpl_hh_list\">\\n                <li>METRO Россия — одна из крупнейших мелкооптовых торговых сетей в мире*.\\n                    Мы предлагаем широкий ассортимент продовольственных и непродовольственных товаров и специализируемся на удовлетворении потребностей сегмента HoReCa и независимых торговых организаций.</li>\\n                <li>Мы ценим культуру профессионального признания в нашей команде — мы развиваемся, в том числе, и через обучение коллег, передавая друг другу свои экспертные знания. </li>\\n                <li>Мы заботимся о нашей стабильности и выстраиваем систему оплаты труда и льгот, в которой каждый из нас ощущает свою ценность и значимость в профессии и компании.</li>\\n            </ul>\\n            <div class=\"tmpl_hh_footer__note\">\\n                <p>ООО «МЕТРО Кэш энд Керри» представляет бренд METRO</p>\\n                <p>* Рейтинг крупнейших FoodTech-компаний России, 1-е полугодие 2022 г</p>\\n            </div>\\n        </div>\\n    </div>\\n\\n', key_skills='', professional_roles='Продавец-консультант, продавец-кассир')\n",
            "ошибка при записи в БД - UNIQUE constraint failed: vacancies.id\n",
            "UNIQUE constraint failed: vacancies.id\n"
          ]
        },
        {
          "output_type": "stream",
          "name": "stderr",
          "text": [
            " 90%|█████████ | 90/100 [00:30<00:08,  1.12it/s]"
          ]
        },
        {
          "output_type": "stream",
          "name": "stdout",
          "text": [
            "captcha_required\n"
          ]
        },
        {
          "output_type": "stream",
          "name": "stderr",
          "text": [
            "100%|██████████| 100/100 [00:33<00:00,  2.99it/s]\n",
            "100%|██████████| 100/100 [00:33<00:00,  3.00it/s]\n",
            " 69%|██████▉   | 69/100 [00:27<00:21,  1.41it/s]"
          ]
        },
        {
          "output_type": "stream",
          "name": "stdout",
          "text": [
            "captcha_required\n"
          ]
        },
        {
          "output_type": "stream",
          "name": "stderr",
          "text": [
            "100%|██████████| 100/100 [00:38<00:00,  2.61it/s]\n",
            "100%|██████████| 100/100 [00:33<00:00,  2.99it/s]\n",
            " 63%|██████▎   | 51/81 [00:17<00:27,  1.09it/s]"
          ]
        },
        {
          "output_type": "stream",
          "name": "stdout",
          "text": [
            "captcha_required\n"
          ]
        },
        {
          "output_type": "stream",
          "name": "stderr",
          "text": [
            "100%|██████████| 81/81 [00:30<00:00,  2.65it/s]"
          ]
        },
        {
          "output_type": "stream",
          "name": "stdout",
          "text": [
            "captcha_required\n"
          ]
        },
        {
          "output_type": "stream",
          "name": "stderr",
          "text": [
            "\n",
            "0it [00:00, ?it/s]\n",
            "0it [00:00, ?it/s]\n",
            "0it [00:00, ?it/s]\n",
            "0it [00:00, ?it/s]\n",
            "0it [00:00, ?it/s]\n",
            "0it [00:00, ?it/s]\n"
          ]
        },
        {
          "output_type": "stream",
          "name": "stdout",
          "text": [
            "вакансий получено - 996\n",
            "вакансий пропущено - 370\n",
            "вакансий с ошибкой - 14\n",
            "('https://api.hh.ru/vacancies?area=2&metro=16.232', 1372)\n",
            "number url - 856\n",
            "размер массива (62874, 1)\n",
            "total_pages - 20\n"
          ]
        },
        {
          "output_type": "stream",
          "name": "stderr",
          "text": [
            "100%|██████████| 100/100 [00:38<00:00,  2.62it/s]\n",
            " 49%|████▉     | 49/100 [00:19<00:35,  1.43it/s]"
          ]
        },
        {
          "output_type": "stream",
          "name": "stdout",
          "text": [
            "captcha_required\n"
          ]
        },
        {
          "output_type": "stream",
          "name": "stderr",
          "text": [
            "\r 50%|█████     | 50/100 [00:21<00:53,  1.07s/it]"
          ]
        },
        {
          "output_type": "stream",
          "name": "stdout",
          "text": [
            "captcha_required\n"
          ]
        },
        {
          "output_type": "stream",
          "name": "stderr",
          "text": [
            "100%|██████████| 100/100 [00:38<00:00,  2.58it/s]\n",
            "100%|██████████| 100/100 [00:38<00:00,  2.62it/s]\n",
            "  7%|▋         | 7/100 [00:04<01:36,  1.04s/it]"
          ]
        },
        {
          "output_type": "stream",
          "name": "stdout",
          "text": [
            "captcha_required\n"
          ]
        },
        {
          "output_type": "stream",
          "name": "stderr",
          "text": [
            " 84%|████████▍ | 84/100 [00:36<00:12,  1.26it/s]"
          ]
        },
        {
          "output_type": "stream",
          "name": "stdout",
          "text": [
            "captcha_required\n"
          ]
        },
        {
          "output_type": "stream",
          "name": "stderr",
          "text": [
            "100%|██████████| 100/100 [00:41<00:00,  2.38it/s]\n",
            " 62%|██████▏   | 62/100 [00:24<00:37,  1.01it/s]"
          ]
        },
        {
          "output_type": "stream",
          "name": "stdout",
          "text": [
            "captcha_required\n"
          ]
        },
        {
          "output_type": "stream",
          "name": "stderr",
          "text": [
            "100%|██████████| 100/100 [00:39<00:00,  2.55it/s]\n",
            " 57%|█████▋    | 57/100 [00:23<00:41,  1.04it/s]"
          ]
        },
        {
          "output_type": "stream",
          "name": "stdout",
          "text": [
            "captcha_required\n"
          ]
        },
        {
          "output_type": "stream",
          "name": "stderr",
          "text": [
            "100%|██████████| 100/100 [00:39<00:00,  2.52it/s]\n",
            "100%|██████████| 100/100 [00:38<00:00,  2.61it/s]\n",
            " 58%|█████▊    | 58/100 [00:23<00:31,  1.35it/s]"
          ]
        },
        {
          "output_type": "stream",
          "name": "stdout",
          "text": [
            "captcha_required\n"
          ]
        },
        {
          "output_type": "stream",
          "name": "stderr",
          "text": [
            "100%|██████████| 100/100 [00:42<00:00,  2.36it/s]\n",
            "100%|██████████| 100/100 [00:43<00:00,  2.31it/s]\n",
            "100%|██████████| 100/100 [00:45<00:00,  2.21it/s]\n",
            "100%|██████████| 100/100 [00:43<00:00,  2.31it/s]\n",
            "100%|██████████| 100/100 [00:48<00:00,  2.06it/s]\n",
            "100%|██████████| 100/100 [00:43<00:00,  2.31it/s]\n",
            "100%|██████████| 54/54 [00:23<00:00,  2.28it/s]\n",
            "0it [00:00, ?it/s]\n",
            "0it [00:00, ?it/s]\n",
            "0it [00:00, ?it/s]\n",
            "0it [00:00, ?it/s]\n",
            "0it [00:00, ?it/s]\n",
            "0it [00:00, ?it/s]\n"
          ]
        },
        {
          "output_type": "stream",
          "name": "stdout",
          "text": [
            "вакансий получено - 1095\n",
            "вакансий пропущено - 252\n",
            "вакансий с ошибкой - 7\n",
            "('https://api.hh.ru/vacancies?area=2&metro=17.243', 1357)\n",
            "number url - 855\n",
            "размер массива (63969, 1)\n",
            "total_pages - 20\n"
          ]
        },
        {
          "output_type": "stream",
          "name": "stderr",
          "text": [
            "100%|██████████| 100/100 [00:28<00:00,  3.46it/s]\n",
            "100%|██████████| 100/100 [00:25<00:00,  3.85it/s]\n",
            " 15%|█▌        | 15/100 [00:04<00:37,  2.29it/s]"
          ]
        },
        {
          "output_type": "stream",
          "name": "stdout",
          "text": [
            "captcha_required\n"
          ]
        },
        {
          "output_type": "stream",
          "name": "stderr",
          "text": [
            "100%|██████████| 100/100 [00:27<00:00,  3.58it/s]\n",
            "100%|██████████| 100/100 [00:29<00:00,  3.38it/s]\n",
            "100%|██████████| 100/100 [00:25<00:00,  3.85it/s]\n",
            "100%|██████████| 100/100 [00:33<00:00,  2.96it/s]\n",
            "  1%|          | 1/100 [00:00<00:50,  1.96it/s]"
          ]
        },
        {
          "output_type": "stream",
          "name": "stdout",
          "text": [
            "vacancy - Vacancy(id=95901243, name='Продавец магазина ZARINA (возможна подработка, ТЦ Июнь, м. Ладожская)', description='<p><strong><strong>Еще в детстве ты представлял себя продавцом, играя во дворе с листьями-деньгами? Закрой гештальт и оставляй отклик</strong></strong>❤</p> <p><strong><strong>От нас:</strong></strong></p> <ul> <li>все официально, белая зарплата каждые 2 недели</li> <li>work-life balance c гибким графиком 3/4 или 4/3 (вс, пн, вт, ср)</li> <li>аутфиты со скидкой 50% на ZARINA, Befree, LOVE REPUBLIC, Sela, IDOL</li> <li>за деньги - да! бонус за приведенных в бренд друзей</li> <li>новые скиллы в Онлайн Академии ZARINA (это база)</li> <li>surprise surprise - быстрый карьерный рост и поддержка руководителя</li> </ul> <p><strong><strong>Твой рабочий день (не </strong></strong><strong><strong>pov</strong></strong><strong><strong>, а рил):</strong></strong></p> <ul> <li>поддерживаешь командный вайб</li> <li>локации - торговый зал, примерочные, касса</li> </ul> <p><strong><strong>Круто, если ты:</strong></strong></p> <ul> <li>открыт к общению (тебя боится социофобия)</li> <li>следишь за трендами</li> <li>стремишься к развитию в сфере fashion (по возможности)</li> </ul> <p><strong><strong>НАПИШИ НАМ</strong></strong><strong><strong>!</strong></strong></p>', branded_description='\\n<style>\\n\\n.tmpl_hh_video {\\ndisplay:flex;\\n}\\n.tmpl_hh_video video {\\nwidth: 100%;\\nheight: auto;\\n\\n}\\n\\n.swiper-container {\\n    margin: 0 auto;\\n    position: relative;\\n    overflow: hidden;\\n    list-style: none;\\n    padding: 0;\\n    z-index: 1;\\n}\\n\\n.swiper-container-no-flexbox .swiper-slide {\\n    float: left;\\n}\\n\\n.swiper-container-vertical>.swiper-wrapper {\\n    -webkit-box-orient: vertical;\\n    -webkit-box-direction: normal;\\n    -ms-flex-direction: column;\\n    flex-direction: column;\\n}\\n\\n.swiper-wrapper {\\n    position: relative;\\n    width: 100%;\\n    height: 100%;\\n    z-index: 1;\\n    display: -webkit-box;\\n    display: -ms-flexbox;\\n    display: flex;\\n    -webkit-transition-property: -webkit-transform;\\n    transition-property: -webkit-transform;\\n    -o-transition-property: transform;\\n    transition-property: transform;\\n    transition-property: transform, -webkit-transform;\\n    -webkit-box-sizing: content-box;\\n    box-sizing: content-box;\\n}\\n\\n.swiper-container-android .swiper-slide,\\n.swiper-wrapper {\\n    -webkit-transform: translate3d(0px, 0, 0);\\n    transform: translate3d(0px, 0, 0);\\n}\\n\\n.swiper-container-multirow>.swiper-wrapper {\\n    -ms-flex-wrap: wrap;\\n    flex-wrap: wrap;\\n}\\n\\n.swiper-container-free-mode>.swiper-wrapper {\\n    -webkit-transition-timing-function: ease-out;\\n    -o-transition-timing-function: ease-out;\\n    transition-timing-function: ease-out;\\n    margin: 0 auto;\\n}\\n\\n.swiper-slide {\\n    -ms-flex-negative: 0;\\n    flex-shrink: 0;\\n    width: 100%;\\n    height: 100%;\\n    position: relative;\\n    -webkit-transition-property: -webkit-transform;\\n    transition-property: -webkit-transform;\\n    -o-transition-property: transform;\\n    transition-property: transform;\\n    transition-property: transform, -webkit-transform;\\n}\\n\\n.swiper-slide-invisible-blank {\\n    visibility: hidden;\\n}\\n\\n.swiper-container-autoheight,\\n.swiper-container-autoheight .swiper-slide {\\n    height: auto;\\n}\\n\\n.swiper-container-autoheight .swiper-wrapper {\\n    -webkit-box-align: start;\\n    -ms-flex-align: start;\\n    align-items: flex-start;\\n    -webkit-transition-property: height, -webkit-transform;\\n    transition-property: height, -webkit-transform;\\n    -o-transition-property: transform, height;\\n    transition-property: transform, height;\\n    transition-property: transform, height, -webkit-transform;\\n}\\n\\n.swiper-container-fade.swiper-container-free-mode .swiper-slide {\\n    -webkit-transition-timing-function: ease-out;\\n    -o-transition-timing-function: ease-out;\\n    transition-timing-function: ease-out;\\n}\\n\\n.swiper-container-fade .swiper-slide {\\n    pointer-events: none;\\n    -webkit-transition-property: opacity;\\n    -o-transition-property: opacity;\\n    transition-property: opacity;\\n}\\n\\n.swiper-container-fade .swiper-slide .swiper-slide {\\n    pointer-events: none;\\n}\\n\\n.swiper-container-fade .swiper-slide-active,\\n.swiper-container-fade .swiper-slide-active .swiper-slide-active {\\n    pointer-events: auto;\\n}\\n\\n.swiper-container-3d {\\n    -webkit-perspective: 1200px;\\n    perspective: 1200px;\\n}\\n\\n.swiper-container-3d .swiper-wrapper,\\n.swiper-container-3d .swiper-slide,\\n.swiper-container-3d .swiper-slide-shadow-left,\\n.swiper-container-3d .swiper-slide-shadow-right,\\n.swiper-container-3d .swiper-slide-shadow-top,\\n.swiper-container-3d .swiper-slide-shadow-bottom,\\n.swiper-container-3d .swiper-cube-shadow {\\n    -webkit-transform-style: preserve-3d;\\n    transform-style: preserve-3d;\\n}\\n\\n.swiper-container-3d .swiper-slide-shadow-left,\\n.swiper-container-3d .swiper-slide-shadow-right,\\n.swiper-container-3d .swiper-slide-shadow-top,\\n.swiper-container-3d .swiper-slide-shadow-bottom {\\n    position: absolute;\\n    left: 0;\\n    top: 0;\\n    width: 100%;\\n    height: 100%;\\n    pointer-events: none;\\n    z-index: 10;\\n}\\n\\n.swiper-container-3d .swiper-slide-shadow-left {\\n    background-image: -webkit-gradient(linear, right top, left top, from(rgba(0, 0, 0, 0.5)), to(rgba(0, 0, 0, 0)));\\n    background-image: -webkit-linear-gradient(right, rgba(0, 0, 0, 0.5), rgba(0, 0, 0, 0));\\n    background-image: -o-linear-gradient(right, rgba(0, 0, 0, 0.5), rgba(0, 0, 0, 0));\\n    background-image: linear-gradient(to left, rgba(0, 0, 0, 0.5), rgba(0, 0, 0, 0));\\n}\\n\\n.swiper-container-3d .swiper-slide-shadow-right {\\n    background-image: -webkit-gradient(linear, left top, right top, from(rgba(0, 0, 0, 0.5)), to(rgba(0, 0, 0, 0)));\\n    background-image: -webkit-linear-gradient(left, rgba(0, 0, 0, 0.5), rgba(0, 0, 0, 0));\\n    background-image: -o-linear-gradient(left, rgba(0, 0, 0, 0.5), rgba(0, 0, 0, 0));\\n    background-image: linear-gradient(to right, rgba(0, 0, 0, 0.5), rgba(0, 0, 0, 0));\\n}\\n\\n.swiper-container-3d .swiper-slide-shadow-top {\\n    background-image: -webkit-gradient(linear, left bottom, left top, from(rgba(0, 0, 0, 0.5)), to(rgba(0, 0, 0, 0)));\\n    background-image: -webkit-linear-gradient(bottom, rgba(0, 0, 0, 0.5), rgba(0, 0, 0, 0));\\n    background-image: -o-linear-gradient(bottom, rgba(0, 0, 0, 0.5), rgba(0, 0, 0, 0));\\n    background-image: linear-gradient(to top, rgba(0, 0, 0, 0.5), rgba(0, 0, 0, 0));\\n}\\n\\n.swiper-container-3d .swiper-slide-shadow-bottom {\\n    background-image: -webkit-gradient(linear, left top, left bottom, from(rgba(0, 0, 0, 0.5)), to(rgba(0, 0, 0, 0)));\\n    background-image: -webkit-linear-gradient(top, rgba(0, 0, 0, 0.5), rgba(0, 0, 0, 0));\\n    background-image: -o-linear-gradient(top, rgba(0, 0, 0, 0.5), rgba(0, 0, 0, 0));\\n    background-image: linear-gradient(to bottom, rgba(0, 0, 0, 0.5), rgba(0, 0, 0, 0));\\n}\\n\\n.swiper-container-wp8-horizontal,\\n.swiper-container-wp8-horizontal>.swiper-wrapper {\\n    -ms-touch-action: pan-y;\\n    touch-action: pan-y;\\n}\\n\\n.swiper-container-wp8-vertical,\\n.swiper-container-wp8-vertical>.swiper-wrapper {\\n    -ms-touch-action: pan-x;\\n    touch-action: pan-x;\\n}\\n\\n.swiper-container-coverflow .swiper-wrapper {\\n    -ms-perspective: 1200px;\\n}\\n\\n.swiper-scrollbar {\\n    border-radius: 10px;\\n    position: relative;\\n    -ms-touch-action: none;\\n    background: rgba(0, 0, 0, 0.1);\\n}\\n\\n.swiper-container-horizontal>.swiper-scrollbar {\\n    position: absolute;\\n    left: 1%;\\n    bottom: 3px;\\n    z-index: 50;\\n    height: 5px;\\n    width: 98%;\\n}\\n\\n.swiper-container-vertical>.swiper-scrollbar {\\n    position: absolute;\\n    right: 3px;\\n    top: 1%;\\n    z-index: 50;\\n    width: 5px;\\n    height: 98%;\\n}\\n\\n.swiper-scrollbar-drag {\\n    height: 100%;\\n    width: 100%;\\n    position: relative;\\n    background: rgba(0, 0, 0, 0.5);\\n    border-radius: 10px;\\n    left: 0;\\n    top: 0;\\n}\\n\\n.swiper-scrollbar-cursor-drag {\\n    cursor: move;\\n}\\n\\n.swiper-scrollbar-lock {\\n    display: none;\\n}\\n\\nbutton.swiper-pagination-bullet {\\n    border: none;\\n    margin: 0;\\n    padding: 0;\\n    -webkit-box-shadow: none;\\n    box-shadow: none;\\n    -webkit-appearance: none;\\n    -moz-appearance: none;\\n    appearance: none;\\n}\\n\\n.swiper-pagination.swiper-pagination-hidden {\\n    opacity: 0;\\n}\\n\\n.swiper-pagination-clickable .swiper-pagination-bullet {\\n    cursor: pointer;\\n}\\n\\n.swiper-pagination {\\n    position: absolute;\\n    font-size: 0;\\n    line-height: 0;\\n    z-index: 10;\\n    bottom: 8px;\\n    left: 0;\\n    right: 0;\\n    text-align: center;\\n    display: none;\\n}\\n\\n.swiper-pagination-bullet {\\n    width: 6px;\\n    height: 6px;\\n    margin: 0 7px;\\n    display: inline-block;\\n    outline: none;\\n    position: relative;\\n    background: #000;\\n    opacity: 0.5;\\n}\\n\\n.swiper-pagination-bullet-active {\\n    opacity: 1;\\n}\\n\\n.swiper-button {\\n    cursor: pointer;\\n    position: absolute;\\n    padding-bottom: 64px;\\n    width: 34px;\\n    z-index: 5;\\n    display: block;\\n    top: 50%;\\n    background-image: url(https://hhcdn.ru/ichameleon/185920.png);\\n    background-size: 100% 100%;\\n    background-repeat: no-repeat;\\n    background-position: center;\\n    transform: translate(0,-50%);\\n}\\n\\n.swiper-button-next {\\n    right: 33px;\\n}\\n\\n.swiper-button-prev {\\n    left: 33px;\\n    transform: translate(0,-50%) scale(-1,-1);\\n}\\n\\n.tmpl_hh_sliderPhoto {\\n    position: relative;\\n}\\n\\n.tmpl_hh_wrapper p,\\n.tmpl_hh_wrapper a,\\n.tmpl_hh_wrapper img,\\n.tmpl_hh_wrapper ol,\\n.tmpl_hh_wrapper ul,\\n.tmpl_hh_wrapper li {\\n    margin: 0;\\n    padding: 0;\\n    border: 0;\\n    font-size: 100%;\\n    font: inherit;\\n    vertical-align: baseline;\\n}\\n\\n.hht-vacancydescription {\\n    padding: 0px;\\n}\\n\\n.tmpl_hh_wrapper .l-cell,\\n.tmpl_hh_wrapper .l-paddings {\\n    padding: 0px !important;\\n}\\n\\n.tmpl_hh_wrapper .b-vacancy-desc-wrapper {\\n    margin-top: 0px !important;    \\n}\\n\\n.tmpl_hh_wrapper .b-vacancy-desc {\\n    overflow: visible !important;\\n    line-height: inherit;\\n}\\n\\n.tmpl_hh_content ol li b,\\n.tmpl_hh_content ol li strong,\\n.tmpl_hh_content ol li p b,\\n.tmpl_hh_content ol li p strong,\\n.tmpl_hh_content ul li b,\\n.tmpl_hh_content ul li strong,\\n.tmpl_hh_content ul li p b,\\n.tmpl_hh_content ul li p strong {\\n    font-weight: normal;\\n    font-size: inherit !important;\\n    color: inherit !important;\\n    margin: 0 !important;\\n    text-transform: none;\\n    line-height: inherit;\\n    padding: 0;\\n}\\n\\n.tmpl_hh_content ol li p,\\n.tmpl_hh_content ul li p {\\n    font-weight: normal;\\n    margin: 0;\\n}\\n\\n.tmpl_hh_content p b,\\n.tmpl_hh_content p strong {\\n    display: inline;\\n    margin: 0 0 0;\\n}\\n\\n.tmpl_hh_wrapper {\\n    width: 100%;\\n    margin: 0 auto;\\n    max-width: 690px;\\n    position: relative;\\n    word-break: normal;\\n    overflow: hidden;\\n    font-family: Arial, sans-serif;\\n    font-size: 16px;\\n    line-height: 24px;\\n    color: #282828;\\n}\\n\\n.tmpl_hh_wrapper img {\\n    width: 100%;\\n    display: block;\\n}\\n\\n.tmpl_hh_content {\\n    padding: 50px 50px 52px;\\n    position: relative;\\n}\\n\\n.tmpl_hh_content p:first-child,\\n.tmpl_hh_content>strong:first-child,\\n.tmpl_hh_content div>strong:first-child {\\n    margin-top: 0 !important;\\n}\\n\\n.tmpl_hh_content p,\\n.tmpl_hh_content b,\\n.tmpl_hh_content strong {\\n    margin: 30px 0 30px;\\n}\\n\\n.tmpl_hh_content b, \\n.tmpl_hh_content strong {\\n    display: inline-block;\\n    font-weight: bold;\\n    font-size: 24px;\\n    line-height: 29px;\\n    text-transform: uppercase;\\n    color: #000000;\\n}\\n\\n.tmpl_hh_content ol,\\n.tmpl_hh_content ul {\\n    margin-left: 33px;\\n    list-style: none !important;\\n}\\n\\n.tmpl_hh_content ol {\\n    counter-reset: list_counter;\\n}\\n\\n.tmpl_hh_content li {\\n    position: relative;\\n    margin-bottom: 12px;\\n}\\n\\n.tmpl_hh_content ul ul,\\n.tmpl_hh_content ul ol,\\n.tmpl_hh_content ol ol,\\n.tmpl_hh_content ol ul {\\n    margin-top: 12px;\\n}\\n\\n.tmpl_hh_content ol>li {\\n    counter-increment: list_counter;    \\n}\\n\\n.tmpl_hh_content li:before {\\n    position: absolute;\\n    left: -33px;\\n    top: 0;\\n}\\n\\n.tmpl_hh_content ul>li:before {\\n    content: \"\";\\n    width: 15px;\\n    height: 1px;\\n    top: 12px;\\n    background: #282828;\\n}\\n\\n.tmpl_hh_content ol>li:before {\\n    content: counter(list_counter)\\'.\\';\\n    left: auto;\\n    right: 100%;\\n    margin-right: 2px;\\n}\\n\\n.tmpl_hh_flex {\\n    display: -webkit-box;\\n    display: -ms-flexbox;\\n    display: flex;\\n    -webkit-box-pack: justify;\\n    -ms-flex-pack: justify;\\n    justify-content: space-between;\\n    -ms-flex-wrap: wrap;\\n    flex-wrap: wrap;\\n}\\n\\n.tmpl_hh_header {\\n    position: relative;\\n    height: 478px;\\n}\\n\\n.tmpl_hh_header video {\\n    height: 100%;\\n}\\n\\n.tmpl_hh_header__logo {\\n    position: absolute;\\n    left: 0;\\n    right: 0;\\n    width: 49.5%;\\n    margin: 0 auto;\\n    bottom: -11.3%;\\n    background: #fff;\\n    padding: 16px 46px 0 34px;\\n    box-sizing: border-box;\\n}\\n\\n.tmpl_hh_footer {\\n    background: #211e1f;\\n    position: relative;\\n    z-index: 4;\\n    margin: -1px 0 0;\\n    padding: 37px 36px;\\n    color: #fff;\\n    align-items: center;\\n    line-height: 18px;\\n}\\n\\n.tmpl_hh_footer__logo {\\n    width: 112px;\\n}\\n\\np.tmpl_hh_footer__text {\\n    width: calc(100% - 165px);\\n}\\n\\n\\n@media screen and (max-width: 699px) {\\n    .tmpl_hh_content {\\n        padding: 50px 10px 25px;\\n    }\\n\\n    .tmpl_hh_header {\\n        height: auto;\\n    }\\n\\n    .tmpl_hh_header video {\\n        width: 100%;\\n    }\\n    \\n    .swiper-pagination {\\n        display: block;\\n    }\\n\\n    .swiper-button {\\n        display: none;\\n    }\\n\\n    .tmpl_hh_footer__logo {\\n        width: 112px;\\n        margin: 0 auto;\\n    }\\n\\n    p.tmpl_hh_footer__text {\\n        width: 100%;\\n        padding: 30px 0 0;\\n        text-align: center;\\n    }\\n\\n    .tmpl_hh_footer {\\n        margin: -1px 0 0;\\n        padding: 30px 10px;\\n    }\\n}\\n\\n\\n</style>\\n\\n<script type=\"text/javascript\">  \\n//\\n// swiper\\n!function(e,t){\"object\"==typeof exports&&\"undefined\"!=typeof module?module.exports=t():\"function\"==typeof define&&define.amd?define(t):(e=e||self).Swiper=t()}(this,function(){\"use strict\";var f=\"undefined\"==typeof document?{body:{},addEventListener:function(){},removeEventListener:function(){},activeElement:{blur:function(){},nodeName:\"\"},querySelector:function(){return null},querySelectorAll:function(){return[]},getElementById:function(){return null},createEvent:function(){return{initEvent:function(){}}},createElement:function(){return{children:[],childNodes:[],style:{},setAttribute:function(){},getElementsByTagName:function(){return[]}}},location:{hash:\"\"}}:document,J=\"undefined\"==typeof window?{document:f,navigator:{userAgent:\"\"},location:{},history:{},CustomEvent:function(){return this},addEventListener:function(){},removeEventListener:function(){},getComputedStyle:function(){return{getPropertyValue:function(){return\"\"}}},Image:function(){},Date:function(){},screen:{},setTimeout:function(){},clearTimeout:function(){}}:window,l=function(e){for(var t=0;t<e.length;t+=1)this[t]=e[t];return this.length=e.length,this};function E(e,t){var i=[],s=0;if(e&&!t&&e instanceof l)return e;if(e)if(\"string\"==typeof e){var a,r,n=e.trim();if(0<=n.indexOf(\"<\")&&0<=n.indexOf(\">\")){var o=\"div\";for(0===n.indexOf(\"<li\")&&(o=\"ul\"),0===n.indexOf(\"<tr\")&&(o=\"tbody\"),0!==n.indexOf(\"<td\")&&0!==n.indexOf(\"<th\")||(o=\"tr\"),0===n.indexOf(\"<tbody\")&&(o=\"table\"),0===n.indexOf(\"<option\")&&(o=\"select\"),(r=f.createElement(o)).innerHTML=n,s=0;s<r.childNodes.length;s+=1)i.push(r.childNodes[s])}else for(a=t||\"#\"!==e[0]||e.match(/[ .<>:~]/)?(t||f).querySelectorAll(e.trim()):[f.getElementById(e.trim().split(\"#\")[1])],s=0;s<a.length;s+=1)a[s]&&i.push(a[s])}else if(e.nodeType||e===J||e===f)i.push(e);else if(0<e.length&&e[0].nodeType)for(s=0;s<e.length;s+=1)i.push(e[s]);return new l(i)}function r(e){for(var t=[],i=0;i<e.length;i+=1)-1===t.indexOf(e[i])&&t.push(e[i]);return t}E.fn=l.prototype,E.Class=l,E.Dom7=l;var t={addClass:function(e){if(void 0===e)return this;for(var t=e.split(\" \"),i=0;i<t.length;i+=1)for(var s=0;s<this.length;s+=1)void 0!==this[s]&&void 0!==this[s].classList&&this[s].classList.add(t[i]);return this},removeClass:function(e){for(var t=e.split(\" \"),i=0;i<t.length;i+=1)for(var s=0;s<this.length;s+=1)void 0!==this[s]&&void 0!==this[s].classList&&this[s].classList.remove(t[i]);return this},hasClass:function(e){return!!this[0]&&this[0].classList.contains(e)},toggleClass:function(e){for(var t=e.split(\" \"),i=0;i<t.length;i+=1)for(var s=0;s<this.length;s+=1)void 0!==this[s]&&void 0!==this[s].classList&&this[s].classList.toggle(t[i]);return this},attr:function(e,t){var i=arguments;if(1===arguments.length&&\"string\"==typeof e)return this[0]?this[0].getAttribute(e):void 0;for(var s=0;s<this.length;s+=1)if(2===i.length)this[s].setAttribute(e,t);else for(var a in e)this[s][a]=e[a],this[s].setAttribute(a,e[a]);return this},removeAttr:function(e){for(var t=0;t<this.length;t+=1)this[t].removeAttribute(e);return this},data:function(e,t){var i;if(void 0!==t){for(var s=0;s<this.length;s+=1)(i=this[s]).dom7ElementDataStorage||(i.dom7ElementDataStorage={}),i.dom7ElementDataStorage[e]=t;return this}if(i=this[0]){if(i.dom7ElementDataStorage&&e in i.dom7ElementDataStorage)return i.dom7ElementDataStorage[e];var a=i.getAttribute(\"data-\"+e);return a||void 0}},transform:function(e){for(var t=0;t<this.length;t+=1){var i=this[t].style;i.webkitTransform=e,i.transform=e}return this},transition:function(e){\"string\"!=typeof e&&(e+=\"ms\");for(var t=0;t<this.length;t+=1){var i=this[t].style;i.webkitTransitionDuration=e,i.transitionDuration=e}return this},on:function(){for(var e,t=[],i=arguments.length;i--;)t[i]=arguments[i];var s=t[0],r=t[1],n=t[2],a=t[3];function o(e){var t=e.target;if(t){var i=e.target.dom7EventData||[];if(i.indexOf(e)<0&&i.unshift(e),E(t).is(r))n.apply(t,i);else for(var s=E(t).parents(),a=0;a<s.length;a+=1)E(s[a]).is(r)&&n.apply(s[a],i)}}function l(e){var t=e&&e.target&&e.target.dom7EventData||[];t.indexOf(e)<0&&t.unshift(e),n.apply(this,t)}\"function\"==typeof t[1]&&(s=(e=t)[0],n=e[1],a=e[2],r=void 0),a=a||!1;for(var d,p=s.split(\" \"),u=0;u<this.length;u+=1){var c=this[u];if(r)for(d=0;d<p.length;d+=1){var h=p[d];c.dom7LiveListeners||(c.dom7LiveListeners={}),c.dom7LiveListeners[h]||(c.dom7LiveListeners[h]=[]),c.dom7LiveListeners[h].push({listener:n,proxyListener:o}),c.addEventListener(h,o,a)}else for(d=0;d<p.length;d+=1){var v=p[d];c.dom7Listeners||(c.dom7Listeners={}),c.dom7Listeners[v]||(c.dom7Listeners[v]=[]),c.dom7Listeners[v].push({listener:n,proxyListener:l}),c.addEventListener(v,l,a)}}return this},off:function(){for(var e,t=[],i=arguments.length;i--;)t[i]=arguments[i];var s=t[0],a=t[1],r=t[2],n=t[3];\"function\"==typeof t[1]&&(s=(e=t)[0],r=e[1],n=e[2],a=void 0),n=n||!1;for(var o=s.split(\" \"),l=0;l<o.length;l+=1)for(var d=o[l],p=0;p<this.length;p+=1){var u=this[p],c=void 0;if(!a&&u.dom7Listeners?c=u.dom7Listeners[d]:a&&u.dom7LiveListeners&&(c=u.dom7LiveListeners[d]),c&&c.length)for(var h=c.length-1;0<=h;h-=1){var v=c[h];r&&v.listener===r?(u.removeEventListener(d,v.proxyListener,n),c.splice(h,1)):r&&v.listener&&v.listener.dom7proxy&&v.listener.dom7proxy===r?(u.removeEventListener(d,v.proxyListener,n),c.splice(h,1)):r||(u.removeEventListener(d,v.proxyListener,n),c.splice(h,1))}}return this},trigger:function(){for(var e=[],t=arguments.length;t--;)e[t]=arguments[t];for(var i=e[0].split(\" \"),s=e[1],a=0;a<i.length;a+=1)for(var r=i[a],n=0;n<this.length;n+=1){var o=this[n],l=void 0;try{l=new J.CustomEvent(r,{detail:s,bubbles:!0,cancelable:!0})}catch(e){(l=f.createEvent(\"Event\")).initEvent(r,!0,!0),l.detail=s}o.dom7EventData=e.filter(function(e,t){return 0<t}),o.dispatchEvent(l),o.dom7EventData=[],delete o.dom7EventData}return this},transitionEnd:function(t){var i,s=[\"webkitTransitionEnd\",\"transitionend\"],a=this;function r(e){if(e.target===this)for(t.call(this,e),i=0;i<s.length;i+=1)a.off(s[i],r)}if(t)for(i=0;i<s.length;i+=1)a.on(s[i],r);return this},outerWidth:function(e){if(0<this.length){if(e){var t=this.styles();return this[0].offsetWidth+parseFloat(t.getPropertyValue(\"margin-right\"))+parseFloat(t.getPropertyValue(\"margin-left\"))}return this[0].offsetWidth}return null},outerHeight:function(e){if(0<this.length){if(e){var t=this.styles();return this[0].offsetHeight+parseFloat(t.getPropertyValue(\"margin-top\"))+parseFloat(t.getPropertyValue(\"margin-bottom\"))}return this[0].offsetHeight}return null},offset:function(){if(0<this.length){var e=this[0],t=e.getBoundingClientRect(),i=f.body,s=e.clientTop||i.clientTop||0,a=e.clientLeft||i.clientLeft||0,r=e===J?J.scrollY:e.scrollTop,n=e===J?J.scrollX:e.scrollLeft;return{top:t.top+r-s,left:t.left+n-a}}return null},css:function(e,t){var i;if(1===arguments.length){if(\"string\"!=typeof e){for(i=0;i<this.length;i+=1)for(var s in e)this[i].style[s]=e[s];return this}if(this[0])return J.getComputedStyle(this[0],null).getPropertyValue(e)}if(2!==arguments.length||\"string\"!=typeof e)return this;for(i=0;i<this.length;i+=1)this[i].style[e]=t;return this},each:function(e){if(!e)return this;for(var t=0;t<this.length;t+=1)if(!1===e.call(this[t],t,this[t]))return this;return this},html:function(e){if(void 0===e)return this[0]?this[0].innerHTML:void 0;for(var t=0;t<this.length;t+=1)this[t].innerHTML=e;return this},text:function(e){if(void 0===e)return this[0]?this[0].textContent.trim():null;for(var t=0;t<this.length;t+=1)this[t].textContent=e;return this},is:function(e){var t,i,s=this[0];if(!s||void 0===e)return!1;if(\"string\"==typeof e){if(s.matches)return s.matches(e);if(s.webkitMatchesSelector)return s.webkitMatchesSelector(e);if(s.msMatchesSelector)return s.msMatchesSelector(e);for(t=E(e),i=0;i<t.length;i+=1)if(t[i]===s)return!0;return!1}if(e===f)return s===f;if(e===J)return s===J;if(e.nodeType||e instanceof l){for(t=e.nodeType?[e]:e,i=0;i<t.length;i+=1)if(t[i]===s)return!0;return!1}return!1},index:function(){var e,t=this[0];if(t){for(e=0;null!==(t=t.previousSibling);)1===t.nodeType&&(e+=1);return e}},eq:function(e){if(void 0===e)return this;var t,i=this.length;return new l(i-1<e?[]:e<0?(t=i+e)<0?[]:[this[t]]:[this[e]])},append:function(){for(var e,t=[],i=arguments.length;i--;)t[i]=arguments[i];for(var s=0;s<t.length;s+=1){e=t[s];for(var a=0;a<this.length;a+=1)if(\"string\"==typeof e){var r=f.createElement(\"div\");for(r.innerHTML=e;r.firstChild;)this[a].appendChild(r.firstChild)}else if(e instanceof l)for(var n=0;n<e.length;n+=1)this[a].appendChild(e[n]);else this[a].appendChild(e)}return this},prepend:function(e){var t,i;for(t=0;t<this.length;t+=1)if(\"string\"==typeof e){var s=f.createElement(\"div\");for(s.innerHTML=e,i=s.childNodes.length-1;0<=i;i-=1)this[t].insertBefore(s.childNodes[i],this[t].childNodes[0])}else if(e instanceof l)for(i=0;i<e.length;i+=1)this[t].insertBefore(e[i],this[t].childNodes[0]);else this[t].insertBefore(e,this[t].childNodes[0]);return this},next:function(e){return 0<this.length?e?this[0].nextElementSibling&&E(this[0].nextElementSibling).is(e)?new l([this[0].nextElementSibling]):new l([]):this[0].nextElementSibling?new l([this[0].nextElementSibling]):new l([]):new l([])},nextAll:function(e){var t=[],i=this[0];if(!i)return new l([]);for(;i.nextElementSibling;){var s=i.nextElementSibling;e?E(s).is(e)&&t.push(s):t.push(s),i=s}return new l(t)},prev:function(e){if(0<this.length){var t=this[0];return e?t.previousElementSibling&&E(t.previousElementSibling).is(e)?new l([t.previousElementSibling]):new l([]):t.previousElementSibling?new l([t.previousElementSibling]):new l([])}return new l([])},prevAll:function(e){var t=[],i=this[0];if(!i)return new l([]);for(;i.previousElementSibling;){var s=i.previousElementSibling;e?E(s).is(e)&&t.push(s):t.push(s),i=s}return new l(t)},parent:function(e){for(var t=[],i=0;i<this.length;i+=1)null!==this[i].parentNode&&(e?E(this[i].parentNode).is(e)&&t.push(this[i].parentNode):t.push(this[i].parentNode));return E(r(t))},parents:function(e){for(var t=[],i=0;i<this.length;i+=1)for(var s=this[i].parentNode;s;)e?E(s).is(e)&&t.push(s):t.push(s),s=s.parentNode;return E(r(t))},closest:function(e){var t=this;return void 0===e?new l([]):(t.is(e)||(t=t.parents(e).eq(0)),t)},find:function(e){for(var t=[],i=0;i<this.length;i+=1)for(var s=this[i].querySelectorAll(e),a=0;a<s.length;a+=1)t.push(s[a]);return new l(t)},children:function(e){for(var t=[],i=0;i<this.length;i+=1)for(var s=this[i].childNodes,a=0;a<s.length;a+=1)e?1===s[a].nodeType&&E(s[a]).is(e)&&t.push(s[a]):1===s[a].nodeType&&t.push(s[a]);return new l(r(t))},remove:function(){for(var e=0;e<this.length;e+=1)this[e].parentNode&&this[e].parentNode.removeChild(this[e]);return this},add:function(){for(var e=[],t=arguments.length;t--;)e[t]=arguments[t];var i,s;for(i=0;i<e.length;i+=1){var a=E(e[i]);for(s=0;s<a.length;s+=1)this[this.length]=a[s],this.length+=1}return this},styles:function(){return this[0]?J.getComputedStyle(this[0],null):{}}};Object.keys(t).forEach(function(e){E.fn[e]=E.fn[e]||t[e]});function e(e){void 0===e&&(e={});var t=this;t.params=e,t.eventsListeners={},t.params&&t.params.on&&Object.keys(t.params.on).forEach(function(e){t.on(e,t.params.on[e])})}var i,s,a,n,ee={deleteProps:function(e){var t=e;Object.keys(t).forEach(function(e){try{t[e]=null}catch(e){}try{delete t[e]}catch(e){}})},nextTick:function(e,t){return void 0===t&&(t=0),setTimeout(e,t)},now:function(){return Date.now()},getTranslate:function(e,t){var i,s,a;void 0===t&&(t=\"x\");var r=J.getComputedStyle(e,null);return J.WebKitCSSMatrix?(6<(s=r.transform||r.webkitTransform).split(\",\").length&&(s=s.split(\", \").map(function(e){return e.replace(\",\",\".\")}).join(\", \")),a=new J.WebKitCSSMatrix(\"none\"===s?\"\":s)):i=(a=r.MozTransform||r.OTransform||r.MsTransform||r.msTransform||r.transform||r.getPropertyValue(\"transform\").replace(\"translate(\",\"matrix(1, 0, 0, 1,\")).toString().split(\",\"),\"x\"===t&&(s=J.WebKitCSSMatrix?a.m41:16===i.length?parseFloat(i[12]):parseFloat(i[4])),\"y\"===t&&(s=J.WebKitCSSMatrix?a.m42:16===i.length?parseFloat(i[13]):parseFloat(i[5])),s||0},parseUrlQuery:function(e){var t,i,s,a,r={},n=e||J.location.href;if(\"string\"==typeof n&&n.length)for(a=(i=(n=-1<n.indexOf(\"?\")?n.replace(/\\\\S*\\\\?/,\"\"):\"\").split(\"&\").filter(function(e){return\"\"!==e})).length,t=0;t<a;t+=1)s=i[t].replace(/#\\\\S+/g,\"\").split(\"=\"),r[decodeURIComponent(s[0])]=void 0===s[1]?void 0:decodeURIComponent(s[1])||\"\";return r},isObject:function(e){return\"object\"==typeof e&&null!==e&&e.constructor&&e.constructor===Object},extend:function(){for(var e=[],t=arguments.length;t--;)e[t]=arguments[t];for(var i=Object(e[0]),s=1;s<e.length;s+=1){var a=e[s];if(null!=a)for(var r=Object.keys(Object(a)),n=0,o=r.length;n<o;n+=1){var l=r[n],d=Object.getOwnPropertyDescriptor(a,l);void 0!==d&&d.enumerable&&(ee.isObject(i[l])&&ee.isObject(a[l])?ee.extend(i[l],a[l]):!ee.isObject(i[l])&&ee.isObject(a[l])?(i[l]={},ee.extend(i[l],a[l])):i[l]=a[l])}}return i}},te=(a=f.createElement(\"div\"),{touch:J.Modernizr&&!0===J.Modernizr.touch||!!(0<J.navigator.maxTouchPoints||\"ontouchstart\"in J||J.DocumentTouch&&f instanceof J.DocumentTouch),pointerEvents:!!(J.navigator.pointerEnabled||J.PointerEvent||\"maxTouchPoints\"in J.navigator&&0<J.navigator.maxTouchPoints),prefixedPointerEvents:!!J.navigator.msPointerEnabled,transition:(s=a.style,\"transition\"in s||\"webkitTransition\"in s||\"MozTransition\"in s),transforms3d:J.Modernizr&&!0===J.Modernizr.csstransforms3d||(i=a.style,\"webkitPerspective\"in i||\"MozPerspective\"in i||\"OPerspective\"in i||\"MsPerspective\"in i||\"perspective\"in i),flexbox:function(){for(var e=a.style,t=\"alignItems webkitAlignItems webkitBoxAlign msFlexAlign mozBoxAlign webkitFlexDirection msFlexDirection mozBoxDirection mozBoxOrient webkitBoxDirection webkitBoxOrient\".split(\" \"),i=0;i<t.length;i+=1)if(t[i]in e)return!0;return!1}(),observer:\"MutationObserver\"in J||\"WebkitMutationObserver\"in J,passiveListener:function(){var e=!1;try{var t=Object.defineProperty({},\"passive\",{get:function(){e=!0}});J.addEventListener(\"testPassiveListener\",null,t)}catch(e){}return e}(),gestures:\"ongesturestart\"in J}),o={isIE:!!J.navigator.userAgent.match(/Trident/g)||!!J.navigator.userAgent.match(/MSIE/g),isEdge:!!J.navigator.userAgent.match(/Edge/g),isSafari:(n=J.navigator.userAgent.toLowerCase(),0<=n.indexOf(\"safari\")&&n.indexOf(\"chrome\")<0&&n.indexOf(\"android\")<0),isUiWebView:/(iPhone|iPod|iPad).*AppleWebKit(?!.*Safari)/i.test(J.navigator.userAgent)},d={components:{configurable:!0}};e.prototype.on=function(e,t,i){var s=this;if(\"function\"!=typeof t)return s;var a=i?\"unshift\":\"push\";return e.split(\" \").forEach(function(e){s.eventsListeners[e]||(s.eventsListeners[e]=[]),s.eventsListeners[e][a](t)}),s},e.prototype.once=function(i,s,e){var a=this;if(\"function\"!=typeof s)return a;function r(){for(var e=[],t=arguments.length;t--;)e[t]=arguments[t];s.apply(a,e),a.off(i,r),r.f7proxy&&delete r.f7proxy}return r.f7proxy=s,a.on(i,r,e)},e.prototype.off=function(e,s){var a=this;return a.eventsListeners&&e.split(\" \").forEach(function(i){void 0===s?a.eventsListeners[i]=[]:a.eventsListeners[i]&&a.eventsListeners[i].length&&a.eventsListeners[i].forEach(function(e,t){(e===s||e.f7proxy&&e.f7proxy===s)&&a.eventsListeners[i].splice(t,1)})}),a},e.prototype.emit=function(){for(var e=[],t=arguments.length;t--;)e[t]=arguments[t];var i,s,a,r=this;return r.eventsListeners&&(a=\"string\"==typeof e[0]||Array.isArray(e[0])?(i=e[0],s=e.slice(1,e.length),r):(i=e[0].events,s=e[0].data,e[0].context||r),(Array.isArray(i)?i:i.split(\" \")).forEach(function(e){if(r.eventsListeners&&r.eventsListeners[e]){var t=[];r.eventsListeners[e].forEach(function(e){t.push(e)}),t.forEach(function(e){e.apply(a,s)})}})),r},e.prototype.useModulesParams=function(i){var s=this;s.modules&&Object.keys(s.modules).forEach(function(e){var t=s.modules[e];t.params&&ee.extend(i,t.params)})},e.prototype.useModules=function(s){void 0===s&&(s={});var a=this;a.modules&&Object.keys(a.modules).forEach(function(e){var i=a.modules[e],t=s[e]||{};i.instance&&Object.keys(i.instance).forEach(function(e){var t=i.instance[e];a[e]=\"function\"==typeof t?t.bind(a):t}),i.on&&a.on&&Object.keys(i.on).forEach(function(e){a.on(e,i.on[e])}),i.create&&i.create.bind(a)(t)})},d.components.set=function(e){this.use&&this.use(e)},e.installModule=function(t){for(var e=[],i=arguments.length-1;0<i--;)e[i]=arguments[i+1];var s=this;s.prototype.modules||(s.prototype.modules={});var a=t.name||Object.keys(s.prototype.modules).length+\"_\"+ee.now();return(s.prototype.modules[a]=t).proto&&Object.keys(t.proto).forEach(function(e){s.prototype[e]=t.proto[e]}),t.static&&Object.keys(t.static).forEach(function(e){s[e]=t.static[e]}),t.install&&t.install.apply(s,e),s},e.use=function(e){for(var t=[],i=arguments.length-1;0<i--;)t[i]=arguments[i+1];var s=this;return Array.isArray(e)?(e.forEach(function(e){return s.installModule(e)}),s):s.installModule.apply(s,[e].concat(t))},Object.defineProperties(e,d);var p={updateSize:function(){var e,t,i=this,s=i.$el;e=void 0!==i.params.width?i.params.width:s[0].clientWidth,t=void 0!==i.params.height?i.params.height:s[0].clientHeight,0===e&&i.isHorizontal()||0===t&&i.isVertical()||(e=e-parseInt(s.css(\"padding-left\"),10)-parseInt(s.css(\"padding-right\"),10),t=t-parseInt(s.css(\"padding-top\"),10)-parseInt(s.css(\"padding-bottom\"),10),ee.extend(i,{width:e,height:t,size:i.isHorizontal()?e:t}))},updateSlides:function(){var e=this,t=e.params,i=e.$wrapperEl,s=e.size,a=e.rtlTranslate,r=e.wrongRTL,n=e.virtual&&t.virtual.enabled,o=n?e.virtual.slides.length:e.slides.length,l=i.children(\".\"+e.params.slideClass),d=n?e.virtual.slides.length:l.length,p=[],u=[],c=[],h=t.slidesOffsetBefore;\"function\"==typeof h&&(h=t.slidesOffsetBefore.call(e));var v=t.slidesOffsetAfter;\"function\"==typeof v&&(v=t.slidesOffsetAfter.call(e));var f=e.snapGrid.length,m=e.snapGrid.length,g=t.spaceBetween,b=-h,w=0,T=0;if(void 0!==s){var x,C;\"string\"==typeof g&&0<=g.indexOf(\"%\")&&(g=parseFloat(g.replace(\"%\",\"\"))/100*s),e.virtualSize=-g,a?l.css({marginLeft:\"\",marginTop:\"\"}):l.css({marginRight:\"\",marginBottom:\"\"}),1<t.slidesPerColumn&&(x=Math.floor(d/t.slidesPerColumn)===d/e.params.slidesPerColumn?d:Math.ceil(d/t.slidesPerColumn)*t.slidesPerColumn,\"auto\"!==t.slidesPerView&&\"row\"===t.slidesPerColumnFill&&(x=Math.max(x,t.slidesPerView*t.slidesPerColumn)));for(var y,S=t.slidesPerColumn,E=x/S,M=Math.floor(d/t.slidesPerColumn),P=0;P<d;P+=1){C=0;var k=l.eq(P);if(1<t.slidesPerColumn){var L=void 0,D=void 0,z=void 0;\"column\"===t.slidesPerColumnFill?(z=P-(D=Math.floor(P/S))*S,(M<D||D===M&&z===S-1)&&S<=(z+=1)&&(z=0,D+=1),L=D+z*x/S,k.css({\"-webkit-box-ordinal-group\":L,\"-moz-box-ordinal-group\":L,\"-ms-flex-order\":L,\"-webkit-order\":L,order:L})):D=P-(z=Math.floor(P/E))*E,k.css(\"margin-\"+(e.isHorizontal()?\"top\":\"left\"),0!==z&&t.spaceBetween&&t.spaceBetween+\"px\").attr(\"data-swiper-column\",D).attr(\"data-swiper-row\",z)}if(\"none\"!==k.css(\"display\")){if(\"auto\"===t.slidesPerView){var I=J.getComputedStyle(k[0],null),O=k[0].style.transform,A=k[0].style.webkitTransform;if(O&&(k[0].style.transform=\"none\"),A&&(k[0].style.webkitTransform=\"none\"),t.roundLengths)C=e.isHorizontal()?k.outerWidth(!0):k.outerHeight(!0);else if(e.isHorizontal()){var $=parseFloat(I.getPropertyValue(\"width\")),B=parseFloat(I.getPropertyValue(\"padding-left\")),V=parseFloat(I.getPropertyValue(\"padding-right\")),N=parseFloat(I.getPropertyValue(\"margin-left\")),H=parseFloat(I.getPropertyValue(\"margin-right\")),G=I.getPropertyValue(\"box-sizing\");C=G&&\"border-box\"===G?$+N+H:$+B+V+N+H}else{var F=parseFloat(I.getPropertyValue(\"height\")),q=parseFloat(I.getPropertyValue(\"padding-top\")),X=parseFloat(I.getPropertyValue(\"padding-bottom\")),j=parseFloat(I.getPropertyValue(\"margin-top\")),Y=parseFloat(I.getPropertyValue(\"margin-bottom\")),R=I.getPropertyValue(\"box-sizing\");C=R&&\"border-box\"===R?F+j+Y:F+q+X+j+Y}O&&(k[0].style.transform=O),A&&(k[0].style.webkitTransform=A),t.roundLengths&&(C=Math.floor(C))}else C=(s-(t.slidesPerView-1)*g)/t.slidesPerView,t.roundLengths&&(C=Math.floor(C)),l[P]&&(e.isHorizontal()?l[P].style.width=C+\"px\":l[P].style.height=C+\"px\");l[P]&&(l[P].swiperSlideSize=C),c.push(C),t.centeredSlides?(b=b+C/2+w/2+g,0===w&&0!==P&&(b=b-s/2-g),0===P&&(b=b-s/2-g),Math.abs(b)<.001&&(b=0),t.roundLengths&&(b=Math.floor(b)),T%t.slidesPerGroup==0&&p.push(b),u.push(b)):(t.roundLengths&&(b=Math.floor(b)),T%t.slidesPerGroup==0&&p.push(b),u.push(b),b=b+C+g),e.virtualSize+=C+g,w=C,T+=1}}if(e.virtualSize=Math.max(e.virtualSize,s)+v,a&&r&&(\"slide\"===t.effect||\"coverflow\"===t.effect)&&i.css({width:e.virtualSize+t.spaceBetween+\"px\"}),te.flexbox&&!t.setWrapperSize||(e.isHorizontal()?i.css({width:e.virtualSize+t.spaceBetween+\"px\"}):i.css({height:e.virtualSize+t.spaceBetween+\"px\"})),1<t.slidesPerColumn&&(e.virtualSize=(C+t.spaceBetween)*x,e.virtualSize=Math.ceil(e.virtualSize/t.slidesPerColumn)-t.spaceBetween,e.isHorizontal()?i.css({width:e.virtualSize+t.spaceBetween+\"px\"}):i.css({height:e.virtualSize+t.spaceBetween+\"px\"}),t.centeredSlides)){y=[];for(var W=0;W<p.length;W+=1){var U=p[W];t.roundLengths&&(U=Math.floor(U)),p[W]<e.virtualSize+p[0]&&y.push(U)}p=y}if(!t.centeredSlides){y=[];for(var _=0;_<p.length;_+=1){var K=p[_];t.roundLengths&&(K=Math.floor(K)),p[_]<=e.virtualSize-s&&y.push(K)}p=y,1<Math.floor(e.virtualSize-s)-Math.floor(p[p.length-1])&&p.push(e.virtualSize-s)}if(0===p.length&&(p=[0]),0!==t.spaceBetween&&(e.isHorizontal()?a?l.css({marginLeft:g+\"px\"}):l.css({marginRight:g+\"px\"}):l.css({marginBottom:g+\"px\"})),t.centerInsufficientSlides){var Q=0;if(c.forEach(function(e){Q+=e+(t.spaceBetween?t.spaceBetween:0)}),(Q-=t.spaceBetween)<s){var Z=(s-Q)/2;p.forEach(function(e,t){p[t]=e-Z}),u.forEach(function(e,t){u[t]=e+Z})}}ee.extend(e,{slides:l,snapGrid:p,slidesGrid:u,slidesSizesGrid:c}),d!==o&&e.emit(\"slidesLengthChange\"),p.length!==f&&(e.params.watchOverflow&&e.checkOverflow(),e.emit(\"snapGridLengthChange\")),u.length!==m&&e.emit(\"slidesGridLengthChange\"),(t.watchSlidesProgress||t.watchSlidesVisibility)&&e.updateSlidesOffset()}},updateAutoHeight:function(e){var t,i=this,s=[],a=0;if(\"number\"==typeof e?i.setTransition(e):!0===e&&i.setTransition(i.params.speed),\"auto\"!==i.params.slidesPerView&&1<i.params.slidesPerView)for(t=0;t<Math.ceil(i.params.slidesPerView);t+=1){var r=i.activeIndex+t;if(r>i.slides.length)break;s.push(i.slides.eq(r)[0])}else s.push(i.slides.eq(i.activeIndex)[0]);for(t=0;t<s.length;t+=1)if(void 0!==s[t]){var n=s[t].offsetHeight;a=a<n?n:a}a&&i.$wrapperEl.css(\"height\",a+\"px\")},updateSlidesOffset:function(){for(var e=this.slides,t=0;t<e.length;t+=1)e[t].swiperSlideOffset=this.isHorizontal()?e[t].offsetLeft:e[t].offsetTop},updateSlidesProgress:function(e){void 0===e&&(e=this&&this.translate||0);var t=this,i=t.params,s=t.slides,a=t.rtlTranslate;if(0!==s.length){void 0===s[0].swiperSlideOffset&&t.updateSlidesOffset();var r=-e;a&&(r=e),s.removeClass(i.slideVisibleClass),t.visibleSlidesIndexes=[],t.visibleSlides=[];for(var n=0;n<s.length;n+=1){var o=s[n],l=(r+(i.centeredSlides?t.minTranslate():0)-o.swiperSlideOffset)/(o.swiperSlideSize+i.spaceBetween);if(i.watchSlidesVisibility){var d=-(r-o.swiperSlideOffset),p=d+t.slidesSizesGrid[n];(0<=d&&d<t.size||0<p&&p<=t.size||d<=0&&p>=t.size)&&(t.visibleSlides.push(o),t.visibleSlidesIndexes.push(n),s.eq(n).addClass(i.slideVisibleClass))}o.progress=a?-l:l}t.visibleSlides=E(t.visibleSlides)}},updateProgress:function(e){void 0===e&&(e=this&&this.translate||0);var t=this,i=t.params,s=t.maxTranslate()-t.minTranslate(),a=t.progress,r=t.isBeginning,n=t.isEnd,o=r,l=n;n=0==s?r=!(a=0):(r=(a=(e-t.minTranslate())/s)<=0,1<=a),ee.extend(t,{progress:a,isBeginning:r,isEnd:n}),(i.watchSlidesProgress||i.watchSlidesVisibility)&&t.updateSlidesProgress(e),r&&!o&&t.emit(\"reachBeginning toEdge\"),n&&!l&&t.emit(\"reachEnd toEdge\"),(o&&!r||l&&!n)&&t.emit(\"fromEdge\"),t.emit(\"progress\",a)},updateSlidesClasses:function(){var e,t=this,i=t.slides,s=t.params,a=t.$wrapperEl,r=t.activeIndex,n=t.realIndex,o=t.virtual&&s.virtual.enabled;i.removeClass(s.slideActiveClass+\" \"+s.slideNextClass+\" \"+s.slidePrevClass+\" \"+s.slideDuplicateActiveClass+\" \"+s.slideDuplicateNextClass+\" \"+s.slideDuplicatePrevClass),(e=o?t.$wrapperEl.find(\".\"+s.slideClass+\\'[data-swiper-slide-index=\"\\'+r+\\'\"]\\'):i.eq(r)).addClass(s.slideActiveClass),s.loop&&(e.hasClass(s.slideDuplicateClass)?a.children(\".\"+s.slideClass+\":not(.\"+s.slideDuplicateClass+\\')[data-swiper-slide-index=\"\\'+n+\\'\"]\\').addClass(s.slideDuplicateActiveClass):a.children(\".\"+s.slideClass+\".\"+s.slideDuplicateClass+\\'[data-swiper-slide-index=\"\\'+n+\\'\"]\\').addClass(s.slideDuplicateActiveClass));var l=e.nextAll(\".\"+s.slideClass).eq(0).addClass(s.slideNextClass);s.loop&&0===l.length&&(l=i.eq(0)).addClass(s.slideNextClass);var d=e.prevAll(\".\"+s.slideClass).eq(0).addClass(s.slidePrevClass);s.loop&&0===d.length&&(d=i.eq(-1)).addClass(s.slidePrevClass),s.loop&&(l.hasClass(s.slideDuplicateClass)?a.children(\".\"+s.slideClass+\":not(.\"+s.slideDuplicateClass+\\')[data-swiper-slide-index=\"\\'+l.attr(\"data-swiper-slide-index\")+\\'\"]\\').addClass(s.slideDuplicateNextClass):a.children(\".\"+s.slideClass+\".\"+s.slideDuplicateClass+\\'[data-swiper-slide-index=\"\\'+l.attr(\"data-swiper-slide-index\")+\\'\"]\\').addClass(s.slideDuplicateNextClass),d.hasClass(s.slideDuplicateClass)?a.children(\".\"+s.slideClass+\":not(.\"+s.slideDuplicateClass+\\')[data-swiper-slide-index=\"\\'+d.attr(\"data-swiper-slide-index\")+\\'\"]\\').addClass(s.slideDuplicatePrevClass):a.children(\".\"+s.slideClass+\".\"+s.slideDuplicateClass+\\'[data-swiper-slide-index=\"\\'+d.attr(\"data-swiper-slide-index\")+\\'\"]\\').addClass(s.slideDuplicatePrevClass))},updateActiveIndex:function(e){var t,i=this,s=i.rtlTranslate?i.translate:-i.translate,a=i.slidesGrid,r=i.snapGrid,n=i.params,o=i.activeIndex,l=i.realIndex,d=i.snapIndex,p=e;if(void 0===p){for(var u=0;u<a.length;u+=1)void 0!==a[u+1]?s>=a[u]&&s<a[u+1]-(a[u+1]-a[u])/2?p=u:s>=a[u]&&s<a[u+1]&&(p=u+1):s>=a[u]&&(p=u);n.normalizeSlideIndex&&(p<0||void 0===p)&&(p=0)}if((t=0<=r.indexOf(s)?r.indexOf(s):Math.floor(p/n.slidesPerGroup))>=r.length&&(t=r.length-1),p!==o){var c=parseInt(i.slides.eq(p).attr(\"data-swiper-slide-index\")||p,10);ee.extend(i,{snapIndex:t,realIndex:c,previousIndex:o,activeIndex:p}),i.emit(\"activeIndexChange\"),i.emit(\"snapIndexChange\"),l!==c&&i.emit(\"realIndexChange\"),(i.initialized||i.runCallbacksOnInit)&&i.emit(\"slideChange\")}else t!==d&&(i.snapIndex=t,i.emit(\"snapIndexChange\"))},updateClickedSlide:function(e){var t=this,i=t.params,s=E(e.target).closest(\".\"+i.slideClass)[0],a=!1;if(s)for(var r=0;r<t.slides.length;r+=1)t.slides[r]===s&&(a=!0);if(!s||!a)return t.clickedSlide=void 0,void(t.clickedIndex=void 0);t.clickedSlide=s,t.virtual&&t.params.virtual.enabled?t.clickedIndex=parseInt(E(s).attr(\"data-swiper-slide-index\"),10):t.clickedIndex=E(s).index(),i.slideToClickedSlide&&void 0!==t.clickedIndex&&t.clickedIndex!==t.activeIndex&&t.slideToClickedSlide()}};var u={getTranslate:function(e){void 0===e&&(e=this.isHorizontal()?\"x\":\"y\");var t=this.params,i=this.rtlTranslate,s=this.translate,a=this.$wrapperEl;if(t.virtualTranslate)return i?-s:s;var r=ee.getTranslate(a[0],e);return i&&(r=-r),r||0},setTranslate:function(e,t){var i=this,s=i.rtlTranslate,a=i.params,r=i.$wrapperEl,n=i.progress,o=0,l=0;i.isHorizontal()?o=s?-e:e:l=e,a.roundLengths&&(o=Math.floor(o),l=Math.floor(l)),a.virtualTranslate||(te.transforms3d?r.transform(\"translate3d(\"+o+\"px, \"+l+\"px, 0px)\"):r.transform(\"translate(\"+o+\"px, \"+l+\"px)\")),i.previousTranslate=i.translate,i.translate=i.isHorizontal()?o:l;var d=i.maxTranslate()-i.minTranslate();(0==d?0:(e-i.minTranslate())/d)!==n&&i.updateProgress(e),i.emit(\"setTranslate\",i.translate,t)},minTranslate:function(){return-this.snapGrid[0]},maxTranslate:function(){return-this.snapGrid[this.snapGrid.length-1]}};var c={setTransition:function(e,t){this.$wrapperEl.transition(e),this.emit(\"setTransition\",e,t)},transitionStart:function(e,t){void 0===e&&(e=!0);var i=this,s=i.activeIndex,a=i.params,r=i.previousIndex;a.autoHeight&&i.updateAutoHeight();var n=t;if(n=n||(r<s?\"next\":s<r?\"prev\":\"reset\"),i.emit(\"transitionStart\"),e&&s!==r){if(\"reset\"===n)return void i.emit(\"slideResetTransitionStart\");i.emit(\"slideChangeTransitionStart\"),\"next\"===n?i.emit(\"slideNextTransitionStart\"):i.emit(\"slidePrevTransitionStart\")}},transitionEnd:function(e,t){void 0===e&&(e=!0);var i=this,s=i.activeIndex,a=i.previousIndex;i.animating=!1,i.setTransition(0);var r=t;if(r=r||(a<s?\"next\":s<a?\"prev\":\"reset\"),i.emit(\"transitionEnd\"),e&&s!==a){if(\"reset\"===r)return void i.emit(\"slideResetTransitionEnd\");i.emit(\"slideChangeTransitionEnd\"),\"next\"===r?i.emit(\"slideNextTransitionEnd\"):i.emit(\"slidePrevTransitionEnd\")}}};var h={slideTo:function(e,t,i,s){void 0===e&&(e=0),void 0===t&&(t=this.params.speed),void 0===i&&(i=!0);var a=this,r=e;r<0&&(r=0);var n=a.params,o=a.snapGrid,l=a.slidesGrid,d=a.previousIndex,p=a.activeIndex,u=a.rtlTranslate;if(a.animating&&n.preventInteractionOnTransition)return!1;var c=Math.floor(r/n.slidesPerGroup);c>=o.length&&(c=o.length-1),(p||n.initialSlide||0)===(d||0)&&i&&a.emit(\"beforeSlideChangeStart\");var h,v=-o[c];if(a.updateProgress(v),n.normalizeSlideIndex)for(var f=0;f<l.length;f+=1)-Math.floor(100*v)>=Math.floor(100*l[f])&&(r=f);if(a.initialized&&r!==p){if(!a.allowSlideNext&&v<a.translate&&v<a.minTranslate())return!1;if(!a.allowSlidePrev&&v>a.translate&&v>a.maxTranslate()&&(p||0)!==r)return!1}return h=p<r?\"next\":r<p?\"prev\":\"reset\",u&&-v===a.translate||!u&&v===a.translate?(a.updateActiveIndex(r),n.autoHeight&&a.updateAutoHeight(),a.updateSlidesClasses(),\"slide\"!==n.effect&&a.setTranslate(v),\"reset\"!==h&&(a.transitionStart(i,h),a.transitionEnd(i,h)),!1):(0!==t&&te.transition?(a.setTransition(t),a.setTranslate(v),a.updateActiveIndex(r),a.updateSlidesClasses(),a.emit(\"beforeTransitionStart\",t,s),a.transitionStart(i,h),a.animating||(a.animating=!0,a.onSlideToWrapperTransitionEnd||(a.onSlideToWrapperTransitionEnd=function(e){a&&!a.destroyed&&e.target===this&&(a.$wrapperEl[0].removeEventListener(\"transitionend\",a.onSlideToWrapperTransitionEnd),a.$wrapperEl[0].removeEventListener(\"webkitTransitionEnd\",a.onSlideToWrapperTransitionEnd),a.onSlideToWrapperTransitionEnd=null,delete a.onSlideToWrapperTransitionEnd,a.transitionEnd(i,h))}),a.$wrapperEl[0].addEventListener(\"transitionend\",a.onSlideToWrapperTransitionEnd),a.$wrapperEl[0].addEventListener(\"webkitTransitionEnd\",a.onSlideToWrapperTransitionEnd))):(a.setTransition(0),a.setTranslate(v),a.updateActiveIndex(r),a.updateSlidesClasses(),a.emit(\"beforeTransitionStart\",t,s),a.transitionStart(i,h),a.transitionEnd(i,h)),!0)},slideToLoop:function(e,t,i,s){void 0===e&&(e=0),void 0===t&&(t=this.params.speed),void 0===i&&(i=!0);var a=e;return this.params.loop&&(a+=this.loopedSlides),this.slideTo(a,t,i,s)},slideNext:function(e,t,i){void 0===e&&(e=this.params.speed),void 0===t&&(t=!0);var s=this,a=s.params,r=s.animating;return a.loop?!r&&(s.loopFix(),s._clientLeft=s.$wrapperEl[0].clientLeft,s.slideTo(s.activeIndex+a.slidesPerGroup,e,t,i)):s.slideTo(s.activeIndex+a.slidesPerGroup,e,t,i)},slidePrev:function(e,t,i){void 0===e&&(e=this.params.speed),void 0===t&&(t=!0);var s=this,a=s.params,r=s.animating,n=s.snapGrid,o=s.slidesGrid,l=s.rtlTranslate;if(a.loop){if(r)return!1;s.loopFix(),s._clientLeft=s.$wrapperEl[0].clientLeft}function d(e){return e<0?-Math.floor(Math.abs(e)):Math.floor(e)}var p,u=d(l?s.translate:-s.translate),c=n.map(function(e){return d(e)}),h=(o.map(function(e){return d(e)}),n[c.indexOf(u)],n[c.indexOf(u)-1]);return void 0!==h&&(p=o.indexOf(h))<0&&(p=s.activeIndex-1),s.slideTo(p,e,t,i)},slideReset:function(e,t,i){return void 0===e&&(e=this.params.speed),void 0===t&&(t=!0),this.slideTo(this.activeIndex,e,t,i)},slideToClosest:function(e,t,i){void 0===e&&(e=this.params.speed),void 0===t&&(t=!0);var s=this,a=s.activeIndex,r=Math.floor(a/s.params.slidesPerGroup);if(r<s.snapGrid.length-1){var n=s.rtlTranslate?s.translate:-s.translate,o=s.snapGrid[r];(s.snapGrid[r+1]-o)/2<n-o&&(a=s.params.slidesPerGroup)}return s.slideTo(a,e,t,i)},slideToClickedSlide:function(){var e,t=this,i=t.params,s=t.$wrapperEl,a=\"auto\"===i.slidesPerView?t.slidesPerViewDynamic():i.slidesPerView,r=t.clickedIndex;if(i.loop){if(t.animating)return;e=parseInt(E(t.clickedSlide).attr(\"data-swiper-slide-index\"),10),i.centeredSlides?r<t.loopedSlides-a/2||r>t.slides.length-t.loopedSlides+a/2?(t.loopFix(),r=s.children(\".\"+i.slideClass+\\'[data-swiper-slide-index=\"\\'+e+\\'\"]:not(.\\'+i.slideDuplicateClass+\")\").eq(0).index(),ee.nextTick(function(){t.slideTo(r)})):t.slideTo(r):r>t.slides.length-a?(t.loopFix(),r=s.children(\".\"+i.slideClass+\\'[data-swiper-slide-index=\"\\'+e+\\'\"]:not(.\\'+i.slideDuplicateClass+\")\").eq(0).index(),ee.nextTick(function(){t.slideTo(r)})):t.slideTo(r)}else t.slideTo(r)}};var v={loopCreate:function(){var s=this,e=s.params,t=s.$wrapperEl;t.children(\".\"+e.slideClass+\".\"+e.slideDuplicateClass).remove();var a=t.children(\".\"+e.slideClass);if(e.loopFillGroupWithBlank){var i=e.slidesPerGroup-a.length%e.slidesPerGroup;if(i!==e.slidesPerGroup){for(var r=0;r<i;r+=1){var n=E(f.createElement(\"div\")).addClass(e.slideClass+\" \"+e.slideBlankClass);t.append(n)}a=t.children(\".\"+e.slideClass)}}\"auto\"!==e.slidesPerView||e.loopedSlides||(e.loopedSlides=a.length),s.loopedSlides=parseInt(e.loopedSlides||e.slidesPerView,10),s.loopedSlides+=e.loopAdditionalSlides,s.loopedSlides>a.length&&(s.loopedSlides=a.length);var o=[],l=[];a.each(function(e,t){var i=E(t);e<s.loopedSlides&&l.push(t),e<a.length&&e>=a.length-s.loopedSlides&&o.push(t),i.attr(\"data-swiper-slide-index\",e)});for(var d=0;d<l.length;d+=1)t.append(E(l[d].cloneNode(!0)).addClass(e.slideDuplicateClass));for(var p=o.length-1;0<=p;p-=1)t.prepend(E(o[p].cloneNode(!0)).addClass(e.slideDuplicateClass))},loopFix:function(){var e,t=this,i=t.params,s=t.activeIndex,a=t.slides,r=t.loopedSlides,n=t.allowSlidePrev,o=t.allowSlideNext,l=t.snapGrid,d=t.rtlTranslate;t.allowSlidePrev=!0,t.allowSlideNext=!0;var p=-l[s]-t.getTranslate();if(s<r)e=a.length-3*r+s,e+=r,t.slideTo(e,0,!1,!0)&&0!=p&&t.setTranslate((d?-t.translate:t.translate)-p);else if(\"auto\"===i.slidesPerView&&2*r<=s||s>=a.length-r){e=-a.length+s+r,e+=r,t.slideTo(e,0,!1,!0)&&0!=p&&t.setTranslate((d?-t.translate:t.translate)-p)}t.allowSlidePrev=n,t.allowSlideNext=o},loopDestroy:function(){var e=this.$wrapperEl,t=this.params,i=this.slides;e.children(\".\"+t.slideClass+\".\"+t.slideDuplicateClass+\",.\"+t.slideClass+\".\"+t.slideBlankClass).remove(),i.removeAttr(\"data-swiper-slide-index\")}};var m={appendSlide:function(e){var t=this,i=t.$wrapperEl,s=t.params;if(s.loop&&t.loopDestroy(),\"object\"==typeof e&&\"length\"in e)for(var a=0;a<e.length;a+=1)e[a]&&i.append(e[a]);else i.append(e);s.loop&&t.loopCreate(),s.observer&&te.observer||t.update()},prependSlide:function(e){var t=this,i=t.params,s=t.$wrapperEl,a=t.activeIndex;i.loop&&t.loopDestroy();var r=a+1;if(\"object\"==typeof e&&\"length\"in e){for(var n=0;n<e.length;n+=1)e[n]&&s.prepend(e[n]);r=a+e.length}else s.prepend(e);i.loop&&t.loopCreate(),i.observer&&te.observer||t.update(),t.slideTo(r,0,!1)},addSlide:function(e,t){var i=this,s=i.$wrapperEl,a=i.params,r=i.activeIndex;a.loop&&(r-=i.loopedSlides,i.loopDestroy(),i.slides=s.children(\".\"+a.slideClass));var n=i.slides.length;if(e<=0)i.prependSlide(t);else if(n<=e)i.appendSlide(t);else{for(var o=e<r?r+1:r,l=[],d=n-1;e<=d;d-=1){var p=i.slides.eq(d);p.remove(),l.unshift(p)}if(\"object\"==typeof t&&\"length\"in t){for(var u=0;u<t.length;u+=1)t[u]&&s.append(t[u]);o=e<r?r+t.length:r}else s.append(t);for(var c=0;c<l.length;c+=1)s.append(l[c]);a.loop&&i.loopCreate(),a.observer&&te.observer||i.update(),a.loop?i.slideTo(o+i.loopedSlides,0,!1):i.slideTo(o,0,!1)}},removeSlide:function(e){var t=this,i=t.params,s=t.$wrapperEl,a=t.activeIndex;i.loop&&(a-=t.loopedSlides,t.loopDestroy(),t.slides=s.children(\".\"+i.slideClass));var r,n=a;if(\"object\"==typeof e&&\"length\"in e){for(var o=0;o<e.length;o+=1)r=e[o],t.slides[r]&&t.slides.eq(r).remove(),r<n&&(n-=1);n=Math.max(n,0)}else r=e,t.slides[r]&&t.slides.eq(r).remove(),r<n&&(n-=1),n=Math.max(n,0);i.loop&&t.loopCreate(),i.observer&&te.observer||t.update(),i.loop?t.slideTo(n+t.loopedSlides,0,!1):t.slideTo(n,0,!1)},removeAllSlides:function(){for(var e=[],t=0;t<this.slides.length;t+=1)e.push(t);this.removeSlide(e)}},g=function(){var e=J.navigator.userAgent,t={ios:!1,android:!1,androidChrome:!1,desktop:!1,windows:!1,iphone:!1,ipod:!1,ipad:!1,cordova:J.cordova||J.phonegap,phonegap:J.cordova||J.phonegap},i=e.match(/(Windows Phone);?[\\\\s\\\\/]+([\\\\d.]+)?/),s=e.match(/(Android);?[\\\\s\\\\/]+([\\\\d.]+)?/),a=e.match(/(iPad).*OS\\\\s([\\\\d_]+)/),r=e.match(/(iPod)(.*OS\\\\s([\\\\d_]+))?/),n=!a&&e.match(/(iPhone\\\\sOS|iOS)\\\\s([\\\\d_]+)/);if(i&&(t.os=\"windows\",t.osVersion=i[2],t.windows=!0),s&&!i&&(t.os=\"android\",t.osVersion=s[2],t.android=!0,t.androidChrome=0<=e.toLowerCase().indexOf(\"chrome\")),(a||n||r)&&(t.os=\"ios\",t.ios=!0),n&&!r&&(t.osVersion=n[2].replace(/_/g,\".\"),t.iphone=!0),a&&(t.osVersion=a[2].replace(/_/g,\".\"),t.ipad=!0),r&&(t.osVersion=r[3]?r[3].replace(/_/g,\".\"):null,t.iphone=!0),t.ios&&t.osVersion&&0<=e.indexOf(\"Version/\")&&\"10\"===t.osVersion.split(\".\")[0]&&(t.osVersion=e.toLowerCase().split(\"version/\")[1].split(\" \")[0]),t.desktop=!(t.os||t.android||t.webView),t.webView=(n||a||r)&&e.match(/.*AppleWebKit(?!.*Safari)/i),t.os&&\"ios\"===t.os){var o=t.osVersion.split(\".\"),l=f.querySelector(\\'meta[name=\"viewport\"]\\');t.minimalUi=!t.webView&&(r||n)&&(1*o[0]==7?1<=1*o[1]:7<1*o[0])&&l&&0<=l.getAttribute(\"content\").indexOf(\"minimal-ui\")}return t.pixelRatio=J.devicePixelRatio||1,t}();function b(){var e=this,t=e.params,i=e.el;if(!i||0!==i.offsetWidth){t.breakpoints&&e.setBreakpoint();var s=e.allowSlideNext,a=e.allowSlidePrev,r=e.snapGrid;if(e.allowSlideNext=!0,e.allowSlidePrev=!0,e.updateSize(),e.updateSlides(),t.freeMode){var n=Math.min(Math.max(e.translate,e.maxTranslate()),e.minTranslate());e.setTranslate(n),e.updateActiveIndex(),e.updateSlidesClasses(),t.autoHeight&&e.updateAutoHeight()}else e.updateSlidesClasses(),(\"auto\"===t.slidesPerView||1<t.slidesPerView)&&e.isEnd&&!e.params.centeredSlides?e.slideTo(e.slides.length-1,0,!1,!0):e.slideTo(e.activeIndex,0,!1,!0);e.autoplay&&e.autoplay.running&&e.autoplay.paused&&e.autoplay.run(),e.allowSlidePrev=a,e.allowSlideNext=s,e.params.watchOverflow&&r!==e.snapGrid&&e.checkOverflow()}}var w={init:!0,direction:\"horizontal\",touchEventsTarget:\"container\",initialSlide:0,speed:300,preventInteractionOnTransition:!1,edgeSwipeDetection:!1,edgeSwipeThreshold:20,freeMode:!1,freeModeMomentum:!0,freeModeMomentumRatio:1,freeModeMomentumBounce:!0,freeModeMomentumBounceRatio:1,freeModeMomentumVelocityRatio:1,freeModeSticky:!1,freeModeMinimumVelocity:.02,autoHeight:!1,setWrapperSize:!1,virtualTranslate:!1,effect:\"slide\",breakpoints:void 0,breakpointsInverse:!1,spaceBetween:0,slidesPerView:1,slidesPerColumn:1,slidesPerColumnFill:\"column\",slidesPerGroup:1,centeredSlides:!1,slidesOffsetBefore:0,slidesOffsetAfter:0,normalizeSlideIndex:!0,centerInsufficientSlides:!1,watchOverflow:!1,roundLengths:!1,touchRatio:1,touchAngle:45,simulateTouch:!0,shortSwipes:!0,longSwipes:!0,longSwipesRatio:.5,longSwipesMs:300,followFinger:!0,allowTouchMove:!0,threshold:0,touchMoveStopPropagation:!0,touchStartPreventDefault:!0,touchStartForcePreventDefault:!1,touchReleaseOnEdges:!1,uniqueNavElements:!0,resistance:!0,resistanceRatio:.85,watchSlidesProgress:!1,watchSlidesVisibility:!1,grabCursor:!1,preventClicks:!0,preventClicksPropagation:!0,slideToClickedSlide:!1,preloadImages:!0,updateOnImagesReady:!0,loop:!1,loopAdditionalSlides:0,loopedSlides:null,loopFillGroupWithBlank:!1,allowSlidePrev:!0,allowSlideNext:!0,swipeHandler:null,noSwiping:!0,noSwipingClass:\"swiper-no-swiping\",noSwipingSelector:null,passiveListeners:!0,containerModifierClass:\"swiper-container-\",slideClass:\"swiper-slide\",slideBlankClass:\"swiper-slide-invisible-blank\",slideActiveClass:\"swiper-slide-active\",slideDuplicateActiveClass:\"swiper-slide-duplicate-active\",slideVisibleClass:\"swiper-slide-visible\",slideDuplicateClass:\"swiper-slide-duplicate\",slideNextClass:\"swiper-slide-next\",slideDuplicateNextClass:\"swiper-slide-duplicate-next\",slidePrevClass:\"swiper-slide-prev\",slideDuplicatePrevClass:\"swiper-slide-duplicate-prev\",wrapperClass:\"swiper-wrapper\",runCallbacksOnInit:!0},T={update:p,translate:u,transition:c,slide:h,loop:v,manipulation:m,events:{attachEvents:function(){var e=this,t=e.params,i=e.touchEvents,s=e.el,a=e.wrapperEl;e.onTouchStart=function(e){var t=this,i=t.touchEventsData,s=t.params,a=t.touches;if(!t.animating||!s.preventInteractionOnTransition){var r=e;if(r.originalEvent&&(r=r.originalEvent),i.isTouchEvent=\"touchstart\"===r.type,(i.isTouchEvent||!(\"which\"in r)||3!==r.which)&&!(!i.isTouchEvent&&\"button\"in r&&0<r.button||i.isTouched&&i.isMoved))if(s.noSwiping&&E(r.target).closest(s.noSwipingSelector?s.noSwipingSelector:\".\"+s.noSwipingClass)[0])t.allowClick=!0;else if(!s.swipeHandler||E(r).closest(s.swipeHandler)[0]){a.currentX=\"touchstart\"===r.type?r.targetTouches[0].pageX:r.pageX,a.currentY=\"touchstart\"===r.type?r.targetTouches[0].pageY:r.pageY;var n=a.currentX,o=a.currentY,l=s.edgeSwipeDetection||s.iOSEdgeSwipeDetection,d=s.edgeSwipeThreshold||s.iOSEdgeSwipeThreshold;if(!l||!(n<=d||n>=J.screen.width-d)){if(ee.extend(i,{isTouched:!0,isMoved:!1,allowTouchCallbacks:!0,isScrolling:void 0,startMoving:void 0}),a.startX=n,a.startY=o,i.touchStartTime=ee.now(),t.allowClick=!0,t.updateSize(),t.swipeDirection=void 0,0<s.threshold&&(i.allowThresholdMove=!1),\"touchstart\"!==r.type){var p=!0;E(r.target).is(i.formElements)&&(p=!1),f.activeElement&&E(f.activeElement).is(i.formElements)&&f.activeElement!==r.target&&f.activeElement.blur();var u=p&&t.allowTouchMove&&s.touchStartPreventDefault;(s.touchStartForcePreventDefault||u)&&r.preventDefault()}t.emit(\"touchStart\",r)}}}}.bind(e),e.onTouchMove=function(e){var t=this,i=t.touchEventsData,s=t.params,a=t.touches,r=t.rtlTranslate,n=e;if(n.originalEvent&&(n=n.originalEvent),i.isTouched){if(!i.isTouchEvent||\"mousemove\"!==n.type){var o=\"touchmove\"===n.type?n.targetTouches[0].pageX:n.pageX,l=\"touchmove\"===n.type?n.targetTouches[0].pageY:n.pageY;if(n.preventedByNestedSwiper)return a.startX=o,void(a.startY=l);if(!t.allowTouchMove)return t.allowClick=!1,void(i.isTouched&&(ee.extend(a,{startX:o,startY:l,currentX:o,currentY:l}),i.touchStartTime=ee.now()));if(i.isTouchEvent&&s.touchReleaseOnEdges&&!s.loop)if(t.isVertical()){if(l<a.startY&&t.translate<=t.maxTranslate()||l>a.startY&&t.translate>=t.minTranslate())return i.isTouched=!1,void(i.isMoved=!1)}else if(o<a.startX&&t.translate<=t.maxTranslate()||o>a.startX&&t.translate>=t.minTranslate())return;if(i.isTouchEvent&&f.activeElement&&n.target===f.activeElement&&E(n.target).is(i.formElements))return i.isMoved=!0,void(t.allowClick=!1);if(i.allowTouchCallbacks&&t.emit(\"touchMove\",n),!(n.targetTouches&&1<n.targetTouches.length)){a.currentX=o,a.currentY=l;var d=a.currentX-a.startX,p=a.currentY-a.startY;if(!(t.params.threshold&&Math.sqrt(Math.pow(d,2)+Math.pow(p,2))<t.params.threshold)){var u;if(void 0===i.isScrolling)t.isHorizontal()&&a.currentY===a.startY||t.isVertical()&&a.currentX===a.startX?i.isScrolling=!1:25<=d*d+p*p&&(u=180*Math.atan2(Math.abs(p),Math.abs(d))/Math.PI,i.isScrolling=t.isHorizontal()?u>s.touchAngle:90-u>s.touchAngle);if(i.isScrolling&&t.emit(\"touchMoveOpposite\",n),void 0===i.startMoving&&(a.currentX===a.startX&&a.currentY===a.startY||(i.startMoving=!0)),i.isScrolling)i.isTouched=!1;else if(i.startMoving){t.allowClick=!1,n.preventDefault(),s.touchMoveStopPropagation&&!s.nested&&n.stopPropagation(),i.isMoved||(s.loop&&t.loopFix(),i.startTranslate=t.getTranslate(),t.setTransition(0),t.animating&&t.$wrapperEl.trigger(\"webkitTransitionEnd transitionend\"),i.allowMomentumBounce=!1,!s.grabCursor||!0!==t.allowSlideNext&&!0!==t.allowSlidePrev||t.setGrabCursor(!0),t.emit(\"sliderFirstMove\",n)),t.emit(\"sliderMove\",n),i.isMoved=!0;var c=t.isHorizontal()?d:p;a.diff=c,c*=s.touchRatio,r&&(c=-c),t.swipeDirection=0<c?\"prev\":\"next\",i.currentTranslate=c+i.startTranslate;var h=!0,v=s.resistanceRatio;if(s.touchReleaseOnEdges&&(v=0),0<c&&i.currentTranslate>t.minTranslate()?(h=!1,s.resistance&&(i.currentTranslate=t.minTranslate()-1+Math.pow(-t.minTranslate()+i.startTranslate+c,v))):c<0&&i.currentTranslate<t.maxTranslate()&&(h=!1,s.resistance&&(i.currentTranslate=t.maxTranslate()+1-Math.pow(t.maxTranslate()-i.startTranslate-c,v))),h&&(n.preventedByNestedSwiper=!0),!t.allowSlideNext&&\"next\"===t.swipeDirection&&i.currentTranslate<i.startTranslate&&(i.currentTranslate=i.startTranslate),!t.allowSlidePrev&&\"prev\"===t.swipeDirection&&i.currentTranslate>i.startTranslate&&(i.currentTranslate=i.startTranslate),0<s.threshold){if(!(Math.abs(c)>s.threshold||i.allowThresholdMove))return void(i.currentTranslate=i.startTranslate);if(!i.allowThresholdMove)return i.allowThresholdMove=!0,a.startX=a.currentX,a.startY=a.currentY,i.currentTranslate=i.startTranslate,void(a.diff=t.isHorizontal()?a.currentX-a.startX:a.currentY-a.startY)}s.followFinger&&((s.freeMode||s.watchSlidesProgress||s.watchSlidesVisibility)&&(t.updateActiveIndex(),t.updateSlidesClasses()),s.freeMode&&(0===i.velocities.length&&i.velocities.push({position:a[t.isHorizontal()?\"startX\":\"startY\"],time:i.touchStartTime}),i.velocities.push({position:a[t.isHorizontal()?\"currentX\":\"currentY\"],time:ee.now()})),t.updateProgress(i.currentTranslate),t.setTranslate(i.currentTranslate))}}}}}else i.startMoving&&i.isScrolling&&t.emit(\"touchMoveOpposite\",n)}.bind(e),e.onTouchEnd=function(e){var t=this,i=t.touchEventsData,s=t.params,a=t.touches,r=t.rtlTranslate,n=t.$wrapperEl,o=t.slidesGrid,l=t.snapGrid,d=e;if(d.originalEvent&&(d=d.originalEvent),i.allowTouchCallbacks&&t.emit(\"touchEnd\",d),i.allowTouchCallbacks=!1,!i.isTouched)return i.isMoved&&s.grabCursor&&t.setGrabCursor(!1),i.isMoved=!1,void(i.startMoving=!1);s.grabCursor&&i.isMoved&&i.isTouched&&(!0===t.allowSlideNext||!0===t.allowSlidePrev)&&t.setGrabCursor(!1);var p,u=ee.now(),c=u-i.touchStartTime;if(t.allowClick&&(t.updateClickedSlide(d),t.emit(\"tap\",d),c<300&&300<u-i.lastClickTime&&(i.clickTimeout&&clearTimeout(i.clickTimeout),i.clickTimeout=ee.nextTick(function(){t&&!t.destroyed&&t.emit(\"click\",d)},300)),c<300&&u-i.lastClickTime<300&&(i.clickTimeout&&clearTimeout(i.clickTimeout),t.emit(\"doubleTap\",d))),i.lastClickTime=ee.now(),ee.nextTick(function(){t.destroyed||(t.allowClick=!0)}),!i.isTouched||!i.isMoved||!t.swipeDirection||0===a.diff||i.currentTranslate===i.startTranslate)return i.isTouched=!1,i.isMoved=!1,void(i.startMoving=!1);if(i.isTouched=!1,i.isMoved=!1,i.startMoving=!1,p=s.followFinger?r?t.translate:-t.translate:-i.currentTranslate,s.freeMode){if(p<-t.minTranslate())return void t.slideTo(t.activeIndex);if(p>-t.maxTranslate())return void(t.slides.length<l.length?t.slideTo(l.length-1):t.slideTo(t.slides.length-1));if(s.freeModeMomentum){if(1<i.velocities.length){var h=i.velocities.pop(),v=i.velocities.pop(),f=h.position-v.position,m=h.time-v.time;t.velocity=f/m,t.velocity/=2,Math.abs(t.velocity)<s.freeModeMinimumVelocity&&(t.velocity=0),(150<m||300<ee.now()-h.time)&&(t.velocity=0)}else t.velocity=0;t.velocity*=s.freeModeMomentumVelocityRatio,i.velocities.length=0;var g=1e3*s.freeModeMomentumRatio,b=t.velocity*g,w=t.translate+b;r&&(w=-w);var T,x,C=!1,y=20*Math.abs(t.velocity)*s.freeModeMomentumBounceRatio;if(w<t.maxTranslate())s.freeModeMomentumBounce?(w+t.maxTranslate()<-y&&(w=t.maxTranslate()-y),T=t.maxTranslate(),C=!0,i.allowMomentumBounce=!0):w=t.maxTranslate(),s.loop&&s.centeredSlides&&(x=!0);else if(w>t.minTranslate())s.freeModeMomentumBounce?(w-t.minTranslate()>y&&(w=t.minTranslate()+y),T=t.minTranslate(),C=!0,i.allowMomentumBounce=!0):w=t.minTranslate(),s.loop&&s.centeredSlides&&(x=!0);else if(s.freeModeSticky){for(var S,E=0;E<l.length;E+=1)if(l[E]>-w){S=E;break}w=-(w=Math.abs(l[S]-w)<Math.abs(l[S-1]-w)||\"next\"===t.swipeDirection?l[S]:l[S-1])}if(x&&t.once(\"transitionEnd\",function(){t.loopFix()}),0!==t.velocity)g=r?Math.abs((-w-t.translate)/t.velocity):Math.abs((w-t.translate)/t.velocity);else if(s.freeModeSticky)return void t.slideToClosest();s.freeModeMomentumBounce&&C?(t.updateProgress(T),t.setTransition(g),t.setTranslate(w),t.transitionStart(!0,t.swipeDirection),t.animating=!0,n.transitionEnd(function(){t&&!t.destroyed&&i.allowMomentumBounce&&(t.emit(\"momentumBounce\"),t.setTransition(s.speed),t.setTranslate(T),n.transitionEnd(function(){t&&!t.destroyed&&t.transitionEnd()}))})):t.velocity?(t.updateProgress(w),t.setTransition(g),t.setTranslate(w),t.transitionStart(!0,t.swipeDirection),t.animating||(t.animating=!0,n.transitionEnd(function(){t&&!t.destroyed&&t.transitionEnd()}))):t.updateProgress(w),t.updateActiveIndex(),t.updateSlidesClasses()}else if(s.freeModeSticky)return void t.slideToClosest();(!s.freeModeMomentum||c>=s.longSwipesMs)&&(t.updateProgress(),t.updateActiveIndex(),t.updateSlidesClasses())}else{for(var M=0,P=t.slidesSizesGrid[0],k=0;k<o.length;k+=s.slidesPerGroup)void 0!==o[k+s.slidesPerGroup]?p>=o[k]&&p<o[k+s.slidesPerGroup]&&(P=o[(M=k)+s.slidesPerGroup]-o[k]):p>=o[k]&&(M=k,P=o[o.length-1]-o[o.length-2]);var L=(p-o[M])/P;if(c>s.longSwipesMs){if(!s.longSwipes)return void t.slideTo(t.activeIndex);\"next\"===t.swipeDirection&&(L>=s.longSwipesRatio?t.slideTo(M+s.slidesPerGroup):t.slideTo(M)),\"prev\"===t.swipeDirection&&(L>1-s.longSwipesRatio?t.slideTo(M+s.slidesPerGroup):t.slideTo(M))}else{if(!s.shortSwipes)return void t.slideTo(t.activeIndex);\"next\"===t.swipeDirection&&t.slideTo(M+s.slidesPerGroup),\"prev\"===t.swipeDirection&&t.slideTo(M)}}}.bind(e),e.onClick=function(e){this.allowClick||(this.params.preventClicks&&e.preventDefault(),this.params.preventClicksPropagation&&this.animating&&(e.stopPropagation(),e.stopImmediatePropagation()))}.bind(e);var r=\"container\"===t.touchEventsTarget?s:a,n=!!t.nested;if(te.touch||!te.pointerEvents&&!te.prefixedPointerEvents){if(te.touch){var o=!(\"touchstart\"!==i.start||!te.passiveListener||!t.passiveListeners)&&{passive:!0,capture:!1};r.addEventListener(i.start,e.onTouchStart,o),r.addEventListener(i.move,e.onTouchMove,te.passiveListener?{passive:!1,capture:n}:n),r.addEventListener(i.end,e.onTouchEnd,o)}(t.simulateTouch&&!g.ios&&!g.android||t.simulateTouch&&!te.touch&&g.ios)&&(r.addEventListener(\"mousedown\",e.onTouchStart,!1),f.addEventListener(\"mousemove\",e.onTouchMove,n),f.addEventListener(\"mouseup\",e.onTouchEnd,!1))}else r.addEventListener(i.start,e.onTouchStart,!1),f.addEventListener(i.move,e.onTouchMove,n),f.addEventListener(i.end,e.onTouchEnd,!1);(t.preventClicks||t.preventClicksPropagation)&&r.addEventListener(\"click\",e.onClick,!0),e.on(g.ios||g.android?\"resize orientationchange observerUpdate\":\"resize observerUpdate\",b,!0)},detachEvents:function(){var e=this,t=e.params,i=e.touchEvents,s=e.el,a=e.wrapperEl,r=\"container\"===t.touchEventsTarget?s:a,n=!!t.nested;if(te.touch||!te.pointerEvents&&!te.prefixedPointerEvents){if(te.touch){var o=!(\"onTouchStart\"!==i.start||!te.passiveListener||!t.passiveListeners)&&{passive:!0,capture:!1};r.removeEventListener(i.start,e.onTouchStart,o),r.removeEventListener(i.move,e.onTouchMove,n),r.removeEventListener(i.end,e.onTouchEnd,o)}(t.simulateTouch&&!g.ios&&!g.android||t.simulateTouch&&!te.touch&&g.ios)&&(r.removeEventListener(\"mousedown\",e.onTouchStart,!1),f.removeEventListener(\"mousemove\",e.onTouchMove,n),f.removeEventListener(\"mouseup\",e.onTouchEnd,!1))}else r.removeEventListener(i.start,e.onTouchStart,!1),f.removeEventListener(i.move,e.onTouchMove,n),f.removeEventListener(i.end,e.onTouchEnd,!1);(t.preventClicks||t.preventClicksPropagation)&&r.removeEventListener(\"click\",e.onClick,!0),e.off(g.ios||g.android?\"resize orientationchange observerUpdate\":\"resize observerUpdate\",b)}},breakpoints:{setBreakpoint:function(){var e=this,t=e.activeIndex,i=e.initialized,s=e.loopedSlides;void 0===s&&(s=0);var a=e.params,r=a.breakpoints;if(r&&(!r||0!==Object.keys(r).length)){var n=e.getBreakpoint(r);if(n&&e.currentBreakpoint!==n){var o=n in r?r[n]:void 0;o&&[\"slidesPerView\",\"spaceBetween\",\"slidesPerGroup\"].forEach(function(e){var t=o[e];void 0!==t&&(o[e]=\"slidesPerView\"!==e||\"AUTO\"!==t&&\"auto\"!==t?\"slidesPerView\"===e?parseFloat(t):parseInt(t,10):\"auto\")});var l=o||e.originalParams,d=l.direction&&l.direction!==a.direction,p=a.loop&&(l.slidesPerView!==a.slidesPerView||d);d&&i&&e.changeDirection(),ee.extend(e.params,l),ee.extend(e,{allowTouchMove:e.params.allowTouchMove,allowSlideNext:e.params.allowSlideNext,allowSlidePrev:e.params.allowSlidePrev}),e.currentBreakpoint=n,p&&i&&(e.loopDestroy(),e.loopCreate(),e.updateSlides(),e.slideTo(t-s+e.loopedSlides,0,!1)),e.emit(\"breakpoint\",l)}}},getBreakpoint:function(e){if(e){var t=!1,i=[];Object.keys(e).forEach(function(e){i.push(e)}),i.sort(function(e,t){return parseInt(e,10)-parseInt(t,10)});for(var s=0;s<i.length;s+=1){var a=i[s];this.params.breakpointsInverse?a<=J.innerWidth&&(t=a):a>=J.innerWidth&&!t&&(t=a)}return t||\"max\"}}},checkOverflow:{checkOverflow:function(){var e=this,t=e.isLocked;e.isLocked=1===e.snapGrid.length,e.allowSlideNext=!e.isLocked,e.allowSlidePrev=!e.isLocked,t!==e.isLocked&&e.emit(e.isLocked?\"lock\":\"unlock\"),t&&t!==e.isLocked&&(e.isEnd=!1,e.navigation.update())}},classes:{addClasses:function(){var t=this.classNames,i=this.params,e=this.rtl,s=this.$el,a=[];a.push(\"initialized\"),a.push(i.direction),i.freeMode&&a.push(\"free-mode\"),te.flexbox||a.push(\"no-flexbox\"),i.autoHeight&&a.push(\"autoheight\"),e&&a.push(\"rtl\"),1<i.slidesPerColumn&&a.push(\"multirow\"),g.android&&a.push(\"android\"),g.ios&&a.push(\"ios\"),(o.isIE||o.isEdge)&&(te.pointerEvents||te.prefixedPointerEvents)&&a.push(\"wp8-\"+i.direction),a.forEach(function(e){t.push(i.containerModifierClass+e)}),s.addClass(t.join(\" \"))},removeClasses:function(){var e=this.$el,t=this.classNames;e.removeClass(t.join(\" \"))}},images:{loadImage:function(e,t,i,s,a,r){var n;function o(){r&&r()}e.complete&&a?o():t?((n=new J.Image).onload=o,n.onerror=o,s&&(n.sizes=s),i&&(n.srcset=i),t&&(n.src=t)):o()},preloadImages:function(){var e=this;function t(){null!=e&&e&&!e.destroyed&&(void 0!==e.imagesLoaded&&(e.imagesLoaded+=1),e.imagesLoaded===e.imagesToLoad.length&&(e.params.updateOnImagesReady&&e.update(),e.emit(\"imagesReady\")))}e.imagesToLoad=e.$el.find(\"img\");for(var i=0;i<e.imagesToLoad.length;i+=1){var s=e.imagesToLoad[i];e.loadImage(s,s.currentSrc||s.getAttribute(\"src\"),s.srcset||s.getAttribute(\"srcset\"),s.sizes||s.getAttribute(\"sizes\"),!0,t)}}}},x={},C=function(c){function h(){for(var e,t,a,i=[],s=arguments.length;s--;)i[s]=arguments[s];a=(a=1===i.length&&i[0].constructor&&i[0].constructor===Object?i[0]:(t=(e=i)[0],e[1]))||{},a=ee.extend({},a),t&&!a.el&&(a.el=t),c.call(this,a),Object.keys(T).forEach(function(t){Object.keys(T[t]).forEach(function(e){h.prototype[e]||(h.prototype[e]=T[t][e])})});var r=this;void 0===r.modules&&(r.modules={}),Object.keys(r.modules).forEach(function(e){var t=r.modules[e];if(t.params){var i=Object.keys(t.params)[0],s=t.params[i];if(\"object\"!=typeof s||null===s)return;if(!(i in a&&\"enabled\"in s))return;!0===a[i]&&(a[i]={enabled:!0}),\"object\"!=typeof a[i]||\"enabled\"in a[i]||(a[i].enabled=!0),a[i]||(a[i]={enabled:!1})}});var n=ee.extend({},w);r.useModulesParams(n),r.params=ee.extend({},n,x,a),r.originalParams=ee.extend({},r.params),r.passedParams=ee.extend({},a);var o=(r.$=E)(r.params.el);if(t=o[0]){if(1<o.length){var l=[];return o.each(function(e,t){var i=ee.extend({},a,{el:t});l.push(new h(i))}),l}t.swiper=r,o.data(\"swiper\",r);var d,p,u=o.children(\".\"+r.params.wrapperClass);return ee.extend(r,{$el:o,el:t,$wrapperEl:u,wrapperEl:u[0],classNames:[],slides:E(),slidesGrid:[],snapGrid:[],slidesSizesGrid:[],isHorizontal:function(){return\"horizontal\"===r.params.direction},isVertical:function(){return\"vertical\"===r.params.direction},rtl:\"rtl\"===t.dir.toLowerCase()||\"rtl\"===o.css(\"direction\"),rtlTranslate:\"horizontal\"===r.params.direction&&(\"rtl\"===t.dir.toLowerCase()||\"rtl\"===o.css(\"direction\")),wrongRTL:\"-webkit-box\"===u.css(\"display\"),activeIndex:0,realIndex:0,isBeginning:!0,isEnd:!1,translate:0,previousTranslate:0,progress:0,velocity:0,animating:!1,allowSlideNext:r.params.allowSlideNext,allowSlidePrev:r.params.allowSlidePrev,touchEvents:(d=[\"touchstart\",\"touchmove\",\"touchend\"],p=[\"mousedown\",\"mousemove\",\"mouseup\"],te.pointerEvents?p=[\"pointerdown\",\"pointermove\",\"pointerup\"]:te.prefixedPointerEvents&&(p=[\"MSPointerDown\",\"MSPointerMove\",\"MSPointerUp\"]),r.touchEventsTouch={start:d[0],move:d[1],end:d[2]},r.touchEventsDesktop={start:p[0],move:p[1],end:p[2]},te.touch||!r.params.simulateTouch?r.touchEventsTouch:r.touchEventsDesktop),touchEventsData:{isTouched:void 0,isMoved:void 0,allowTouchCallbacks:void 0,touchStartTime:void 0,isScrolling:void 0,currentTranslate:void 0,startTranslate:void 0,allowThresholdMove:void 0,formElements:\"input, select, option, textarea, button, video\",lastClickTime:ee.now(),clickTimeout:void 0,velocities:[],allowMomentumBounce:void 0,isTouchEvent:void 0,startMoving:void 0},allowClick:!0,allowTouchMove:r.params.allowTouchMove,touches:{startX:0,startY:0,currentX:0,currentY:0,diff:0},imagesToLoad:[],imagesLoaded:0}),r.useModules(),r.params.init&&r.init(),r}}c&&(h.__proto__=c);var e={extendedDefaults:{configurable:!0},defaults:{configurable:!0},Class:{configurable:!0},$:{configurable:!0}};return((h.prototype=Object.create(c&&c.prototype)).constructor=h).prototype.slidesPerViewDynamic=function(){var e=this,t=e.params,i=e.slides,s=e.slidesGrid,a=e.size,r=e.activeIndex,n=1;if(t.centeredSlides){for(var o,l=i[r].swiperSlideSize,d=r+1;d<i.length;d+=1)i[d]&&!o&&(n+=1,a<(l+=i[d].swiperSlideSize)&&(o=!0));for(var p=r-1;0<=p;p-=1)i[p]&&!o&&(n+=1,a<(l+=i[p].swiperSlideSize)&&(o=!0))}else for(var u=r+1;u<i.length;u+=1)s[u]-s[r]<a&&(n+=1);return n},h.prototype.update=function(){var i=this;if(i&&!i.destroyed){var e=i.snapGrid,t=i.params;t.breakpoints&&i.setBreakpoint(),i.updateSize(),i.updateSlides(),i.updateProgress(),i.updateSlidesClasses(),i.params.freeMode?(s(),i.params.autoHeight&&i.updateAutoHeight()):((\"auto\"===i.params.slidesPerView||1<i.params.slidesPerView)&&i.isEnd&&!i.params.centeredSlides?i.slideTo(i.slides.length-1,0,!1,!0):i.slideTo(i.activeIndex,0,!1,!0))||s(),t.watchOverflow&&e!==i.snapGrid&&i.checkOverflow(),i.emit(\"update\")}function s(){var e=i.rtlTranslate?-1*i.translate:i.translate,t=Math.min(Math.max(e,i.maxTranslate()),i.minTranslate());i.setTranslate(t),i.updateActiveIndex(),i.updateSlidesClasses()}},h.prototype.changeDirection=function(i,e){void 0===e&&(e=!0);var t=this,s=t.params.direction;return(i=i||(\"horizontal\"===s?\"vertical\":\"horizontal\"))===s||\"horizontal\"!==i&&\"vertical\"!==i||(t.$el.removeClass(\"\"+t.params.containerModifierClass+s+\" wp8-\"+s).addClass(\"\"+t.params.containerModifierClass+i),(o.isIE||o.isEdge)&&(te.pointerEvents||te.prefixedPointerEvents)&&t.$el.addClass(t.params.containerModifierClass+\"wp8-\"+i),t.params.direction=i,t.slides.each(function(e,t){\"vertical\"===i?t.style.width=\"\":t.style.height=\"\"}),t.emit(\"changeDirection\"),e&&t.update()),t},h.prototype.init=function(){var e=this;e.initialized||(e.emit(\"beforeInit\"),e.params.breakpoints&&e.setBreakpoint(),e.addClasses(),e.params.loop&&e.loopCreate(),e.updateSize(),e.updateSlides(),e.params.watchOverflow&&e.checkOverflow(),e.params.grabCursor&&e.setGrabCursor(),e.params.preloadImages&&e.preloadImages(),e.params.loop?e.slideTo(e.params.initialSlide+e.loopedSlides,0,e.params.runCallbacksOnInit):e.slideTo(e.params.initialSlide,0,e.params.runCallbacksOnInit),e.attachEvents(),e.initialized=!0,e.emit(\"init\"))},h.prototype.destroy=function(e,t){void 0===e&&(e=!0),void 0===t&&(t=!0);var i=this,s=i.params,a=i.$el,r=i.$wrapperEl,n=i.slides;return void 0===i.params||i.destroyed||(i.emit(\"beforeDestroy\"),i.initialized=!1,i.detachEvents(),s.loop&&i.loopDestroy(),t&&(i.removeClasses(),a.removeAttr(\"style\"),r.removeAttr(\"style\"),n&&n.length&&n.removeClass([s.slideVisibleClass,s.slideActiveClass,s.slideNextClass,s.slidePrevClass].join(\" \")).removeAttr(\"style\").removeAttr(\"data-swiper-slide-index\").removeAttr(\"data-swiper-column\").removeAttr(\"data-swiper-row\")),i.emit(\"destroy\"),Object.keys(i.eventsListeners).forEach(function(e){i.off(e)}),!1!==e&&(i.$el[0].swiper=null,i.$el.data(\"swiper\",null),ee.deleteProps(i)),i.destroyed=!0),null},h.extendDefaults=function(e){ee.extend(x,e)},e.extendedDefaults.get=function(){return x},e.defaults.get=function(){return w},e.Class.get=function(){return c},e.$.get=function(){return E},Object.defineProperties(h,e),h}(e),y={name:\"device\",proto:{device:g},static:{device:g}},S={name:\"support\",proto:{support:te},static:{support:te}},M={name:\"browser\",proto:{browser:o},static:{browser:o}},P={name:\"resize\",create:function(){var e=this;ee.extend(e,{resize:{resizeHandler:function(){e&&!e.destroyed&&e.initialized&&(e.emit(\"beforeResize\"),e.emit(\"resize\"))},orientationChangeHandler:function(){e&&!e.destroyed&&e.initialized&&e.emit(\"orientationchange\")}}})},on:{init:function(){J.addEventListener(\"resize\",this.resize.resizeHandler),J.addEventListener(\"orientationchange\",this.resize.orientationChangeHandler)},destroy:function(){J.removeEventListener(\"resize\",this.resize.resizeHandler),J.removeEventListener(\"orientationchange\",this.resize.orientationChangeHandler)}}},k={func:J.MutationObserver||J.WebkitMutationObserver,attach:function(e,t){void 0===t&&(t={});var i=this,s=new k.func(function(e){if(1!==e.length){var t=function(){i.emit(\"observerUpdate\",e[0])};J.requestAnimationFrame?J.requestAnimationFrame(t):J.setTimeout(t,0)}else i.emit(\"observerUpdate\",e[0])});s.observe(e,{attributes:void 0===t.attributes||t.attributes,childList:void 0===t.childList||t.childList,characterData:void 0===t.characterData||t.characterData}),i.observer.observers.push(s)},init:function(){var e=this;if(te.observer&&e.params.observer){if(e.params.observeParents)for(var t=e.$el.parents(),i=0;i<t.length;i+=1)e.observer.attach(t[i]);e.observer.attach(e.$el[0],{childList:e.params.observeSlideChildren}),e.observer.attach(e.$wrapperEl[0],{attributes:!1})}},destroy:function(){this.observer.observers.forEach(function(e){e.disconnect()}),this.observer.observers=[]}},L={name:\"observer\",params:{observer:!1,observeParents:!1,observeSlideChildren:!1},create:function(){ee.extend(this,{observer:{init:k.init.bind(this),attach:k.attach.bind(this),destroy:k.destroy.bind(this),observers:[]}})},on:{init:function(){this.observer.init()},destroy:function(){this.observer.destroy()}}};var D={lastScrollTime:ee.now(),event:-1<J.navigator.userAgent.indexOf(\"firefox\")?\"DOMMouseScroll\":function(){var e=\"onwheel\",t=e in f;if(!t){var i=f.createElement(\"div\");i.setAttribute(e,\"return;\"),t=\"function\"==typeof i[e]}return!t&&f.implementation&&f.implementation.hasFeature&&!0!==f.implementation.hasFeature(\"\",\"\")&&(t=f.implementation.hasFeature(\"Events.wheel\",\"3.0\")),t}()?\"wheel\":\"mousewheel\",normalize:function(e){var t=0,i=0,s=0,a=0;return\"detail\"in e&&(i=e.detail),\"wheelDelta\"in e&&(i=-e.wheelDelta/120),\"wheelDeltaY\"in e&&(i=-e.wheelDeltaY/120),\"wheelDeltaX\"in e&&(t=-e.wheelDeltaX/120),\"axis\"in e&&e.axis===e.HORIZONTAL_AXIS&&(t=i,i=0),s=10*t,a=10*i,\"deltaY\"in e&&(a=e.deltaY),\"deltaX\"in e&&(s=e.deltaX),(s||a)&&e.deltaMode&&(1===e.deltaMode?(s*=40,a*=40):(s*=800,a*=800)),s&&!t&&(t=s<1?-1:1),a&&!i&&(i=a<1?-1:1),{spinX:t,spinY:i,pixelX:s,pixelY:a}},handleMouseEnter:function(){this.mouseEntered=!0},handleMouseLeave:function(){this.mouseEntered=!1},handle:function(e){var t=e,i=this,s=i.params.mousewheel;if(!i.mouseEntered&&!s.releaseOnEdges)return!0;t.originalEvent&&(t=t.originalEvent);var a=0,r=i.rtlTranslate?-1:1,n=D.normalize(t);if(s.forceToAxis)if(i.isHorizontal()){if(!(Math.abs(n.pixelX)>Math.abs(n.pixelY)))return!0;a=n.pixelX*r}else{if(!(Math.abs(n.pixelY)>Math.abs(n.pixelX)))return!0;a=n.pixelY}else a=Math.abs(n.pixelX)>Math.abs(n.pixelY)?-n.pixelX*r:-n.pixelY;if(0===a)return!0;if(s.invert&&(a=-a),i.params.freeMode){i.params.loop&&i.loopFix();var o=i.getTranslate()+a*s.sensitivity,l=i.isBeginning,d=i.isEnd;if(o>=i.minTranslate()&&(o=i.minTranslate()),o<=i.maxTranslate()&&(o=i.maxTranslate()),i.setTransition(0),i.setTranslate(o),i.updateProgress(),i.updateActiveIndex(),i.updateSlidesClasses(),(!l&&i.isBeginning||!d&&i.isEnd)&&i.updateSlidesClasses(),i.params.freeModeSticky&&(clearTimeout(i.mousewheel.timeout),i.mousewheel.timeout=ee.nextTick(function(){i.slideToClosest()},300)),i.emit(\"scroll\",t),i.params.autoplay&&i.params.autoplayDisableOnInteraction&&i.autoplay.stop(),o===i.minTranslate()||o===i.maxTranslate())return!0}else{if(60<ee.now()-i.mousewheel.lastScrollTime)if(a<0)if(i.isEnd&&!i.params.loop||i.animating){if(s.releaseOnEdges)return!0}else i.slideNext(),i.emit(\"scroll\",t);else if(i.isBeginning&&!i.params.loop||i.animating){if(s.releaseOnEdges)return!0}else i.slidePrev(),i.emit(\"scroll\",t);i.mousewheel.lastScrollTime=(new J.Date).getTime()}return t.preventDefault?t.preventDefault():t.returnValue=!1,!1},enable:function(){var e=this;if(!D.event)return!1;if(e.mousewheel.enabled)return!1;var t=e.$el;return\"container\"!==e.params.mousewheel.eventsTarged&&(t=E(e.params.mousewheel.eventsTarged)),t.on(\"mouseenter\",e.mousewheel.handleMouseEnter),t.on(\"mouseleave\",e.mousewheel.handleMouseLeave),t.on(D.event,e.mousewheel.handle),e.mousewheel.enabled=!0},disable:function(){var e=this;if(!D.event)return!1;if(!e.mousewheel.enabled)return!1;var t=e.$el;return\"container\"!==e.params.mousewheel.eventsTarged&&(t=E(e.params.mousewheel.eventsTarged)),t.off(D.event,e.mousewheel.handle),!(e.mousewheel.enabled=!1)}},z={update:function(){var e=this,t=e.params.navigation;if(!e.params.loop){var i=e.navigation,s=i.$nextEl,a=i.$prevEl;a&&0<a.length&&(e.isBeginning?a.addClass(t.disabledClass):a.removeClass(t.disabledClass),a[e.params.watchOverflow&&e.isLocked?\"addClass\":\"removeClass\"](t.lockClass)),s&&0<s.length&&(e.isEnd?s.addClass(t.disabledClass):s.removeClass(t.disabledClass),s[e.params.watchOverflow&&e.isLocked?\"addClass\":\"removeClass\"](t.lockClass))}},onPrevClick:function(e){e.preventDefault(),this.isBeginning&&!this.params.loop||this.slidePrev()},onNextClick:function(e){e.preventDefault(),this.isEnd&&!this.params.loop||this.slideNext()},init:function(){var e,t,i=this,s=i.params.navigation;(s.nextEl||s.prevEl)&&(s.nextEl&&(e=E(s.nextEl),i.params.uniqueNavElements&&\"string\"==typeof s.nextEl&&1<e.length&&1===i.$el.find(s.nextEl).length&&(e=i.$el.find(s.nextEl))),s.prevEl&&(t=E(s.prevEl),i.params.uniqueNavElements&&\"string\"==typeof s.prevEl&&1<t.length&&1===i.$el.find(s.prevEl).length&&(t=i.$el.find(s.prevEl))),e&&0<e.length&&e.on(\"click\",i.navigation.onNextClick),t&&0<t.length&&t.on(\"click\",i.navigation.onPrevClick),ee.extend(i.navigation,{$nextEl:e,nextEl:e&&e[0],$prevEl:t,prevEl:t&&t[0]}))},destroy:function(){var e=this,t=e.navigation,i=t.$nextEl,s=t.$prevEl;i&&i.length&&(i.off(\"click\",e.navigation.onNextClick),i.removeClass(e.params.navigation.disabledClass)),s&&s.length&&(s.off(\"click\",e.navigation.onPrevClick),s.removeClass(e.params.navigation.disabledClass))}},I={update:function(){var e=this,t=e.rtl,a=e.params.pagination;if(a.el&&e.pagination.el&&e.pagination.$el&&0!==e.pagination.$el.length){var r,i=e.virtual&&e.params.virtual.enabled?e.virtual.slides.length:e.slides.length,s=e.pagination.$el,n=e.params.loop?Math.ceil((i-2*e.loopedSlides)/e.params.slidesPerGroup):e.snapGrid.length;if(e.params.loop?((r=Math.ceil((e.activeIndex-e.loopedSlides)/e.params.slidesPerGroup))>i-1-2*e.loopedSlides&&(r-=i-2*e.loopedSlides),n-1<r&&(r-=n),r<0&&\"bullets\"!==e.params.paginationType&&(r=n+r)):r=void 0!==e.snapIndex?e.snapIndex:e.activeIndex||0,\"bullets\"===a.type&&e.pagination.bullets&&0<e.pagination.bullets.length){var o,l,d,p=e.pagination.bullets;if(a.dynamicBullets&&(e.pagination.bulletSize=p.eq(0)[e.isHorizontal()?\"outerWidth\":\"outerHeight\"](!0),s.css(e.isHorizontal()?\"width\":\"height\",e.pagination.bulletSize*(a.dynamicMainBullets+4)+\"px\"),1<a.dynamicMainBullets&&void 0!==e.previousIndex&&(e.pagination.dynamicBulletIndex+=r-e.previousIndex,e.pagination.dynamicBulletIndex>a.dynamicMainBullets-1?e.pagination.dynamicBulletIndex=a.dynamicMainBullets-1:e.pagination.dynamicBulletIndex<0&&(e.pagination.dynamicBulletIndex=0)),o=r-e.pagination.dynamicBulletIndex,d=((l=o+(Math.min(p.length,a.dynamicMainBullets)-1))+o)/2),p.removeClass(a.bulletActiveClass+\" \"+a.bulletActiveClass+\"-next \"+a.bulletActiveClass+\"-next-next \"+a.bulletActiveClass+\"-prev \"+a.bulletActiveClass+\"-prev-prev \"+a.bulletActiveClass+\"-main\"),1<s.length)p.each(function(e,t){var i=E(t),s=i.index();s===r&&i.addClass(a.bulletActiveClass),a.dynamicBullets&&(o<=s&&s<=l&&i.addClass(a.bulletActiveClass+\"-main\"),s===o&&i.prev().addClass(a.bulletActiveClass+\"-prev\").prev().addClass(a.bulletActiveClass+\"-prev-prev\"),s===l&&i.next().addClass(a.bulletActiveClass+\"-next\").next().addClass(a.bulletActiveClass+\"-next-next\"))});else if(p.eq(r).addClass(a.bulletActiveClass),a.dynamicBullets){for(var u=p.eq(o),c=p.eq(l),h=o;h<=l;h+=1)p.eq(h).addClass(a.bulletActiveClass+\"-main\");u.prev().addClass(a.bulletActiveClass+\"-prev\").prev().addClass(a.bulletActiveClass+\"-prev-prev\"),c.next().addClass(a.bulletActiveClass+\"-next\").next().addClass(a.bulletActiveClass+\"-next-next\")}if(a.dynamicBullets){var v=Math.min(p.length,a.dynamicMainBullets+4),f=(e.pagination.bulletSize*v-e.pagination.bulletSize)/2-d*e.pagination.bulletSize,m=t?\"right\":\"left\";p.css(e.isHorizontal()?m:\"top\",f+\"px\")}}if(\"fraction\"===a.type&&(s.find(\".\"+a.currentClass).text(a.formatFractionCurrent(r+1)),s.find(\".\"+a.totalClass).text(a.formatFractionTotal(n))),\"progressbar\"===a.type){var g;g=a.progressbarOpposite?e.isHorizontal()?\"vertical\":\"horizontal\":e.isHorizontal()?\"horizontal\":\"vertical\";var b=(r+1)/n,w=1,T=1;\"horizontal\"===g?w=b:T=b,s.find(\".\"+a.progressbarFillClass).transform(\"translate3d(0,0,0) scaleX(\"+w+\") scaleY(\"+T+\")\").transition(e.params.speed)}\"custom\"===a.type&&a.renderCustom?(s.html(a.renderCustom(e,r+1,n)),e.emit(\"paginationRender\",e,s[0])):e.emit(\"paginationUpdate\",e,s[0]),s[e.params.watchOverflow&&e.isLocked?\"addClass\":\"removeClass\"](a.lockClass)}},render:function(){var e=this,t=e.params.pagination;if(t.el&&e.pagination.el&&e.pagination.$el&&0!==e.pagination.$el.length){var i=e.virtual&&e.params.virtual.enabled?e.virtual.slides.length:e.slides.length,s=e.pagination.$el,a=\"\";if(\"bullets\"===t.type){for(var r=e.params.loop?Math.ceil((i-2*e.loopedSlides)/e.params.slidesPerGroup):e.snapGrid.length,n=0;n<r;n+=1)t.renderBullet?a+=t.renderBullet.call(e,n,t.bulletClass):a+=\"<\"+t.bulletElement+\\' class=\"\\'+t.bulletClass+\\'\"></\\'+t.bulletElement+\">\";s.html(a),e.pagination.bullets=s.find(\".\"+t.bulletClass)}\"fraction\"===t.type&&(a=t.renderFraction?t.renderFraction.call(e,t.currentClass,t.totalClass):\\'<span class=\"\\'+t.currentClass+\\'\"></span> / <span class=\"\\'+t.totalClass+\\'\"></span>\\',s.html(a)),\"progressbar\"===t.type&&(a=t.renderProgressbar?t.renderProgressbar.call(e,t.progressbarFillClass):\\'<span class=\"\\'+t.progressbarFillClass+\\'\"></span>\\',s.html(a)),\"custom\"!==t.type&&e.emit(\"paginationRender\",e.pagination.$el[0])}},init:function(){var i=this,e=i.params.pagination;if(e.el){var t=E(e.el);0!==t.length&&(i.params.uniqueNavElements&&\"string\"==typeof e.el&&1<t.length&&1===i.$el.find(e.el).length&&(t=i.$el.find(e.el)),\"bullets\"===e.type&&e.clickable&&t.addClass(e.clickableClass),t.addClass(e.modifierClass+e.type),\"bullets\"===e.type&&e.dynamicBullets&&(t.addClass(\"\"+e.modifierClass+e.type+\"-dynamic\"),i.pagination.dynamicBulletIndex=0,e.dynamicMainBullets<1&&(e.dynamicMainBullets=1)),\"progressbar\"===e.type&&e.progressbarOpposite&&t.addClass(e.progressbarOppositeClass),e.clickable&&t.on(\"click\",\".\"+e.bulletClass,function(e){e.preventDefault();var t=E(this).index()*i.params.slidesPerGroup;i.params.loop&&(t+=i.loopedSlides),i.slideTo(t)}),ee.extend(i.pagination,{$el:t,el:t[0]}))}},destroy:function(){var e=this,t=e.params.pagination;if(t.el&&e.pagination.el&&e.pagination.$el&&0!==e.pagination.$el.length){var i=e.pagination.$el;i.removeClass(t.hiddenClass),i.removeClass(t.modifierClass+t.type),e.pagination.bullets&&e.pagination.bullets.removeClass(t.bulletActiveClass),t.clickable&&i.off(\"click\",\".\"+t.bulletClass)}}},O={setTranslate:function(){var e=this;if(e.params.scrollbar.el&&e.scrollbar.el){var t=e.scrollbar,i=e.rtlTranslate,s=e.progress,a=t.dragSize,r=t.trackSize,n=t.$dragEl,o=t.$el,l=e.params.scrollbar,d=a,p=(r-a)*s;i?0<(p=-p)?(d=a-p,p=0):r<-p+a&&(d=r+p):p<0?(d=a+p,p=0):r<p+a&&(d=r-p),e.isHorizontal()?(te.transforms3d?n.transform(\"translate3d(\"+p+\"px, 0, 0)\"):n.transform(\"translateX(\"+p+\"px)\"),n[0].style.width=d+\"px\"):(te.transforms3d?n.transform(\"translate3d(0px, \"+p+\"px, 0)\"):n.transform(\"translateY(\"+p+\"px)\"),n[0].style.height=d+\"px\"),l.hide&&(clearTimeout(e.scrollbar.timeout),o[0].style.opacity=1,e.scrollbar.timeout=setTimeout(function(){o[0].style.opacity=0,o.transition(400)},1e3))}},setTransition:function(e){this.params.scrollbar.el&&this.scrollbar.el&&this.scrollbar.$dragEl.transition(e)},updateSize:function(){var e=this;if(e.params.scrollbar.el&&e.scrollbar.el){var t=e.scrollbar,i=t.$dragEl,s=t.$el;i[0].style.width=\"\",i[0].style.height=\"\";var a,r=e.isHorizontal()?s[0].offsetWidth:s[0].offsetHeight,n=e.size/e.virtualSize,o=n*(r/e.size);a=\"auto\"===e.params.scrollbar.dragSize?r*n:parseInt(e.params.scrollbar.dragSize,10),e.isHorizontal()?i[0].style.width=a+\"px\":i[0].style.height=a+\"px\",s[0].style.display=1<=n?\"none\":\"\",e.params.scrollbar.hide&&(s[0].style.opacity=0),ee.extend(t,{trackSize:r,divider:n,moveDivider:o,dragSize:a}),t.$el[e.params.watchOverflow&&e.isLocked?\"addClass\":\"removeClass\"](e.params.scrollbar.lockClass)}},setDragPosition:function(e){var t,i=this,s=i.scrollbar,a=i.rtlTranslate,r=s.$el,n=s.dragSize,o=s.trackSize;t=((i.isHorizontal()?\"touchstart\"===e.type||\"touchmove\"===e.type?e.targetTouches[0].pageX:e.pageX||e.clientX:\"touchstart\"===e.type||\"touchmove\"===e.type?e.targetTouches[0].pageY:e.pageY||e.clientY)-r.offset()[i.isHorizontal()?\"left\":\"top\"]-n/2)/(o-n),t=Math.max(Math.min(t,1),0),a&&(t=1-t);var l=i.minTranslate()+(i.maxTranslate()-i.minTranslate())*t;i.updateProgress(l),i.setTranslate(l),i.updateActiveIndex(),i.updateSlidesClasses()},onDragStart:function(e){var t=this,i=t.params.scrollbar,s=t.scrollbar,a=t.$wrapperEl,r=s.$el,n=s.$dragEl;t.scrollbar.isTouched=!0,e.preventDefault(),e.stopPropagation(),a.transition(100),n.transition(100),s.setDragPosition(e),clearTimeout(t.scrollbar.dragTimeout),r.transition(0),i.hide&&r.css(\"opacity\",1),t.emit(\"scrollbarDragStart\",e)},onDragMove:function(e){var t=this.scrollbar,i=this.$wrapperEl,s=t.$el,a=t.$dragEl;this.scrollbar.isTouched&&(e.preventDefault?e.preventDefault():e.returnValue=!1,t.setDragPosition(e),i.transition(0),s.transition(0),a.transition(0),this.emit(\"scrollbarDragMove\",e))},onDragEnd:function(e){var t=this,i=t.params.scrollbar,s=t.scrollbar.$el;t.scrollbar.isTouched&&(t.scrollbar.isTouched=!1,i.hide&&(clearTimeout(t.scrollbar.dragTimeout),t.scrollbar.dragTimeout=ee.nextTick(function(){s.css(\"opacity\",0),s.transition(400)},1e3)),t.emit(\"scrollbarDragEnd\",e),i.snapOnRelease&&t.slideToClosest())},enableDraggable:function(){var e=this;if(e.params.scrollbar.el){var t=e.scrollbar,i=e.touchEventsTouch,s=e.touchEventsDesktop,a=e.params,r=t.$el[0],n=!(!te.passiveListener||!a.passiveListeners)&&{passive:!1,capture:!1},o=!(!te.passiveListener||!a.passiveListeners)&&{passive:!0,capture:!1};te.touch?(r.addEventListener(i.start,e.scrollbar.onDragStart,n),r.addEventListener(i.move,e.scrollbar.onDragMove,n),r.addEventListener(i.end,e.scrollbar.onDragEnd,o)):(r.addEventListener(s.start,e.scrollbar.onDragStart,n),f.addEventListener(s.move,e.scrollbar.onDragMove,n),f.addEventListener(s.end,e.scrollbar.onDragEnd,o))}},disableDraggable:function(){var e=this;if(e.params.scrollbar.el){var t=e.scrollbar,i=e.touchEventsTouch,s=e.touchEventsDesktop,a=e.params,r=t.$el[0],n=!(!te.passiveListener||!a.passiveListeners)&&{passive:!1,capture:!1},o=!(!te.passiveListener||!a.passiveListeners)&&{passive:!0,capture:!1};te.touch?(r.removeEventListener(i.start,e.scrollbar.onDragStart,n),r.removeEventListener(i.move,e.scrollbar.onDragMove,n),r.removeEventListener(i.end,e.scrollbar.onDragEnd,o)):(r.removeEventListener(s.start,e.scrollbar.onDragStart,n),f.removeEventListener(s.move,e.scrollbar.onDragMove,n),f.removeEventListener(s.end,e.scrollbar.onDragEnd,o))}},init:function(){var e=this;if(e.params.scrollbar.el){var t=e.scrollbar,i=e.$el,s=e.params.scrollbar,a=E(s.el);e.params.uniqueNavElements&&\"string\"==typeof s.el&&1<a.length&&1===i.find(s.el).length&&(a=i.find(s.el));var r=a.find(\".\"+e.params.scrollbar.dragClass);0===r.length&&(r=E(\\'<div class=\"\\'+e.params.scrollbar.dragClass+\\'\"></div>\\'),a.append(r)),ee.extend(t,{$el:a,el:a[0],$dragEl:r,dragEl:r[0]}),s.draggable&&t.enableDraggable()}},destroy:function(){this.scrollbar.disableDraggable()}},A={run:function(){var e=this,t=e.slides.eq(e.activeIndex),i=e.params.autoplay.delay;t.attr(\"data-swiper-autoplay\")&&(i=t.attr(\"data-swiper-autoplay\")||e.params.autoplay.delay),clearTimeout(e.autoplay.timeout),e.autoplay.timeout=ee.nextTick(function(){e.params.autoplay.reverseDirection?e.params.loop?(e.loopFix(),e.slidePrev(e.params.speed,!0,!0),e.emit(\"autoplay\")):e.isBeginning?e.params.autoplay.stopOnLastSlide?e.autoplay.stop():(e.slideTo(e.slides.length-1,e.params.speed,!0,!0),e.emit(\"autoplay\")):(e.slidePrev(e.params.speed,!0,!0),e.emit(\"autoplay\")):e.params.loop?(e.loopFix(),e.slideNext(e.params.speed,!0,!0),e.emit(\"autoplay\")):e.isEnd?e.params.autoplay.stopOnLastSlide?e.autoplay.stop():(e.slideTo(0,e.params.speed,!0,!0),e.emit(\"autoplay\")):(e.slideNext(e.params.speed,!0,!0),e.emit(\"autoplay\"))},i)},start:function(){var e=this;return void 0===e.autoplay.timeout&&(!e.autoplay.running&&(e.autoplay.running=!0,e.emit(\"autoplayStart\"),e.autoplay.run(),!0))},stop:function(){var e=this;return!!e.autoplay.running&&(void 0!==e.autoplay.timeout&&(e.autoplay.timeout&&(clearTimeout(e.autoplay.timeout),e.autoplay.timeout=void 0),e.autoplay.running=!1,e.emit(\"autoplayStop\"),!0))},pause:function(e){var t=this;t.autoplay.running&&(t.autoplay.paused||(t.autoplay.timeout&&clearTimeout(t.autoplay.timeout),t.autoplay.paused=!0,0!==e&&t.params.autoplay.waitForTransition?(t.$wrapperEl[0].addEventListener(\"transitionend\",t.autoplay.onTransitionEnd),t.$wrapperEl[0].addEventListener(\"webkitTransitionEnd\",t.autoplay.onTransitionEnd)):(t.autoplay.paused=!1,t.autoplay.run())))}},$={setTranslate:function(){for(var e=this,t=e.slides,i=0;i<t.length;i+=1){var s=e.slides.eq(i),a=-s[0].swiperSlideOffset;e.params.virtualTranslate||(a-=e.translate);var r=0;e.isHorizontal()||(r=a,a=0);var n=e.params.fadeEffect.crossFade?Math.max(1-Math.abs(s[0].progress),0):1+Math.min(Math.max(s[0].progress,-1),0);s.css({opacity:n}).transform(\"translate3d(\"+a+\"px, \"+r+\"px, 0px)\")}},setTransition:function(e){var i=this,t=i.slides,s=i.$wrapperEl;if(t.transition(e),i.params.virtualTranslate&&0!==e){var a=!1;t.transitionEnd(function(){if(!a&&i&&!i.destroyed){a=!0,i.animating=!1;for(var e=[\"webkitTransitionEnd\",\"transitionend\"],t=0;t<e.length;t+=1)s.trigger(e[t])}})}}},B={setTranslate:function(){for(var e=this,t=e.width,i=e.height,s=e.slides,a=e.$wrapperEl,r=e.slidesSizesGrid,n=e.params.coverflowEffect,o=e.isHorizontal(),l=e.translate,d=o?t/2-l:i/2-l,p=o?n.rotate:-n.rotate,u=n.depth,c=0,h=s.length;c<h;c+=1){var v=s.eq(c),f=r[c],m=(d-v[0].swiperSlideOffset-f/2)/f*n.modifier,g=o?p*m:0,b=o?0:p*m,w=-u*Math.abs(m),T=o?0:n.stretch*m,x=o?n.stretch*m:0;Math.abs(x)<.001&&(x=0),Math.abs(T)<.001&&(T=0),Math.abs(w)<.001&&(w=0),Math.abs(g)<.001&&(g=0),Math.abs(b)<.001&&(b=0);var C=\"translate3d(\"+x+\"px,\"+T+\"px,\"+w+\"px)  rotateX(\"+b+\"deg) rotateY(\"+g+\"deg)\";if(v.transform(C),v[0].style.zIndex=1-Math.abs(Math.round(m)),n.slideShadows){var y=o?v.find(\".swiper-slide-shadow-left\"):v.find(\".swiper-slide-shadow-top\"),S=o?v.find(\".swiper-slide-shadow-right\"):v.find(\".swiper-slide-shadow-bottom\");0===y.length&&(y=E(\\'<div class=\"swiper-slide-shadow-\\'+(o?\"left\":\"top\")+\\'\"></div>\\'),v.append(y)),0===S.length&&(S=E(\\'<div class=\"swiper-slide-shadow-\\'+(o?\"right\":\"bottom\")+\\'\"></div>\\'),v.append(S)),y.length&&(y[0].style.opacity=0<m?m:0),S.length&&(S[0].style.opacity=0<-m?-m:0)}}(te.pointerEvents||te.prefixedPointerEvents)&&(a[0].style.perspectiveOrigin=d+\"px 50%\")},setTransition:function(e){this.slides.transition(e).find(\".swiper-slide-shadow-top, .swiper-slide-shadow-right, .swiper-slide-shadow-bottom, .swiper-slide-shadow-left\").transition(e)}},V={init:function(){var e=this,t=e.params.thumbs,i=e.constructor;t.swiper instanceof i?(e.thumbs.swiper=t.swiper,ee.extend(e.thumbs.swiper.originalParams,{watchSlidesProgress:!0,slideToClickedSlide:!1}),ee.extend(e.thumbs.swiper.params,{watchSlidesProgress:!0,slideToClickedSlide:!1})):ee.isObject(t.swiper)&&(e.thumbs.swiper=new i(ee.extend({},t.swiper,{watchSlidesVisibility:!0,watchSlidesProgress:!0,slideToClickedSlide:!1})),e.thumbs.swiperCreated=!0),e.thumbs.swiper.$el.addClass(e.params.thumbs.thumbsContainerClass),e.thumbs.swiper.on(\"tap\",e.thumbs.onThumbClick)},onThumbClick:function(){var e=this,t=e.thumbs.swiper;if(t){var i=t.clickedIndex,s=t.clickedSlide;if(!(s&&E(s).hasClass(e.params.thumbs.slideThumbActiveClass)||null==i)){var a;if(a=t.params.loop?parseInt(E(t.clickedSlide).attr(\"data-swiper-slide-index\"),10):i,e.params.loop){var r=e.activeIndex;e.slides.eq(r).hasClass(e.params.slideDuplicateClass)&&(e.loopFix(),e._clientLeft=e.$wrapperEl[0].clientLeft,r=e.activeIndex);var n=e.slides.eq(r).prevAll(\\'[data-swiper-slide-index=\"\\'+a+\\'\"]\\').eq(0).index(),o=e.slides.eq(r).nextAll(\\'[data-swiper-slide-index=\"\\'+a+\\'\"]\\').eq(0).index();a=void 0===n?o:void 0===o?n:o-r<r-n?o:n}e.slideTo(a)}}},update:function(e){var t=this,i=t.thumbs.swiper;if(i){var s=\"auto\"===i.params.slidesPerView?i.slidesPerViewDynamic():i.params.slidesPerView;if(t.realIndex!==i.realIndex){var a,r=i.activeIndex;if(i.params.loop){i.slides.eq(r).hasClass(i.params.slideDuplicateClass)&&(i.loopFix(),i._clientLeft=i.$wrapperEl[0].clientLeft,r=i.activeIndex);var n=i.slides.eq(r).prevAll(\\'[data-swiper-slide-index=\"\\'+t.realIndex+\\'\"]\\').eq(0).index(),o=i.slides.eq(r).nextAll(\\'[data-swiper-slide-index=\"\\'+t.realIndex+\\'\"]\\').eq(0).index();a=void 0===n?o:void 0===o?n:o-r==r-n?r:o-r<r-n?o:n}else a=t.realIndex;i.visibleSlidesIndexes&&i.visibleSlidesIndexes.indexOf(a)<0&&(i.params.centeredSlides?a=r<a?a-Math.floor(s/2)+1:a+Math.floor(s/2)-1:r<a&&(a=a-s+1),i.slideTo(a,e?0:void 0))}var l=1,d=t.params.thumbs.slideThumbActiveClass;if(1<t.params.slidesPerView&&!t.params.centeredSlides&&(l=t.params.slidesPerView),i.slides.removeClass(d),i.params.loop)for(var p=0;p<l;p+=1)i.$wrapperEl.children(\\'[data-swiper-slide-index=\"\\'+(t.realIndex+p)+\\'\"]\\').addClass(d);else for(var u=0;u<l;u+=1)i.slides.eq(t.realIndex+u).addClass(d)}}},N=[y,S,M,P,L,{name:\"autoplay\",params:{autoplay:{enabled:!1,delay:3e3,waitForTransition:!0,disableOnInteraction:!0,stopOnLastSlide:!1,reverseDirection:!1}},create:function(){var t=this;ee.extend(t,{autoplay:{running:!1,paused:!1,run:A.run.bind(t),start:A.start.bind(t),stop:A.stop.bind(t),pause:A.pause.bind(t),onTransitionEnd:function(e){t&&!t.destroyed&&t.$wrapperEl&&e.target===this&&(t.$wrapperEl[0].removeEventListener(\"transitionend\",t.autoplay.onTransitionEnd),t.$wrapperEl[0].removeEventListener(\"webkitTransitionEnd\",t.autoplay.onTransitionEnd),t.autoplay.paused=!1,t.autoplay.running?t.autoplay.run():t.autoplay.stop())}}})},on:{init:function(){this.params.autoplay.enabled&&this.autoplay.start()},beforeTransitionStart:function(e,t){this.autoplay.running&&(t||!this.params.autoplay.disableOnInteraction?this.autoplay.pause(e):this.autoplay.stop())},sliderFirstMove:function(){this.autoplay.running&&(this.params.autoplay.disableOnInteraction?this.autoplay.stop():this.autoplay.pause())},destroy:function(){this.autoplay.running&&this.autoplay.stop()}}},{name:\"mousewheel\",params:{mousewheel:{enabled:!1,releaseOnEdges:!1,invert:!1,forceToAxis:!1,sensitivity:1,eventsTarged:\"container\"}},create:function(){var e=this;ee.extend(e,{mousewheel:{enabled:!1,enable:D.enable.bind(e),disable:D.disable.bind(e),handle:D.handle.bind(e),handleMouseEnter:D.handleMouseEnter.bind(e),handleMouseLeave:D.handleMouseLeave.bind(e),lastScrollTime:ee.now()}})},on:{init:function(){this.params.mousewheel.enabled&&this.mousewheel.enable()},destroy:function(){this.mousewheel.enabled&&this.mousewheel.disable()}}},{name:\"navigation\",params:{navigation:{nextEl:null,prevEl:null,hideOnClick:!1,disabledClass:\"swiper-button-disabled\",hiddenClass:\"swiper-button-hidden\",lockClass:\"swiper-button-lock\"}},create:function(){var e=this;ee.extend(e,{navigation:{init:z.init.bind(e),update:z.update.bind(e),destroy:z.destroy.bind(e),onNextClick:z.onNextClick.bind(e),onPrevClick:z.onPrevClick.bind(e)}})},on:{init:function(){this.navigation.init(),this.navigation.update()},toEdge:function(){this.navigation.update()},fromEdge:function(){this.navigation.update()},destroy:function(){this.navigation.destroy()},click:function(e){var t,i=this,s=i.navigation,a=s.$nextEl,r=s.$prevEl;!i.params.navigation.hideOnClick||E(e.target).is(r)||E(e.target).is(a)||(a?t=a.hasClass(i.params.navigation.hiddenClass):r&&(t=r.hasClass(i.params.navigation.hiddenClass)),!0===t?i.emit(\"navigationShow\",i):i.emit(\"navigationHide\",i),a&&a.toggleClass(i.params.navigation.hiddenClass),r&&r.toggleClass(i.params.navigation.hiddenClass))}}},{name:\"pagination\",params:{pagination:{el:null,bulletElement:\"span\",clickable:!1,hideOnClick:!1,renderBullet:null,renderProgressbar:null,renderFraction:null,renderCustom:null,progressbarOpposite:!1,type:\"bullets\",dynamicBullets:!1,dynamicMainBullets:1,formatFractionCurrent:function(e){return e},formatFractionTotal:function(e){return e},bulletClass:\"swiper-pagination-bullet\",bulletActiveClass:\"swiper-pagination-bullet-active\",modifierClass:\"swiper-pagination-\",currentClass:\"swiper-pagination-current\",totalClass:\"swiper-pagination-total\",hiddenClass:\"swiper-pagination-hidden\",progressbarFillClass:\"swiper-pagination-progressbar-fill\",progressbarOppositeClass:\"swiper-pagination-progressbar-opposite\",clickableClass:\"swiper-pagination-clickable\",lockClass:\"swiper-pagination-lock\"}},create:function(){var e=this;ee.extend(e,{pagination:{init:I.init.bind(e),render:I.render.bind(e),update:I.update.bind(e),destroy:I.destroy.bind(e),dynamicBulletIndex:0}})},on:{init:function(){this.pagination.init(),this.pagination.render(),this.pagination.update()},activeIndexChange:function(){this.params.loop?this.pagination.update():void 0===this.snapIndex&&this.pagination.update()},snapIndexChange:function(){this.params.loop||this.pagination.update()},slidesLengthChange:function(){this.params.loop&&(this.pagination.render(),this.pagination.update())},snapGridLengthChange:function(){this.params.loop||(this.pagination.render(),this.pagination.update())},destroy:function(){this.pagination.destroy()},click:function(e){var t=this;t.params.pagination.el&&t.params.pagination.hideOnClick&&0<t.pagination.$el.length&&!E(e.target).hasClass(t.params.pagination.bulletClass)&&(!0===t.pagination.$el.hasClass(t.params.pagination.hiddenClass)?t.emit(\"paginationShow\",t):t.emit(\"paginationHide\",t),t.pagination.$el.toggleClass(t.params.pagination.hiddenClass))}}},{name:\"scrollbar\",params:{scrollbar:{el:null,dragSize:\"auto\",hide:!1,draggable:!1,snapOnRelease:!0,lockClass:\"swiper-scrollbar-lock\",dragClass:\"swiper-scrollbar-drag\"}},create:function(){var e=this;ee.extend(e,{scrollbar:{init:O.init.bind(e),destroy:O.destroy.bind(e),updateSize:O.updateSize.bind(e),setTranslate:O.setTranslate.bind(e),setTransition:O.setTransition.bind(e),enableDraggable:O.enableDraggable.bind(e),disableDraggable:O.disableDraggable.bind(e),setDragPosition:O.setDragPosition.bind(e),onDragStart:O.onDragStart.bind(e),onDragMove:O.onDragMove.bind(e),onDragEnd:O.onDragEnd.bind(e),isTouched:!1,timeout:null,dragTimeout:null}})},on:{init:function(){this.scrollbar.init(),this.scrollbar.updateSize(),this.scrollbar.setTranslate()},update:function(){this.scrollbar.updateSize()},resize:function(){this.scrollbar.updateSize()},observerUpdate:function(){this.scrollbar.updateSize()},setTranslate:function(){this.scrollbar.setTranslate()},setTransition:function(e){this.scrollbar.setTransition(e)},destroy:function(){this.scrollbar.destroy()}}},{name:\"thumbs\",params:{thumbs:{swiper:null,slideThumbActiveClass:\"swiper-slide-thumb-active\",thumbsContainerClass:\"swiper-container-thumbs\"}},create:function(){ee.extend(this,{thumbs:{swiper:null,init:V.init.bind(this),update:V.update.bind(this),onThumbClick:V.onThumbClick.bind(this)}})},on:{beforeInit:function(){var e=this.params.thumbs;e&&e.swiper&&(this.thumbs.init(),this.thumbs.update(!0))},slideChange:function(){this.thumbs.swiper&&this.thumbs.update()},update:function(){this.thumbs.swiper&&this.thumbs.update()},resize:function(){this.thumbs.swiper&&this.thumbs.update()},observerUpdate:function(){this.thumbs.swiper&&this.thumbs.update()},setTransition:function(e){var t=this.thumbs.swiper;t&&t.setTransition(e)},beforeDestroy:function(){var e=this.thumbs.swiper;e&&this.thumbs.swiperCreated&&e&&e.destroy()}}},{name:\"effect-fade\",params:{fadeEffect:{crossFade:!1}},create:function(){ee.extend(this,{fadeEffect:{setTranslate:$.setTranslate.bind(this),setTransition:$.setTransition.bind(this)}})},on:{beforeInit:function(){var e=this;if(\"fade\"===e.params.effect){e.classNames.push(e.params.containerModifierClass+\"fade\");var t={slidesPerView:1,slidesPerColumn:1,slidesPerGroup:1,watchSlidesProgress:!0,spaceBetween:0,virtualTranslate:!0};ee.extend(e.params,t),ee.extend(e.originalParams,t)}},setTranslate:function(){\"fade\"===this.params.effect&&this.fadeEffect.setTranslate()},setTransition:function(e){\"fade\"===this.params.effect&&this.fadeEffect.setTransition(e)}}},{name:\"effect-coverflow\",params:{coverflowEffect:{rotate:50,stretch:0,depth:100,modifier:1,slideShadows:!0}},create:function(){ee.extend(this,{coverflowEffect:{setTranslate:B.setTranslate.bind(this),setTransition:B.setTransition.bind(this)}})},on:{beforeInit:function(){var e=this;\"coverflow\"===e.params.effect&&(e.classNames.push(e.params.containerModifierClass+\"coverflow\"),e.classNames.push(e.params.containerModifierClass+\"3d\"),e.params.watchSlidesProgress=!0,e.originalParams.watchSlidesProgress=!0)},setTranslate:function(){\"coverflow\"===this.params.effect&&this.coverflowEffect.setTranslate()},setTransition:function(e){\"coverflow\"===this.params.effect&&this.coverflowEffect.setTransition(e)}}}];return void 0===C.use&&(C.use=C.Class.use,C.installModule=C.Class.installModule),C.use(N),C});\\n\\n\\nfunction DOM_HH_Ready() {\\n    var tmpl_hh_slider1 = new Swiper(\\'.tmpl_hh_sliderPhoto .swiper-container\\', {\\n        loop: true,\\n        speed: 600,\\n        autoplay: {\\n            disableOnInteraction: false,\\n            delay: 5000\\n        },\\n        pagination: {\\n            el: \\'.tmpl_hh_sliderPhoto .swiper-pagination\\',\\n            type: \\'bullets\\',\\n            clickable: true\\t\\n        },\\n        navigation: {\\n            nextEl: \\'.tmpl_hh_sliderPhoto .swiper-button-next\\',\\n            prevEl: \\'.tmpl_hh_sliderPhoto .swiper-button-prev\\'\\n        },\\n        breakpoints: {\\n            699: {\\n                autoplay: false\\n            }\\n        }\\n    });\\n}\\n\\nif (document.readyState === \"loading\") {\\n    document.addEventListener(\"DOMContentLoaded\", DOM_HH_Ready);\\n} else {\\n    DOM_HH_Ready();\\n}//\\n</script>\\n\\n<div class=\"tmpl_hh_wrapper\">\\n    <div class=\"tmpl_hh_header\">\\n        <video poster=\"https://hhcdn.ru/ichameleon/275756.jpg\" autoplay=\"autoplay\" loop=\"loop\" muted=\"muted\" preload=\"auto\" playsinline=\"playsinline\"> \\n            <source src=\"https://hhcdn.ru/file/17575667.mp4\" type=\\'video/mp4; codecs=\"avc1.42E01E, mp4a.40.2\"\\'></source> \\n            <source src=\"https://hhcdn.ru/file/17575668.webm\" type=\\'video/webm; codecs=\"vp8, vorbis\"\\'></source>\\n        </video>\\n    </div>\\n    <div class=\"tmpl_hh_content\">\\n       <p><strong><strong>Еще в детстве ты представлял себя продавцом, играя во дворе с листьями-деньгами? Закрой гештальт и оставляй отклик</strong></strong>❤</p> <p><strong><strong>От нас:</strong></strong></p> <ul> <li>все официально, белая зарплата каждые 2 недели</li> <li>work-life balance c гибким графиком 3/4 или 4/3 (вс, пн, вт, ср)</li> <li>аутфиты со скидкой 50% на ZARINA, Befree, LOVE REPUBLIC, Sela, IDOL</li> <li>за деньги - да! бонус за приведенных в бренд друзей</li> <li>новые скиллы в Онлайн Академии ZARINA (это база)</li> <li>surprise surprise - быстрый карьерный рост и поддержка руководителя</li> </ul> <p><strong><strong>Твой рабочий день (не </strong></strong><strong><strong>pov</strong></strong><strong><strong>, а рил):</strong></strong></p> <ul> <li>поддерживаешь командный вайб</li> <li>локации - торговый зал, примерочные, касса</li> </ul> <p><strong><strong>Круто, если ты:</strong></strong></p> <ul> <li>открыт к общению (тебя боится социофобия)</li> <li>следишь за трендами</li> <li>стремишься к развитию в сфере fashion (по возможности)</li> </ul> <p><strong><strong>НАПИШИ НАМ</strong></strong><strong><strong>!</strong></strong></p></div>\\n\\n    <div class=\"tmpl_hh_footer tmpl_hh_flex\">\\n        <div class=\"tmpl_hh_footer__logo\"><img src=\"https://hhcdn.ru/ichameleon/306077.png\" alt=\"\"></div>\\n        <p class=\"tmpl_hh_footer__text\">Melon Fashion Group — крупный ретейлер России. В\\xa0портфель компании входят пять брендов: ZARINA, Befree, LOVE REPUBLIC, sela и\\xa0IDOL.\\n</p>\\n    </div>\\n</div>\\n\\n', key_skills='Работа в команде Коммуникабельность Розничная торговля', professional_roles='Продавец-консультант, продавец-кассир')\n",
            "ошибка при записи в БД - UNIQUE constraint failed: vacancies.id\n",
            "UNIQUE constraint failed: vacancies.id\n"
          ]
        },
        {
          "output_type": "stream",
          "name": "stderr",
          "text": [
            "\r  2%|▏         | 2/100 [00:00<00:40,  2.42it/s]"
          ]
        },
        {
          "output_type": "stream",
          "name": "stdout",
          "text": [
            "vacancy - Vacancy(id=92481763, name='Дизайнер-консультант в ТК «МЕБЕЛЬВУД»', description='<p><strong>Mr</strong><strong>.</strong><strong>Doors – это синоним качества. Стань частью команды Mr.</strong><strong>Doors!</strong></p> <p><strong>Мы гарантируем:</strong></p> <p>- Работу в салоне с высоким входящим трафиком. Мы находим клиентов – вы просто занимаетесь любимым делом;</p> <p>- Оплачиваемое обучение и повышенный оклад <strong>на первые 9 месяцев </strong>работы в компании;</p> <p>- Отсутствие &quot;потолка&quot; в доходе;</p> <p>- Графики работы 3/2, 4/2;</p> <p>- Оформление по ТК РФ (выплату заработной платы 2 раза в месяц).</p> <p><strong>Если говорить о Mr.Doors в цифрах:</strong></p> <p>Мы 26 лет на рынке, осчастливили более 975 000 клиентов и открыли свыше 150 салонов по РФ.</p> <p><strong>Клиенты нас любят, потому что:</strong></p> <p>- У нас потрясающие качество продукции;</p> <p>- Инновационный дизайн;</p> <p>- Высокий уровень сервиса.</p> <p><em>76% клиентов совершают повторную покупку, 98% рекомендуют нас своим друзьям и знакомым.</em></p> <p><strong>Что нужно делать:</strong></p> <p>- Консультировать и проводить переговоры с клиентами;</p> <p>- Создавать дизайн-проекты мебели для всех жилых зон;</p> <p>- Оформлять пакет документов по проекту;</p> <p>- Выполнять личный план продаж.</p> <p><strong>От вас мы ожидаем:</strong></p> <p>- Опыт работы от 1 года в сфере продаж;</p> <p>- Знания графических программ желательны, но не обязательны (если вы уверенный пользователь ПК, мы всему вас научим!);</p> <p>- Стремление к развитию и самосовершенствованию.</p> <p><strong>Оставляйте отклик и становитесь частью дружной, творческой команды!</strong></p> <p>HR ❤ вас</p>', branded_description=None, key_skills='Деловое общение Дизайн B2C продажи Навыки продаж Ориентация на результат', professional_roles='Продавец-консультант, продавец-кассир')\n",
            "ошибка при записи в БД - UNIQUE constraint failed: vacancies.id\n",
            "UNIQUE constraint failed: vacancies.id\n"
          ]
        },
        {
          "output_type": "stream",
          "name": "stderr",
          "text": [
            "100%|██████████| 100/100 [00:27<00:00,  3.64it/s]\n",
            "100%|██████████| 100/100 [00:32<00:00,  3.12it/s]\n",
            "100%|██████████| 100/100 [00:35<00:00,  2.81it/s]\n",
            "100%|██████████| 100/100 [00:34<00:00,  2.86it/s]\n",
            "100%|██████████| 100/100 [00:34<00:00,  2.92it/s]\n",
            "100%|██████████| 100/100 [00:28<00:00,  3.56it/s]\n",
            "100%|██████████| 100/100 [00:28<00:00,  3.49it/s]\n",
            "100%|██████████| 41/41 [00:12<00:00,  3.17it/s]\n",
            "0it [00:00, ?it/s]\n",
            "0it [00:00, ?it/s]\n",
            "0it [00:00, ?it/s]\n",
            "0it [00:00, ?it/s]\n",
            "0it [00:00, ?it/s]\n",
            "0it [00:00, ?it/s]\n"
          ]
        },
        {
          "output_type": "stream",
          "name": "stdout",
          "text": [
            "вакансий получено - 765\n",
            "вакансий пропущено - 573\n",
            "вакансий с ошибкой - 1\n",
            "('https://api.hh.ru/vacancies?area=1&metro=2.80', 1356)\n",
            "number url - 854\n",
            "размер массива (64734, 1)\n",
            "total_pages - 20\n"
          ]
        },
        {
          "output_type": "stream",
          "name": "stderr",
          "text": [
            "100%|██████████| 100/100 [00:21<00:00,  4.68it/s]\n",
            "100%|██████████| 100/100 [00:25<00:00,  3.89it/s]\n",
            " 36%|███▌      | 36/100 [00:12<00:39,  1.62it/s]"
          ]
        },
        {
          "output_type": "stream",
          "name": "stdout",
          "text": [
            "captcha_required\n"
          ]
        },
        {
          "output_type": "stream",
          "name": "stderr",
          "text": [
            " 78%|███████▊  | 78/100 [00:20<00:06,  3.16it/s]"
          ]
        },
        {
          "output_type": "stream",
          "name": "stdout",
          "text": [
            "captcha_required\n"
          ]
        },
        {
          "output_type": "stream",
          "name": "stderr",
          "text": [
            "100%|██████████| 100/100 [00:26<00:00,  3.81it/s]\n",
            "100%|██████████| 100/100 [00:27<00:00,  3.64it/s]\n",
            "100%|██████████| 100/100 [00:21<00:00,  4.55it/s]\n",
            " 53%|█████▎    | 53/100 [00:11<00:23,  1.99it/s]"
          ]
        },
        {
          "output_type": "stream",
          "name": "stdout",
          "text": [
            "captcha_required\n"
          ]
        },
        {
          "output_type": "stream",
          "name": "stderr",
          "text": [
            "100%|██████████| 100/100 [00:21<00:00,  4.65it/s]\n",
            "100%|██████████| 100/100 [00:24<00:00,  4.09it/s]\n",
            "100%|██████████| 100/100 [00:33<00:00,  3.01it/s]\n",
            "100%|██████████| 100/100 [00:30<00:00,  3.27it/s]\n",
            "  3%|▎         | 3/100 [00:01<00:38,  2.50it/s]"
          ]
        },
        {
          "output_type": "stream",
          "name": "stdout",
          "text": [
            "vacancy - Vacancy(id=92482930, name='Младший научный сотрудник Научно-методического отдела', description='<p>ФАУ «Единый институт пространственного планирования РФ» в связи с увеличением количества проектов и расширением штата приглашает принять участие в отборе на вакансию <strong>Младший научный сотрудник Научно-методического отдела.</strong></p> <p> </p> <p>Мы активно развиваемся и ищем талантливых научных сотрудников, желающих реализовывать свой потенциал вместе с нами.</p> <p> </p> <p><strong>Чем предстоит заниматься:</strong></p> <p> </p> <ul> <li>Участие в разработке новаторских методов, алгоритмов и подходов, направленных на совершенствование процесса градостроительного проектирования</li> <li>Участие в разработке документов стратегического и пространственного планирования</li> <li>Анализ передовых отечественных и зарубежных методов планирования градостроительного развития территорий</li> <li>Участие в разработке нормативных документов в области градостроительства</li> <li>Обработка, анализ, систематизация статистических данных</li> <li>Подбор и анализ нормативно-правовых актов (НПА), научно-методической и прочей документации (в том числе зарубежной) для выполнения научно-исследовательских работ</li> <li>Участие в подготовке аналитических записок, отчетов, презентаций по результатам выполненных исследовательских работ</li> <li>Взаимодействие со всеми структурными подразделениями, включая смежные</li> <li>Участие в написании научно-исследовательских работ, научных и научно-популярных статей</li> <li>Иные поручения руководителя/наставника, помощь другим сотрудникам отдела</li> </ul> <p> </p> <p><strong>Для успешной работы необходимо:</strong></p> <p> </p> <ul> <li>Высшее образование по направлениям: градостроительство, экономическая география, экономика в градостроительстве, экономика народного хозяйства</li> </ul> <p>Приоритетные вузы: ВШЭ, МГУ, МАРХИ, МАДИ, РЭУ им. Плеханова, РАНХиГС, МГСУ и аналогичные</p> <ul> <li>Наличие образования в области экономики народного хозяйства или градостроительства является преимуществом</li> <li>Приветствуется обучение в аспирантуре наличие ученой степени</li> <li>Навыки структурирования, оформления и подачи аналитической информации</li> <li>Хорошее владение английским языком — В2 и выше</li> <li>Хороший уровень владения Microsoft Office (Word, Excel, Power Point). Excel на уровне формул (логические, математические, статистические)</li> <li>Навыки работы в геоинформационных системах (Mapinfo, QGIS, ArcGIS и другие) являются дополнительным преимуществом</li> </ul> <p> </p> <p><em>Мы благодарим Вас за проявленный интерес к нашей вакансии. Ваше резюме будет рассмотрено в течение 7 дней. Если Ваш опыт работы и квалификация соответствуют требованиям к вакансии, мы с Вами свяжемся.</em></p> <p> </p>', branded_description=None, key_skills='', professional_roles='Научный специалист, исследователь')\n",
            "ошибка при записи в БД - UNIQUE constraint failed: vacancies.id\n",
            "UNIQUE constraint failed: vacancies.id\n"
          ]
        },
        {
          "output_type": "stream",
          "name": "stderr",
          "text": [
            "100%|██████████| 100/100 [00:33<00:00,  3.02it/s]\n",
            "100%|██████████| 100/100 [00:27<00:00,  3.58it/s]\n",
            "100%|██████████| 100/100 [00:29<00:00,  3.41it/s]\n",
            "100%|██████████| 100/100 [00:36<00:00,  2.74it/s]\n",
            "100%|██████████| 40/40 [00:12<00:00,  3.29it/s]\n",
            "0it [00:00, ?it/s]\n",
            "0it [00:00, ?it/s]\n",
            "0it [00:00, ?it/s]\n",
            "0it [00:00, ?it/s]\n",
            "0it [00:00, ?it/s]\n",
            "0it [00:00, ?it/s]\n"
          ]
        },
        {
          "output_type": "stream",
          "name": "stdout",
          "text": [
            "вакансий получено - 738\n",
            "вакансий пропущено - 598\n",
            "вакансий с ошибкой - 3\n",
            "('https://api.hh.ru/vacancies?area=1&metro=1.60', 1353)\n",
            "number url - 853\n",
            "размер массива (65472, 1)\n",
            "total_pages - 20\n"
          ]
        },
        {
          "output_type": "stream",
          "name": "stderr",
          "text": [
            "100%|██████████| 100/100 [00:46<00:00,  2.15it/s]\n",
            " 21%|██        | 21/100 [00:12<01:27,  1.10s/it]"
          ]
        },
        {
          "output_type": "stream",
          "name": "stdout",
          "text": [
            "captcha_required\n"
          ]
        },
        {
          "output_type": "stream",
          "name": "stderr",
          "text": [
            "\r 22%|██▏       | 22/100 [00:14<01:54,  1.47s/it]"
          ]
        },
        {
          "output_type": "stream",
          "name": "stdout",
          "text": [
            "captcha_required\n"
          ]
        },
        {
          "output_type": "stream",
          "name": "stderr",
          "text": [
            "100%|██████████| 100/100 [00:51<00:00,  1.95it/s]\n",
            "  1%|          | 1/100 [00:00<00:56,  1.76it/s]"
          ]
        },
        {
          "output_type": "stream",
          "name": "stdout",
          "text": [
            "vacancy - Vacancy(id=96173183, name='PHP-разработчик', description='<p>PHP-разработчик (офис/гибрид)</p> <p><strong>О компании:</strong> ЭлЖур - это IT-компания, разрабатывающая <strong>информационную систему учета успеваемости - электронный журнал для школ и электронный дневник для учеников и родителей</strong>. Мы стремимся не просто автоматизировать выставление оценок и запись домашних заданий, но и решить повседневные задачи всех участников образовательного процесса, а также наладить связь родителей, учеников с сотрудниками школы. C нами работает более <strong>5000</strong> школ по всей России, каждый день с нашей помощью выставляется более 600 тысяч оценок. Среди наших клиентов ведущие школы, гимназии и лицеи РФ: Школа Летово, Школа Сотрудничества, Лицей Национального исследовательского университета &quot;Высшая школа экономики&quot; (НИУ &quot;ВШЭ&quot;), Лицей №1511 при Московском инженерно-физическом институте (МИФИ), ФизТех Лицей им. Капицы и многие другие.</p> <p><strong>Наши ценности:</strong></p> <ul> <li><strong>Профессионализм: </strong>мы эффективно выполняем свою работу с высоким результатом благодаря отличному знанию своей специальности и умению глубоко погрузиться в задачу.</li> <li><strong>Лидерство: </strong>мы опережаем другие компании на рынке через создание превосходных отличий и конкурентных преимуществ.</li> <li><strong>Честность и ответственность: </strong>мы правдивы; искренни, надежны в делах и не используем двойные стандарты.</li> <li><strong>Взаимовыручка:</strong> мы помогаем друг другу, работая на общий результат.</li> </ul> <p><strong>Чем предстоит заниматься:</strong></p> <ul> <li>Разработка серверной части приложения.</li> <li>Проектирование API.</li> <li>Оптимизация работы приложения.</li> </ul> <p><strong>Мы используем:</strong></p> <ul> <li>PHP 7, Laravel, Twig, Guzzle, PHPStan, Deployer.</li> <li>MySQL 8, Redis.</li> <li>Vue.js, Vuex, Yarn, Lodash, Font Awesome Pro, ESLint.</li> <li>GitLab, Drone CI, Redmine.</li> </ul> <p><strong>Наши пожелания:</strong></p> <ul> <li>Опыт разработки на PHP от 1 года.</li> <li>Опыт работы с MySQL или PostgreSQL.</li> <li>Умение писать запросы и использования любой ORM.</li> <li>Навыки работы с Git.</li> <li>Опыт фронтенд-разработки, представление о Highload и об уязвимостях веб-приложений будут плюсом.</li> </ul> <p><strong>Мы предлагаем:</strong></p> <ul> <li><strong>Аккредитованная</strong> <strong>ИТ Компания</strong>, предоставляющая право подачи документов на <strong>отсрочку от мобилизации</strong> для профильных ИТ специалистов в соответствии с приказом!</li> <li>Интересную и динамичную работу в стабильной компании с 10-ти летней историей.</li> <li>Корпоративные мероприятия.</li> <li>Чай/кофе, кухня в офисе.</li> <li>Офис компании находится в 8-минутах пешком от метро Красносельская/Сокольники. Бизнес-центр класса В+.</li> <li>Полное соответствие ТК РФ.</li> <li>Белую заработную плату.</li> <li>Выплаты 2 раза в месяц, без задержек.</li> <li>График работы: 5/2, выходные - суббота и воскресенье.</li> <li>Формат на выбор: офис или гибридный.</li> <li>Гибкое начало рабочего дня: 8:00-11:00.</li> <li>Очень сплоченную команду, где развиты черты взаимного уважения и взаимовыручки.</li> <li>Возможность профессионального и карьерного развития в рамках масштабных и интересных проектов; уровень задач предполагает постоянное развитие и обучение.</li> <li>Возможность выступлений на профессиональных конференциях.</li> </ul>', branded_description=None, key_skills='PHP MySQL Laravel Vue.js Git Twig Redis Docker', professional_roles='Программист, разработчик')\n",
            "ошибка при записи в БД - UNIQUE constraint failed: vacancies.id\n",
            "UNIQUE constraint failed: vacancies.id\n"
          ]
        },
        {
          "output_type": "stream",
          "name": "stderr",
          "text": [
            " 44%|████▍     | 44/100 [00:22<01:00,  1.08s/it]"
          ]
        },
        {
          "output_type": "stream",
          "name": "stdout",
          "text": [
            "captcha_required\n"
          ]
        },
        {
          "output_type": "stream",
          "name": "stderr",
          "text": [
            "\r 45%|████▌     | 45/100 [00:24<01:19,  1.44s/it]"
          ]
        },
        {
          "output_type": "stream",
          "name": "stdout",
          "text": [
            "captcha_required\n"
          ]
        },
        {
          "output_type": "stream",
          "name": "stderr",
          "text": [
            "100%|██████████| 100/100 [00:52<00:00,  1.89it/s]\n",
            "100%|██████████| 100/100 [00:49<00:00,  2.02it/s]\n",
            "100%|██████████| 100/100 [00:50<00:00,  1.99it/s]\n",
            "  1%|          | 1/100 [00:00<00:33,  2.93it/s]"
          ]
        },
        {
          "output_type": "stream",
          "name": "stdout",
          "text": [
            "vacancy - Vacancy(id=95059872, name='Администратор', description='<p><strong>ВНИМАНИЕ! </strong><strong>Конкурс на вакансию открыт до 10 апреля 2024 г.</strong></p> <p>В связи:</p> <p>- масштабированием и открытием второго салона;</p> <p>- ростом количества новых клиентов</p> <p>Открыли набор <strong>самых заряженных сотрудников!!</strong></p> <p>Мы ищем <strong>талантливого администратора </strong>с возможностью карьерного роста, который умеет слушать клиентов и анализировать свои действия.</p> <p><strong>О компании:</strong></p> <p>На рынке более 20 лет. Своя уникальная запатентованная технология!<br />Революционное окрашивание и стрижка. Забота о людях!</p> <p><strong>МЫ РАДЫ ВИДЕТЬ:</strong></p> <ul> <li>жизнерадостных;</li> <li>активных;</li> <li>открытых;</li> <li>благодарных;</li> <li>доброжелательных;</li> <li>аккуратных и внимательных;</li> <li>обращаем внимание на внешний вид и грамотную речь;</li> <li>огромное желание движа в жизни, за который получают более чем адекватную зарплату;</li> <li>готовых брать ответственность за результат – тоже в копилку.</li> </ul> <p><strong>Наши ценности:</strong></p> <ul> <li>обучаемся -&gt; растем -&gt; зарабатываем -&gt; получаем дивиденды;</li> <li>искреннее отношение к жизни;</li> <li>благодарность.</li> </ul> <p><strong>Что мы имеем в арсенале:</strong></p> <ul> <li>Стабильная заработная плата: оклад + % с продаж, KPI (прозрачная система мотивации), премии за активную и результативную работу. Без задержек!</li> <li>Локация – 7-10 минут метро (Красносельская/Бауманская), бесплатная парковка;</li> <li>Вторая локация - 13 минут МЦК ЗИЛ (станция метро Автозаводская/Тульская)</li> <li>Гибкий график работы;</li> <li>Обучение с нуля по собственным уникальным методикам (учеба, за которую платят) - мы заинтересованы в росте своих сотрудников;</li> <li>Мы понимаем, что в жизни все открывается другими ключами, поэтому навык стрессоустойчивости для нас не важен;</li> <li>Красивый европейский офис;</li> <li>Нет текучки;</li> <li>Мы слышим сотрудников;</li> <li>Семейная атмосфера в коллективе;</li> <li>Экологичная компания;</li> <li>Незанудное руководство;</li> <li>Качественный чай, кофе, какао, ежедневные вкусные ништяки;</li> <li>Умеем хорошо работать и хорошо отдыхать;</li> <li>Можно выглядеть стильно, не тратясь (обслуживание в салоне обязательно!!!);</li> <li>Наше окружение - топовые клиенты, у которых есть чему поучиться.</li> </ul> <p><strong>Чем нужно будет заниматься:</strong></p> <ul> <li>Помогать администраторам в работе с клиентами в соответствии с полученными знаниями своего уровня.</li> <li>Работа с программой (обучаем). Обучение засчет компании - мы ЗАИНТЕРЕСОВАНЫ в своих сотрудниках.</li> <li> <p>Вежливость и забота к гостям салона.</p> </li> <li> <p>Включенность.</p> </li> <li> <p>Участие в целом процессе.</p> </li> <li> <p>Личностная прокачка.</p> </li> </ul> <p><strong>Вашим преимуществом будет:</strong></p> <ul> <li>Целеустремленность;</li> <li>Чистая речь;</li> <li>Открытость;</li> <li>Готовность к переменам в жизни;</li> <li>Горящие глаза;</li> <li>Энтузиазм;</li> <li>Жажда знаний;</li> <li>Умение работать в команде;</li> <li>Умение вести телефонные переговоры;</li> <li>Брать на себя ответственность.</li> </ul> <p>Место работы: г. Москва, Спартаковский переулок 2к1, вход 9, этаж 4, салон «Блондон»</p> <p>г.Москва, ул.Архитектора Щусева 5к1 (МЦК ЗИЛ), салон «Блондон»</p> <p>И теперь, если Вы внимательно прочитали данную вакансию и решили, с нами работать, начните свое сопроводительное письмо со слов: «Я готов стать частью команды Блондон!» А также напишите, почему мы должны взять именно Вас. Так мы поймём, что Вы внимательный кандидат.</p> <p><strong>ВНИМАНИЕ!!! </strong><strong>Конкурс на вакансию открыт до 10 апреля 2024 г.</strong></p> <ul> </ul> <ul> </ul>', branded_description=None, key_skills='Грамотная речь Обучение и развитие Телефонные переговоры Навыки переговоров Работа в команде Администрирование Клиентоориентированность Ориентация на клиента Ведение переписки Ответственность Организаторские навыки', professional_roles='Администратор')\n",
            "ошибка при записи в БД - UNIQUE constraint failed: vacancies.id\n",
            "UNIQUE constraint failed: vacancies.id\n"
          ]
        },
        {
          "output_type": "stream",
          "name": "stderr",
          "text": [
            " 34%|███▍      | 34/100 [00:17<01:06,  1.01s/it]"
          ]
        },
        {
          "output_type": "stream",
          "name": "stdout",
          "text": [
            "captcha_required\n"
          ]
        },
        {
          "output_type": "stream",
          "name": "stderr",
          "text": [
            "100%|██████████| 100/100 [00:50<00:00,  1.99it/s]\n",
            "100%|██████████| 100/100 [00:49<00:00,  2.04it/s]\n",
            "100%|██████████| 100/100 [00:42<00:00,  2.36it/s]\n",
            " 53%|█████▎    | 53/100 [00:25<00:46,  1.01it/s]"
          ]
        },
        {
          "output_type": "stream",
          "name": "stdout",
          "text": [
            "captcha_required\n"
          ]
        },
        {
          "output_type": "stream",
          "name": "stderr",
          "text": [
            "100%|██████████| 100/100 [00:48<00:00,  2.07it/s]\n",
            "100%|██████████| 100/100 [00:49<00:00,  2.01it/s]\n",
            "  1%|          | 1/100 [00:00<00:35,  2.80it/s]"
          ]
        },
        {
          "output_type": "stream",
          "name": "stdout",
          "text": [
            "vacancy - Vacancy(id=86055400, name='Программист Си (embedded)', description='<p><strong>Мы ООО &quot;ИТСофт&quot;</strong> - компания, которая входит в состав ГК &quot;Имформтехника&quot;.</p> <p>Мы - разработчики телекоммуникационного оборудования для построения комплексных систем связи. Разработка полного цикла, включающая аппаратные решения и программное обеспечения различных уровней взаимодействия с аппаратной платформой. Наши основные заказчики - это государственные и квазигосударственные предприятия и монополии, силовые ведомства.</p> <p><strong>Профессиональные навыки и умения:</strong></p> <p>- знание С/С++ (опыт работы от 3 лет)</p> <p>- опыт разработки модулей ядра linux</p> <p>- опыт работы с Ethernet</p> <p>- опыт разработки встроенного ПО</p> <p>- владение средствами сборки программного обеспечения make, cmake и др.</p> <p>- умение работать с системами контроля версий (Git/SVN)</p> <p>- знание сетевой модели OSI и опыт работы с сетевыми протоколами</p> <p>- опыт работы с buildroot</p> <p><strong>Дополнительным плюсом будет:</strong></p> <p>- знание сетевой модели OSI и опыт работы с сетевыми протоколами</p> <p>- опыт работы с PCI-e, I2C, SPI</p> <p>- опыт работы с buildroot</p> <p>- технический английский, умение работать со сложной технической документацией</p> <p>- знание принципов построения сетей связи и телекоммуникационных протоколов</p> <p><strong>Обязанности</strong>:</p> <p>Разработка программного обеспечения для встроенных систем и активного сетевого оборудования</p> <p><strong>Условия:</strong></p> <p>Белая зарплата</p> <p>Удобное расположение офиса м. Красносельская или м. Комсомольская</p>', branded_description=None, key_skills='', professional_roles='Программист, разработчик')\n",
            "ошибка при записи в БД - UNIQUE constraint failed: vacancies.id\n",
            "UNIQUE constraint failed: vacancies.id\n"
          ]
        },
        {
          "output_type": "stream",
          "name": "stderr",
          "text": [
            " 95%|█████████▌| 95/100 [00:43<00:04,  1.21it/s]"
          ]
        },
        {
          "output_type": "stream",
          "name": "stdout",
          "text": [
            "captcha_required\n"
          ]
        },
        {
          "output_type": "stream",
          "name": "stderr",
          "text": [
            "100%|██████████| 100/100 [00:46<00:00,  2.14it/s]\n",
            "100%|██████████| 100/100 [00:49<00:00,  2.02it/s]\n",
            "100%|██████████| 100/100 [00:50<00:00,  1.98it/s]\n",
            "100%|██████████| 25/25 [00:10<00:00,  2.33it/s]\n",
            "0it [00:00, ?it/s]\n",
            "0it [00:00, ?it/s]\n",
            "0it [00:00, ?it/s]\n",
            "0it [00:00, ?it/s]\n",
            "0it [00:00, ?it/s]\n",
            "0it [00:00, ?it/s]\n"
          ]
        },
        {
          "output_type": "stream",
          "name": "stdout",
          "text": [
            "вакансий получено - 1251\n",
            "вакансий пропущено - 64\n",
            "вакансий с ошибкой - 7\n",
            "('https://api.hh.ru/vacancies?area=1&metro=9.9', 1352)\n",
            "number url - 852\n",
            "размер массива (66723, 1)\n",
            "total_pages - 20\n"
          ]
        },
        {
          "output_type": "stream",
          "name": "stderr",
          "text": [
            "100%|██████████| 100/100 [00:49<00:00,  2.04it/s]\n",
            " 21%|██        | 21/100 [00:11<01:25,  1.09s/it]"
          ]
        },
        {
          "output_type": "stream",
          "name": "stdout",
          "text": [
            "captcha_required\n"
          ]
        },
        {
          "output_type": "stream",
          "name": "stderr",
          "text": [
            "100%|██████████| 100/100 [00:50<00:00,  1.98it/s]\n",
            "100%|██████████| 100/100 [00:51<00:00,  1.96it/s]\n",
            "100%|██████████| 100/100 [00:50<00:00,  1.98it/s]\n",
            "100%|██████████| 100/100 [00:52<00:00,  1.92it/s]\n",
            "100%|██████████| 100/100 [00:56<00:00,  1.76it/s]\n",
            "100%|██████████| 100/100 [00:58<00:00,  1.71it/s]\n",
            "100%|██████████| 100/100 [00:57<00:00,  1.74it/s]\n",
            "100%|██████████| 100/100 [00:58<00:00,  1.70it/s]\n",
            "100%|██████████| 100/100 [00:56<00:00,  1.78it/s]\n",
            "100%|██████████| 100/100 [00:55<00:00,  1.79it/s]\n",
            "100%|██████████| 100/100 [00:54<00:00,  1.85it/s]\n",
            "100%|██████████| 100/100 [00:58<00:00,  1.71it/s]\n",
            "100%|██████████| 42/42 [00:26<00:00,  1.56it/s]\n",
            "0it [00:00, ?it/s]\n",
            "0it [00:00, ?it/s]\n",
            "0it [00:00, ?it/s]\n",
            "0it [00:00, ?it/s]\n",
            "0it [00:00, ?it/s]\n",
            "0it [00:00, ?it/s]\n"
          ]
        },
        {
          "output_type": "stream",
          "name": "stdout",
          "text": [
            "вакансий получено - 1327\n",
            "вакансий пропущено - 14\n",
            "вакансий с ошибкой - 1\n",
            "('https://api.hh.ru/vacancies?area=2&metro=16.604', 1345)\n",
            "number url - 851\n",
            "размер массива (68050, 1)\n",
            "total_pages - 20\n"
          ]
        },
        {
          "output_type": "stream",
          "name": "stderr",
          "text": [
            " 12%|█▏        | 12/100 [00:05<00:40,  2.18it/s]"
          ]
        }
      ],
      "source": [
        "for ind in range(len(modified_urls) - 65, 0, -1):\n",
        "  url = modified_urls[ind]\n",
        "  print(url)\n",
        "  print(f'number url - {ind}')\n",
        "  fetch_vacancies(url[0])"
      ],
      "id": "r3d3O0L0GR6P"
    },
    {
      "cell_type": "code",
      "source": [
        "from google.colab import drive\n",
        "drive.mount('/content/drive')"
      ],
      "metadata": {
        "colab": {
          "base_uri": "https://localhost:8080/"
        },
        "id": "LOdsuoUdr6JZ",
        "outputId": "0914b01a-b5e1-4f81-e165-8e5166a23841"
      },
      "id": "LOdsuoUdr6JZ",
      "execution_count": 6,
      "outputs": [
        {
          "output_type": "stream",
          "name": "stdout",
          "text": [
            "Drive already mounted at /content/drive; to attempt to forcibly remount, call drive.mount(\"/content/drive\", force_remount=True).\n"
          ]
        }
      ]
    },
    {
      "cell_type": "code",
      "execution_count": null,
      "metadata": {
        "colab": {
          "base_uri": "https://localhost:8080/"
        },
        "id": "yJFuRV60GR6Q",
        "outputId": "5711fab0-bced-49b3-9e5c-3f9f75e74a63"
      },
      "outputs": [
        {
          "output_type": "execute_result",
          "data": {
            "text/plain": [
              "True"
            ]
          },
          "metadata": {},
          "execution_count": 75
        }
      ],
      "source": [
        "sqlite3_adapter.read()['id'].isin([93487881]).any()"
      ],
      "id": "yJFuRV60GR6Q"
    },
    {
      "cell_type": "code",
      "execution_count": null,
      "metadata": {
        "id": "x1C2S83vGR6Q"
      },
      "outputs": [],
      "source": [
        "\n",
        "target_url = 'https://api.hh.ru/vacancies'\n",
        "json = requests.get(target_url, {'clusters': True}).json()\n",
        "\n",
        "clusters = json['clusters']\n",
        "areas = clusters[0].get('items')\n",
        "\n",
        "vacancy_urls = []\n",
        "params_path = ['area', 'metro', 'professional_role', '']\n",
        "\n",
        "# получаем выборку по всем регионам\n",
        "# убираем регион Россия\n",
        "# сортируем записи, где кол-во меньше 2000\n",
        "# по оставшимся получаем выборку по каждому региону\n",
        "# проверяем есть ли в выборке метро\n",
        "# если есть получаем выборку по каждой станции\n",
        "# если нет получаем выборку по профессион роли\n",
        "# сортируем записи метро, где кол-во меньше 2000\n",
        "# по оставшимся получаем выборку по каждой станции и по проф роли\n",
        "\n",
        "# for area in areas:\n",
        "#     if area['name'] == 'Россия':\n",
        "#         continue\n",
        "\n",
        "#     if area['count'] <= 2000:\n",
        "#         vacancy_urls.append(area['url'])\n",
        "#     else:\n",
        "#         json_area = requests.get(area['url']).json()\n",
        "\n",
        "#         for i in json_area:\n",
        "#             if i['count'] <= 2000:\n",
        "#                 vacancy_urls.append(i['url'])\n",
        "\n",
        "\n",
        "\n",
        "\n",
        "# for num in range(num_pages):\n",
        "#     page_data = requests.get(target_url, {'page': num, 'clusters': True}).json()\n",
        "#     if 'items' not in page_data:\n",
        "#         break\n",
        "\n",
        "#     ids.extend(i['id'] for i in page_data['items'])"
      ],
      "id": "x1C2S83vGR6Q"
    },
    {
      "cell_type": "code",
      "execution_count": null,
      "metadata": {
        "id": "StR1GURVGR6R"
      },
      "outputs": [],
      "source": [
        "vacancy_list = []\n",
        "with ThreadPoolExecutor(max_workers=4) as executor:\n",
        "    for vacancy in tqdm(executor.map(get_vacancy, ids), ncols=100, total=len(ids)):\n",
        "        vacancy_list.append(vacancy)\n"
      ],
      "id": "StR1GURVGR6R"
    },
    {
      "cell_type": "code",
      "execution_count": null,
      "metadata": {
        "id": "PMu1QzU-GR6R"
      },
      "outputs": [],
      "source": [
        "json['items'][3]"
      ],
      "id": "PMu1QzU-GR6R"
    }
  ],
  "metadata": {
    "kernelspec": {
      "display_name": "Python 3",
      "language": "python",
      "name": "python3"
    },
    "language_info": {
      "codemirror_mode": {
        "name": "ipython",
        "version": 3
      },
      "file_extension": ".py",
      "mimetype": "text/x-python",
      "name": "python",
      "nbconvert_exporter": "python",
      "pygments_lexer": "ipython3",
      "version": "3.7.0"
    },
    "colab": {
      "provenance": [],
      "include_colab_link": true
    }
  },
  "nbformat": 4,
  "nbformat_minor": 5
}