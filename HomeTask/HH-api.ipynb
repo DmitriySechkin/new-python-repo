{
 "cells": [
  {
   "cell_type": "markdown",
   "metadata": {},
   "source": [
    "<a target=\"_blank\" href=\"https://colab.research.google.com/github/da-python/new-modul-python/blob/main/Lesson2/hometask/HH-api-hometask.ipynb\">\n"
   ]
  },
  {
   "cell_type": "markdown",
   "metadata": {},
   "source": [
    "<a target=\"_blank\" href=\"https://colab.research.google.com/github/da-python/new-modul-python/blob/main/Lesson2/hometask/HH-api-hometask.ipynb\">\n",
    "  <img src=\"https://colab.research.google.com/assets/colab-badge.svg\" alt=\"Open In Colab\"/>\n",
    "</a>"
   ]
  },
  {
   "cell_type": "markdown",
   "metadata": {},
   "source": [
    "# Задание\n",
    "* Cкачайте все вакансии СБЕРа в Москве api hh.ru (https://github.com/hhru/api у апи есть ограничение в 2000, если будет мешать, попробуйте его обойти)\n",
    "* Извлеките все полные описания этих вакансий по запросу с https://api.hh.ru/vacancies/43326020 где 43326020 id вакансии\n",
    "* Создайте DataFrame в котором будут даты публикации вакансий, названия, описания,только добавьте поле ключевые навыки\n"
   ]
  },
  {
   "cell_type": "code",
   "execution_count": 3,
   "metadata": {
    "ExecuteTime": {
     "end_time": "2023-12-07T13:38:49.302534Z",
     "start_time": "2023-12-07T13:38:49.293072Z"
    }
   },
   "outputs": [],
   "source": [
    "import requests\n",
    "from tqdm.auto import tqdm"
   ]
  },
  {
   "cell_type": "code",
   "execution_count": 4,
   "metadata": {
    "ExecuteTime": {
     "end_time": "2023-12-07T13:38:50.105371Z",
     "start_time": "2023-12-07T13:38:50.089077Z"
    }
   },
   "outputs": [],
   "source": [
    "sber = '3529'\n",
    "page = 1\n",
    "num_per_page = 100\n",
    "moscow = 1\n",
    "url = f'https://api.hh.ru/vacancies?employer_id={sber}&page={page}&per_page={num_per_page}&area={moscow}'"
   ]
  },
  {
   "cell_type": "code",
   "execution_count": 5,
   "metadata": {
    "ExecuteTime": {
     "end_time": "2023-12-07T13:38:52.344008Z",
     "start_time": "2023-12-07T13:38:51.561157Z"
    }
   },
   "outputs": [
    {
     "data": {
      "text/plain": "16"
     },
     "execution_count": 5,
     "metadata": {},
     "output_type": "execute_result"
    }
   ],
   "source": [
    "res = requests.get(url)\n",
    "vacancies = res.json()\n",
    "num_pages = vacancies.get('pages')\n",
    "num_pages"
   ]
  },
  {
   "cell_type": "code",
   "execution_count": 6,
   "metadata": {
    "ExecuteTime": {
     "end_time": "2023-12-07T13:38:54.000891Z",
     "start_time": "2023-12-07T13:38:53.995174Z"
    }
   },
   "outputs": [],
   "source": [
    "vacancies = res.json()\n",
    "num_pages = vacancies.get('pages')\n",
    "vacancy_ids = [el.get('id') for el in vacancies.get('items')]"
   ]
  },
  {
   "cell_type": "code",
   "execution_count": 7,
   "metadata": {
    "ExecuteTime": {
     "end_time": "2023-12-07T13:38:56.759453Z",
     "start_time": "2023-12-07T13:38:56.750514Z"
    }
   },
   "outputs": [
    {
     "data": {
      "text/plain": "dict_keys(['items', 'found', 'pages', 'page', 'per_page', 'clusters', 'arguments', 'fixes', 'suggests', 'alternate_url'])"
     },
     "execution_count": 7,
     "metadata": {},
     "output_type": "execute_result"
    }
   ],
   "source": [
    "vacancies.keys()"
   ]
  },
  {
   "cell_type": "code",
   "execution_count": 8,
   "outputs": [],
   "source": [
    "pages = vacancies.get('pages')"
   ],
   "metadata": {
    "collapsed": false,
    "ExecuteTime": {
     "end_time": "2023-12-07T13:39:39.072365Z",
     "start_time": "2023-12-07T13:39:39.062112Z"
    }
   }
  },
  {
   "cell_type": "code",
   "execution_count": 9,
   "outputs": [
    {
     "data": {
      "text/plain": "16"
     },
     "execution_count": 9,
     "metadata": {},
     "output_type": "execute_result"
    }
   ],
   "source": [
    "pages"
   ],
   "metadata": {
    "collapsed": false,
    "ExecuteTime": {
     "end_time": "2023-12-07T13:39:55.564258Z",
     "start_time": "2023-12-07T13:39:55.553099Z"
    }
   }
  },
  {
   "cell_type": "code",
   "execution_count": 10,
   "metadata": {
    "ExecuteTime": {
     "end_time": "2023-12-07T13:40:07.601942Z",
     "start_time": "2023-12-07T13:40:05.157448Z"
    }
   },
   "outputs": [
    {
     "data": {
      "text/plain": "  0%|          | 0/3 [00:00<?, ?it/s]",
      "application/vnd.jupyter.widget-view+json": {
       "version_major": 2,
       "version_minor": 0,
       "model_id": "64917aecb10b489985685e9d10518af5"
      }
     },
     "metadata": {},
     "output_type": "display_data"
    }
   ],
   "source": [
    "all_vacancy_ids= []\n",
    "for i in tqdm(range(pages)[:3]):\n",
    "    url = f'https://api.hh.ru/vacancies?employer_id={sber}&page={i}&per_page={num_per_page}&area={moscow}'\n",
    "    res = requests.get(url)\n",
    "    vacancies = res.json()\n",
    "    vacancy_ids = [el.get('id') for el in vacancies.get('items')]\n",
    "    all_vacancy_ids.extend(vacancy_ids)"
   ]
  },
  {
   "cell_type": "code",
   "execution_count": 11,
   "metadata": {
    "ExecuteTime": {
     "end_time": "2023-12-07T13:40:09.023521Z",
     "start_time": "2023-12-07T13:40:09.010188Z"
    }
   },
   "outputs": [
    {
     "data": {
      "text/plain": "300"
     },
     "execution_count": 11,
     "metadata": {},
     "output_type": "execute_result"
    }
   ],
   "source": [
    "len(all_vacancy_ids)"
   ]
  },
  {
   "cell_type": "code",
   "execution_count": 13,
   "outputs": [
    {
     "data": {
      "text/plain": "['90433682',\n '90432505',\n '90402590',\n '90400658',\n '90428587',\n '90442506',\n '90212697',\n '88818100',\n '90400872',\n '90409887']"
     },
     "execution_count": 13,
     "metadata": {},
     "output_type": "execute_result"
    }
   ],
   "source": [
    "all_vacancy_ids[:10]"
   ],
   "metadata": {
    "collapsed": false,
    "ExecuteTime": {
     "end_time": "2023-12-07T13:40:25.551358Z",
     "start_time": "2023-12-07T13:40:25.543165Z"
    }
   }
  },
  {
   "cell_type": "code",
   "execution_count": 2,
   "metadata": {},
   "outputs": [],
   "source": [
    "vac_id = 43326020\n",
    "url = f'https://api.hh.ru/vacancies/{vac_id}'\n",
    "res = requests.get(url)\n",
    "vacancy = res.json()\n"
   ]
  },
  {
   "cell_type": "code",
   "execution_count": 3,
   "metadata": {},
   "outputs": [
    {
     "data": {
      "text/plain": [
       "{'id': '43326020',\n",
       " 'premium': False,\n",
       " 'billing_type': {'id': 'standard', 'name': 'Стандарт'},\n",
       " 'relations': [],\n",
       " 'name': 'Специалист по экономической безопасности',\n",
       " 'insider_interview': None,\n",
       " 'response_letter_required': False,\n",
       " 'area': {'id': '1', 'name': 'Москва', 'url': 'https://api.hh.ru/areas/1'},\n",
       " 'salary': None,\n",
       " 'type': {'id': 'open', 'name': 'Открытая'},\n",
       " 'address': None,\n",
       " 'allow_messages': True,\n",
       " 'experience': {'id': 'between1And3', 'name': 'От 1 года до 3 лет'},\n",
       " 'schedule': {'id': 'fullDay', 'name': 'Полный день'},\n",
       " 'employment': {'id': 'full', 'name': 'Полная занятость'},\n",
       " 'department': {'id': '3529-3529-prof', 'name': 'Сбер для экспертов'},\n",
       " 'contacts': None,\n",
       " 'description': '<p><strong>Обязанности:</strong></p> <p> </p> <ul> <li>Поиск и анализ информации в отношении клиентов/контрагентов Банка для оценки уровня кредитных рисков, рисков деловой репутации, иных рисков сотрудничества с контрагентами, в т.ч. в рамках закупочных процедур, реализации строительных программ, благотворительной деятельности и пр.;</li> <li>Мониторинг показателей отрасли и прогноз возможных рисковых событий;</li> <li>Подготовка заявительских материалов в правоохранительные органы по фактам/попыткам нанесения ущерба Банку;</li> <li>Исполнение запросов, поступающих от правоохранительных органов;</li> <li>Подготовка экспертного мнения при проведении служебных расследований;</li> <li>Подготовка предложений по оптимизации и совершенствованию бизнес-процессов</li> <li>Информационная поддержка бизнеса;</li> <li>Экспертная оценка жалоб и заявлений клиентов Банка;</li> <li>Подготовка предложений по разработкам/доработкам АБС Банка и ПСИ;</li> </ul> <p> </p> <p><strong>Требования:</strong></p> <p> </p> <ul> <li>Высшее образование;</li> <li>Опыт работы в сфере кредитование/андеррайтинг по направлению «Корпоративные клиенты»;</li> <li>Опыт кросс-блокового взаимодействия в Банке (согласование ВНД, процессов и т.п.);</li> <li>Знание основ кредитования различных продуктовых групп Банка в корпоративном кредитовании и понимание принципов структурирования сделок;</li> <li>Знание основ бухгалтерского учета, умение анализировать показатели финансово-хозяйственной деятельности клиентов;</li> <li>Понимание правовых основ гражданского и корпоративного права, процессуальных процедур банкротства, уголовного преследования, споров в арбитраже и судах общей юрисдикции;</li> <li>Опыт работы с формализованными (банковскими и сторонними АС) и неформализованными источниками данных;</li> <li>Умение находить связи между компаниями и/или физическими лицами;</li> <li>Опыт по розыску активов, опыту работы с forensic-моделями – приветствуется;</li> <li>Умение анализировать отчеты профильных служб (строительных, юридических экспертиз, экспертизы рисков) – приветствуется;</li> <li>Знание иностранного языка на уровне intermediate – приветствуется;</li> </ul> <p> </p> <p><strong>Условия:</strong></p> <p> </p> <ul> <li>Работа в крупнейшем банке России;</li> <li>Трудоустройство согласно ТК РФ;</li> <li>Регулярное корпоративное обучение;</li> <li>ДМС, страхование от несчастных случаев и тяжелых заболеваний;</li> <li>Материальная помощь и социальная поддержка, корпоративная пенсионная программа;</li> <li>Льготные условия кредитования;</li> <li>Яркая и насыщенная корпоративная жизнь.</li> </ul> <p> </p> <ul> </ul>',\n",
       " 'branded_description': None,\n",
       " 'vacancy_constructor_template': None,\n",
       " 'key_skills': [],\n",
       " 'accept_handicapped': False,\n",
       " 'accept_kids': False,\n",
       " 'archived': True,\n",
       " 'response_url': None,\n",
       " 'specializations': [],\n",
       " 'professional_roles': [{'id': '120',\n",
       "   'name': 'Специалист службы безопасности'}],\n",
       " 'code': None,\n",
       " 'hidden': False,\n",
       " 'quick_responses_allowed': False,\n",
       " 'driver_license_types': [],\n",
       " 'accept_incomplete_resumes': False,\n",
       " 'employer': {'id': '3529',\n",
       "  'name': 'СБЕР',\n",
       "  'url': 'https://api.hh.ru/employers/3529',\n",
       "  'alternate_url': 'https://hh.ru/employer/3529',\n",
       "  'logo_urls': {'240': 'https://hhcdn.ru/employer-logo/5756157.png',\n",
       "   '90': 'https://hhcdn.ru/employer-logo/5756156.png',\n",
       "   'original': 'https://hhcdn.ru/employer-logo-original/1033849.png'},\n",
       "  'vacancies_url': 'https://api.hh.ru/vacancies?employer_id=3529',\n",
       "  'trusted': True},\n",
       " 'published_at': '2021-03-24T17:46:03+0300',\n",
       " 'created_at': '2021-03-24T17:46:03+0300',\n",
       " 'initial_created_at': '2021-03-24T17:46:03+0300',\n",
       " 'negotiations_url': None,\n",
       " 'suitable_resumes_url': None,\n",
       " 'apply_alternate_url': 'https://hh.ru/applicant/vacancy_response?vacancyId=43326020',\n",
       " 'has_test': False,\n",
       " 'test': None,\n",
       " 'alternate_url': 'https://hh.ru/vacancy/43326020',\n",
       " 'working_days': [],\n",
       " 'working_time_intervals': [],\n",
       " 'working_time_modes': [],\n",
       " 'accept_temporary': False,\n",
       " 'languages': []}"
      ]
     },
     "execution_count": 3,
     "metadata": {},
     "output_type": "execute_result"
    }
   ],
   "source": [
    "vacancy"
   ]
  },
  {
   "cell_type": "code",
   "execution_count": null,
   "metadata": {},
   "outputs": [],
   "source": []
  },
  {
   "cell_type": "code",
   "execution_count": null,
   "metadata": {},
   "outputs": [],
   "source": []
  },
  {
   "cell_type": "code",
   "execution_count": null,
   "metadata": {},
   "outputs": [],
   "source": []
  },
  {
   "cell_type": "code",
   "execution_count": null,
   "metadata": {},
   "outputs": [],
   "source": []
  }
 ],
 "metadata": {
  "kernelspec": {
   "display_name": "Python 3 (ipykernel)",
   "language": "python",
   "name": "python3"
  },
  "language_info": {
   "codemirror_mode": {
    "name": "ipython",
    "version": 3
   },
   "file_extension": ".py",
   "mimetype": "text/x-python",
   "name": "python",
   "nbconvert_exporter": "python",
   "pygments_lexer": "ipython3",
   "version": "3.9.13"
  }
 },
 "nbformat": 4,
 "nbformat_minor": 4
}
